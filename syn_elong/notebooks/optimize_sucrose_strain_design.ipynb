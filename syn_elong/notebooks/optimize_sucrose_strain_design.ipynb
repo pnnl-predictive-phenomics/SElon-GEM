{
 "cells": [
  {
   "cell_type": "code",
   "execution_count": 1,
   "metadata": {
    "pycharm": {
     "is_executing": true,
     "name": "#%%\n"
    }
   },
   "outputs": [],
   "source": [
    "# %load_ext autoreload\n",
    "# %autoreload 2\n",
    "# import os\n",
    "# os.environ['JAVA_HOME'] = r'C:\\Program Files\\Java\\jdk-17'\n",
    "import straindesign as sd\n",
    "import straindesign.names as names"
   ]
  },
  {
   "cell_type": "code",
   "execution_count": 2,
   "metadata": {
    "pycharm": {
     "name": "#%%\n"
    }
   },
   "outputs": [],
   "source": [
    "import numpy as np\n",
    "import matplotlib.pyplot as plt\n",
    "import cobra\n",
    "import logging\n",
    "logging.basicConfig(level=logging.INFO)\n",
    "import pandas as pd\n",
    "pd.set_option('display.float_format', lambda x: f'{x:.3f}')"
   ]
  },
  {
   "cell_type": "code",
   "execution_count": 3,
   "metadata": {
    "pycharm": {
     "name": "#%%\n"
    }
   },
   "outputs": [
    {
     "name": "stdout",
     "output_type": "stream",
     "text": [
      "Set parameter Username\n"
     ]
    },
    {
     "name": "stderr",
     "output_type": "stream",
     "text": [
      "INFO:gurobipy.gurobipy:Set parameter Username\n"
     ]
    },
    {
     "name": "stdout",
     "output_type": "stream",
     "text": [
      "Set parameter GURO_PAR_SPECIAL\n"
     ]
    },
    {
     "name": "stderr",
     "output_type": "stream",
     "text": [
      "INFO:gurobipy.gurobipy:Set parameter GURO_PAR_SPECIAL\n"
     ]
    },
    {
     "name": "stdout",
     "output_type": "stream",
     "text": [
      "Set parameter TokenServer to value \"leghorn\"\n"
     ]
    },
    {
     "name": "stderr",
     "output_type": "stream",
     "text": [
      "INFO:gurobipy.gurobipy:Set parameter TokenServer to value \"leghorn\"\n"
     ]
    }
   ],
   "source": [
    "from syn_elong import model\n",
    "from syn_elong.media import m9_media"
   ]
  },
  {
   "cell_type": "code",
   "execution_count": 4,
   "metadata": {
    "pycharm": {
     "name": "#%%\n"
    }
   },
   "outputs": [
    {
     "name": "stderr",
     "output_type": "stream",
     "text": [
      "INFO:cobra.medium.boundary_types:Compartment `e` sounds like an external compartment. Using this one without counting boundary reactions.\n"
     ]
    },
    {
     "name": "stdout",
     "output_type": "stream",
     "text": [
      "Read LP format model from file C:\\Users\\pino216\\AppData\\Local\\Temp\\tmpykpmgaij.lp\n"
     ]
    },
    {
     "name": "stderr",
     "output_type": "stream",
     "text": [
      "INFO:gurobipy.gurobipy:Read LP format model from file C:\\Users\\pino216\\AppData\\Local\\Temp\\tmpykpmgaij.lp\n"
     ]
    },
    {
     "name": "stdout",
     "output_type": "stream",
     "text": [
      "Reading time = 0.04 seconds\n"
     ]
    },
    {
     "name": "stderr",
     "output_type": "stream",
     "text": [
      "INFO:gurobipy.gurobipy:Reading time = 0.04 seconds\n"
     ]
    },
    {
     "name": "stdout",
     "output_type": "stream",
     "text": [
      ": 893 rows, 1952 columns, 7974 nonzeros\n"
     ]
    },
    {
     "name": "stderr",
     "output_type": "stream",
     "text": [
      "INFO:gurobipy.gurobipy:: 893 rows, 1952 columns, 7974 nonzeros\n"
     ]
    }
   ],
   "source": [
    "model.medium = m9_media\n",
    "consistent_model = cobra.flux_analysis.fastcc(model)\n",
    "consistent_model.mediu = m9_media"
   ]
  },
  {
   "cell_type": "code",
   "execution_count": 5,
   "metadata": {
    "pycharm": {
     "name": "#%%\n"
    }
   },
   "outputs": [
    {
     "name": "stderr",
     "output_type": "stream",
     "text": [
      "INFO:cobra.medium.boundary_types:Compartment `e` sounds like an external compartment. Using this one without counting boundary reactions.\n",
      "INFO:cobra.medium.boundary_types:Compartment `e` sounds like an external compartment. Using this one without counting boundary reactions.\n"
     ]
    },
    {
     "name": "stdout",
     "output_type": "stream",
     "text": [
      "Maximum possible BIOMASS__1 synthesis rate: 4.088280273582666.\n",
      "Maximum possible EX_sucr_e synthesis rate: 16.389121923937367.\n",
      "Maximum possible BIOMASS__1 synthesis rate: 4.088280273582658.\n",
      "Maximum possible EX_sucr_e synthesis rate: 16.38912192393736.\n"
     ]
    }
   ],
   "source": [
    "with model:\n",
    "    model.medium = m9_media\n",
    "    sol = sd.fba(model, obj='BIOMASS__1', obj_sense='max', pfba =False)\n",
    "    print(f\"Maximum possible BIOMASS__1 synthesis rate: {sol.objective_value}.\")\n",
    "    sol = sd.fba(model, obj='EX_sucr_e', obj_sense='max', pfba =False)\n",
    "    print(f\"Maximum possible EX_sucr_e synthesis rate: {sol.objective_value}.\")\n",
    "with consistent_model as m:\n",
    "    m.medium = m9_media\n",
    "    sol = sd.fba(m, obj='BIOMASS__1', obj_sense='max', pfba =False)\n",
    "    print(f\"Maximum possible BIOMASS__1 synthesis rate: {sol.objective_value}.\")\n",
    "    sol = sd.fba(m, obj='EX_sucr_e', obj_sense='max', pfba =False)\n",
    "    print(f\"Maximum possible EX_sucr_e synthesis rate: {sol.objective_value}.\")"
   ]
  },
  {
   "cell_type": "code",
   "execution_count": 6,
   "metadata": {
    "pycharm": {
     "name": "#%%\n"
    }
   },
   "outputs": [
    {
     "data": {
      "image/png": "[encoded data removed]",
      "text/plain": [
       "<Figure size 640x480 with 1 Axes>"
      ]
     },
     "metadata": {},
     "output_type": "display_data"
    }
   ],
   "source": [
    "datapoints, triang, plot1 = sd.plot_flux_space(\n",
    "    model,\n",
    "    ('BIOMASS__1','EX_sucr_e'),\n",
    "    show=False\n",
    ");"
   ]
  },
  {
   "cell_type": "code",
   "execution_count": 7,
   "metadata": {
    "pycharm": {
     "name": "#%%\n"
    }
   },
   "outputs": [],
   "source": [
    "def view_with_changes(changed_model):\n",
    "    datapoints, triang, plot1 = sd.plot_flux_space(\n",
    "        model,\n",
    "        ('BIOMASS__1', 'EX_sucr_e'),\n",
    "        show=False\n",
    "    );\n",
    "\n",
    "    plot1.set_facecolor('green')\n",
    "    plot1.set_edgecolor('green')\n",
    "\n",
    "    _, _,plot2 = sd.plot_flux_space(\n",
    "        changed_model,\n",
    "        ('BIOMASS__1', 'EX_sucr_e'),\n",
    "        show=False\n",
    "    );\n",
    "    plot2.set_facecolor('red')\n",
    "    plot2.set_edgecolor('red')\n",
    "    # adjust axes limits and show plot\n",
    "    plot2.axes.set_xlim(0, 1.05*max([a[0] for a in datapoints]))\n",
    "    plot2.axes.set_ylim(0, 1.05*max([a[1] for a in datapoints]))\n",
    "    plt.show()"
   ]
  },
  {
   "cell_type": "code",
   "execution_count": 8,
   "metadata": {
    "pycharm": {
     "name": "#%%\n"
    }
   },
   "outputs": [],
   "source": [
    "module_suppress = sd.SDModule(\n",
    "    consistent_model,\n",
    "    sd.names.SUPPRESS,\n",
    "    constraints='EX_sucr_e >= 6.0'\n",
    ")\n",
    "\n",
    "module_protect  = sd.SDModule(\n",
    "    consistent_model,\n",
    "    sd.names.PROTECT,\n",
    "    constraints='BIOMASS__1>=.2'\n",
    ")"
   ]
  },
  {
   "cell_type": "code",
   "execution_count": 9,
   "metadata": {
    "pycharm": {
     "name": "#%%\n"
    }
   },
   "outputs": [
    {
     "data": {
      "image/png": "[encoded data removed]",
      "text/plain": [
       "<Figure size 640x480 with 1 Axes>"
      ]
     },
     "metadata": {},
     "output_type": "display_data"
    }
   ],
   "source": [
    "_,          _,      plot3 = sd.plot_flux_space(consistent_model,\n",
    "                                               ('BIOMASS__1','EX_sucr_e'),\n",
    "                                               # The sign of the glucose exchange reaction is flipped since\n",
    "                                               # reaction is defined in the direction of secretion.\n",
    "                                               constraints=['EX_sucr_e - 20 BIOMASS__1 <= 0',\n",
    "                                                            'BIOMASS__1 >= 0.01'],\n",
    "                                               show=False);"
   ]
  },
  {
   "cell_type": "code",
   "execution_count": 12,
   "metadata": {
    "pycharm": {
     "name": "#%%\n"
    }
   },
   "outputs": [
    {
     "data": {
      "text/plain": [
       "1"
      ]
     },
     "execution_count": 12,
     "metadata": {},
     "output_type": "execute_result"
    }
   ],
   "source": [
    "rxn_cost = {}\n",
    "for rxn in consistent_model.reactions:\n",
    "    if rxn.id.startswith('EX_') or rxn.id.startswith('BIOMASS_') or\\\n",
    "            rxn.id.startswith('SK_') or rxn.id.startswith('PHOA') or\\\n",
    "            rxn.id.startswith('DM_') or rxn.id.startswith('SK_'):\n",
    "        continue\n",
    "    if rxn.gene_reaction_rule == '':\n",
    "        continue\n",
    "    else:\n",
    "        rxn_cost[rxn.id] = 1\n",
    "rxn_cost.pop('BCT1_syn')"
   ]
  },
  {
   "cell_type": "code",
   "execution_count": null,
   "metadata": {
    "pycharm": {
     "name": "#%%\n"
    }
   },
   "outputs": [],
   "source": [
    "from syn_elong.strain_design_simplified import compute_strain_designs, StrainDesign\n",
    "# Compute strain designs\n",
    "with consistent_model as m:\n",
    "    module_suppress = sd.SDModule(\n",
    "        m,\n",
    "        sd.names.SUPPRESS,\n",
    "        constraints=['EX_sucr_e - 4 BIOMASS__1 <= 0',\n",
    "                     'BIOMASS__1 >= 0.01']\n",
    "    )\n",
    "    module_protect  = sd.SDModule(\n",
    "        m,\n",
    "        sd.names.PROTECT,\n",
    "        constraints='BIOMASS__1>=.1'\n",
    "    )\n",
    "        module_tilted_optknock = sd.SDModule(m, sd.names.OPTKNOCK,\n",
    "                                         inner_objective='BIOMASS__1 ',  # - 0.001 EX_14bdo_e\n",
    "                                         outer_objective='EX_sucr_e',\n",
    "                                         constraints=['BIOMASS__1  >= 0.2', 'EX_sucr_e >=3'])\n",
    "    module_optcouple = sd.SDModule(m, sd.names.OPTCOUPLE,\n",
    "                                   inner_objective='BIOMASS__1',\n",
    "                                   prod_id='EX_sucr_e',\n",
    "                                   min_gcp=0.1)\n",
    "    sd_helper = StrainDesign(\n",
    "        m,\n",
    "        # sd_modules=[module_suppress, module_protect],\n",
    "        sd_modules=[module_tilted_optknock],\n",
    "        ko_cost=rxn_cost,\n",
    "        # gene_kos=True,\n",
    "    )\n",
    "\n",
    "    sols = sd_helper.run(max_solutions=10, max_cost=5, time_limit=300, solution_approach=sd.names.ANY)"
   ]
  },
  {
   "cell_type": "code",
   "execution_count": 3,
   "metadata": {
    "pycharm": {
     "name": "#%%\n"
    }
   },
   "outputs": [
    {
     "ename": "NameError",
     "evalue": "name 'consistent_model' is not defined",
     "output_type": "error",
     "traceback": [
      "\u001b[1;31m---------------------------------------------------------------------------\u001b[0m",
      "\u001b[1;31mNameError\u001b[0m                                 Traceback (most recent call last)",
      "Cell \u001b[1;32mIn[3], line 2\u001b[0m\n\u001b[0;32m      1\u001b[0m \u001b[38;5;28;01mfrom\u001b[39;00m \u001b[38;5;21;01msyn_elong\u001b[39;00m\u001b[38;5;21;01m.\u001b[39;00m\u001b[38;5;21;01mstrain_design_simplified\u001b[39;00m \u001b[38;5;28;01mimport\u001b[39;00m compute_strain_designs\n\u001b[1;32m----> 2\u001b[0m \u001b[38;5;28;01mwith\u001b[39;00m \u001b[43mconsistent_model\u001b[49m \u001b[38;5;28;01mas\u001b[39;00m m:\n\u001b[0;32m      3\u001b[0m     module_suppress \u001b[38;5;241m=\u001b[39m sd\u001b[38;5;241m.\u001b[39mSDModule(\n\u001b[0;32m      4\u001b[0m         m,\n\u001b[0;32m      5\u001b[0m         sd\u001b[38;5;241m.\u001b[39mnames\u001b[38;5;241m.\u001b[39mSUPPRESS,\n\u001b[0;32m      6\u001b[0m         constraints\u001b[38;5;241m=\u001b[39m[\u001b[38;5;124m'\u001b[39m\u001b[38;5;124mEX_sucr_e - 4 BIOMASS__1 <= 0\u001b[39m\u001b[38;5;124m'\u001b[39m,\n\u001b[0;32m      7\u001b[0m                      \u001b[38;5;124m'\u001b[39m\u001b[38;5;124mBIOMASS__1 >= 0.01\u001b[39m\u001b[38;5;124m'\u001b[39m]\n\u001b[0;32m      8\u001b[0m     )\n\u001b[0;32m      9\u001b[0m     module_protect  \u001b[38;5;241m=\u001b[39m sd\u001b[38;5;241m.\u001b[39mSDModule(\n\u001b[0;32m     10\u001b[0m         m,\n\u001b[0;32m     11\u001b[0m         sd\u001b[38;5;241m.\u001b[39mnames\u001b[38;5;241m.\u001b[39mPROTECT,\n\u001b[0;32m     12\u001b[0m         constraints\u001b[38;5;241m=\u001b[39m\u001b[38;5;124m'\u001b[39m\u001b[38;5;124mBIOMASS__1>=.1\u001b[39m\u001b[38;5;124m'\u001b[39m\n\u001b[0;32m     13\u001b[0m     )\n",
      "\u001b[1;31mNameError\u001b[0m: name 'consistent_model' is not defined"
     ]
    }
   ],
   "source": [
    "\n",
    "\n",
    "with consistent_model as m:\n",
    "    module_suppress = sd.SDModule(\n",
    "        m,\n",
    "        sd.names.SUPPRESS,\n",
    "        constraints=['EX_sucr_e - 4 BIOMASS__1 <= 0',\n",
    "                     'BIOMASS__1 >= 0.01']\n",
    "    )\n",
    "    module_protect  = sd.SDModule(\n",
    "        m,\n",
    "        sd.names.PROTECT,\n",
    "        constraints='BIOMASS__1>=.1'\n",
    "    )\n",
    "    sd_helper = compute_strain_designs(\n",
    "        m,\n",
    "        sd_modules = [module_suppress, module_protect],\n",
    "        time_limit = 500,\n",
    "        max_solutions = 3,\n",
    "        max_cost = 5,\n",
    "        # gene_kos=False,\n",
    "        ko_cost=rxn_cost,\n",
    "        solution_approach = sd.names.ANY\n",
    "    )\n",
    "    sols = sd_helper.step_2(max_solutions=5, max_cost=10, time_limit=60, solution_approach=sd.names.ANY)"
   ]
  },
  {
   "cell_type": "code",
   "execution_count": 211,
   "metadata": {
    "pycharm": {
     "name": "#%%\n"
    }
   },
   "outputs": [
    {
     "data": {
      "text/plain": [
       "[4.0, 4.0, 4.0]"
      ]
     },
     "execution_count": 211,
     "metadata": {},
     "output_type": "execute_result"
    }
   ],
   "source": [
    "sols.sd_cost"
   ]
  },
  {
   "cell_type": "code",
   "execution_count": 212,
   "metadata": {
    "pycharm": {
     "name": "#%%\n"
    }
   },
   "outputs": [
    {
     "name": "stdout",
     "output_type": "stream",
     "text": [
      "One compressed solution with cost 4.0 found and expanded to 3 solutions in the uncompressed netork.\n",
      "Example knockout set: ['PCXHtpp', 'BCT1_syn', 'CYTBD4cm', 'NTRARf2']\n"
     ]
    }
   ],
   "source": [
    "\n",
    "# Print solutions\n",
    "print(f\"One compressed solution with cost {sols.sd_cost[0]} found and \"+\\\n",
    "      f\"expanded to {len(sols.reaction_sd)} solutions in the uncompressed netork.\")\n",
    "print(f\"Example knockout set: {[s for s in sols.reaction_sd[0]]}\")"
   ]
  },
  {
   "cell_type": "code",
   "execution_count": null,
   "metadata": {
    "pycharm": {
     "name": "#%%\n"
    }
   },
   "outputs": [],
   "source": [
    "solutions = sols.reaction_sd"
   ]
  },
  {
   "cell_type": "code",
   "execution_count": 213,
   "metadata": {
    "pycharm": {
     "name": "#%%\n"
    }
   },
   "outputs": [],
   "source": [
    "rxns = [\n",
    "    {'CYTBD4cm': -1.0, 'BCT1_syn': -1.0, 'PCXHtpp': -1.0, 'NTRIRfx': -1.0},\n",
    "    {'CYTBD4cm': -1.0, 'BCT1_syn': -1.0, 'PCXHtpp': -1.0, 'NTRARf2': -1.0},\n",
    "    {'CYTBD4cm': -1.0, 'BCT1_syn': -1.0, 'PCXHtpp': -1.0, 'NO3abcpp': -1.0},\n",
    "    {'CYTBD4cm': -1.0, 'BCT1_syn': -1.0, 'PCXHtpp': -1.0, 'GND': -1.0, 'PSP_L': -1.0},\n",
    "    {'CYTBD4cm': -1.0, 'BCT1_syn': -1.0, 'PCXHtpp': -1.0, 'GND': -1.0, 'PGCD': -1.0},\n",
    "    {'CYTBD4cm': -1.0, 'BCT1_syn': -1.0, 'PCXHtpp': -1.0, 'GND': -1.0, 'PSERT': -1.0},\n",
    "    {'CYTBD4cm': -1.0, 'BCT1_syn': -1.0, 'PCXHtpp': -1.0, 'G6PDH2r': -1.0, 'PSP_L': -1.0},\n",
    "    {'CYTBD4cm': -1.0, 'BCT1_syn': -1.0, 'PCXHtpp': -1.0, 'G6PDH2r': -1.0, 'PGCD': -1.0},\n",
    "    {'CYTBD4cm': -1.0, 'BCT1_syn': -1.0, 'PCXHtpp': -1.0, 'G6PDH2r': -1.0, 'PSERT': -1.0},\n",
    "    {'CYTBD4cm': -1.0, 'BCT1_syn': -1.0, 'PCXHtpp': -1.0, 'PGL': -1.0, 'PSP_L': -1.0},\n",
    "    {'CYTBD4cm': -1.0, 'BCT1_syn': -1.0, 'PCXHtpp': -1.0, 'PGL': -1.0, 'PGCD': -1.0},\n",
    "    {'CYTBD4cm': -1.0, 'BCT1_syn': -1.0, 'PCXHtpp': -1.0, 'PGL': -1.0, 'PSERT': -1.0},\n",
    "    {'NDHPQRcm': -1.0, 'BCT1_syn': -1.0, 'PCXHtpp': -1.0, 'MNHNAtpp': -1.0, 'NTRIRfx': -1.0},\n",
    "    {'NDHPQRcm': -1.0, 'BCT1_syn': -1.0, 'PCXHtpp': -1.0, 'MNHNAtpp': -1.0, 'NTRARf2': -1.0},\n",
    "    {'NDHPQRcm': -1.0, 'BCT1_syn': -1.0, 'PCXHtpp': -1.0, 'MNHNAtpp': -1.0, 'NO3abcpp': -1.0},\n",
    "]"
   ]
  },
  {
   "cell_type": "code",
   "execution_count": 77,
   "metadata": {
    "pycharm": {
     "name": "#%%\n"
    }
   },
   "outputs": [
    {
     "name": "stdout",
     "output_type": "stream",
     "text": [
      "['CYTBD4cm', 'BCT1_syn', 'PCXHtpp', 'GND', 'PSERT']\n",
      "CYTBD4cm: 4.0 h_c + o2_c + 2.0 pqh2_cm --> 2.0 h2o_c + 4.0 h_p + 2.0 pq_cm\n",
      "BCT1_syn: atp_c + h2o_c + hco3_p --> adp_c + h_c + hco3_c + pi_c\n",
      "PCXHtpp: h_c --> h_p\n",
      "GND: 6pgc_c + nadp_c --> co2_c + nadph_c + ru5p__D_c\n",
      "PSERT: 3php_c + glu__L_c <=> akg_c + pser__L_c\n",
      "1.0839043697160782\n"
     ]
    },
    {
     "data": {
      "image/png": "[encoded data removed]",
      "text/plain": [
       "<Figure size 640x480 with 1 Axes>"
      ]
     },
     "metadata": {},
     "output_type": "display_data"
    },
    {
     "data": {
      "text/plain": [
       "EX_photon690_e   -1000.000\n",
       "EX_photon670_e    -848.725\n",
       "H2Otu_syn         -400.367\n",
       "Htcx              -204.108\n",
       "O2tex             -192.874\n",
       "                    ...   \n",
       "ETCPC              848.725\n",
       "PHOA670um          848.725\n",
       "PHOA690um         1000.000\n",
       "PSICSum           1000.000\n",
       "PSIum             1000.000\n",
       "Name: fluxes, Length: 428, dtype: float64"
      ]
     },
     "execution_count": 77,
     "metadata": {},
     "output_type": "execute_result"
    }
   ],
   "source": [
    "def run_with_intervention(intervention):\n",
    "    with consistent_model as m:\n",
    "        print([i for i in intervention])\n",
    "        for i in intervention:\n",
    "            print(m.reactions.get_by_id(i))\n",
    "            # if i == 'BCT1_syn':\n",
    "            #     continue\n",
    "            # print(i)\n",
    "            m.reactions.get_by_id(i).lower_bound = 0\n",
    "            m.reactions.get_by_id(i).upper_bound = 0\n",
    "#             m.remove_reactions([m.reactions.get_by_id(i)])\n",
    "        print(m.slim_optimize())\n",
    "        sol = m.optimize()\n",
    "\n",
    "        view_with_changes(m)\n",
    "        return sol.fluxes #sol.reduced_costs, \n",
    "red_costs = run_with_intervention(rxns[5])\n",
    "red_costs[np.abs(red_costs)>0.001].sort_values()"
   ]
  },
  {
   "cell_type": "code",
   "execution_count": null,
   "metadata": {
    "pycharm": {
     "name": "#%%\n"
    }
   },
   "outputs": [],
   "source": [
    "red_costs = run_with_intervention(rxns[3])\n",
    "red_costs[np.abs(red_costs)>0.001].sort_values()"
   ]
  },
  {
   "cell_type": "code",
   "execution_count": null,
   "metadata": {
    "pycharm": {
     "name": "#%%\n"
    }
   },
   "outputs": [],
   "source": [
    "fl = cobra.flux_analysis.flux_variability_analysis(consistent_model)"
   ]
  },
  {
   "cell_type": "code",
   "execution_count": 66,
   "metadata": {
    "pycharm": {
     "name": "#%%\n"
    }
   },
   "outputs": [
    {
     "data": {
      "text/html": [
       "\n",
       "        <table>\n",
       "            <tr>\n",
       "                <td><strong>Metabolite identifier</strong></td><td>co2_c</td>\n",
       "            </tr><tr>\n",
       "                <td><strong>Name</strong></td><td>CO2 CO2</td>\n",
       "            </tr><tr>\n",
       "                <td><strong>Memory address</strong></td>\n",
       "                <td>0x0258e8be21a0</td>\n",
       "            </tr><tr>\n",
       "                <td><strong>Formula</strong></td><td>CO2</td>\n",
       "            </tr><tr>\n",
       "                <td><strong>Compartment</strong></td><td>c</td>\n",
       "            </tr><tr>\n",
       "                <td><strong>In 54 reaction(s)</strong></td><td>\n",
       "                    OXADC, CO2tpp, CPPPGO2, 3OAS160, PROAKGOX1, ORNDC, 3OAS100, PFOR, AOXSr2, DBTS, GLYCL, 3OAS120, 3OAS60, DAPDC, SEPHCHCS, PPNDH, CPPPGO, ERTHMMOR, THRPDC, ACLSa, 3OAS180, ICDHyr, PPCDC, KAS14,...</td>\n",
       "            </tr>\n",
       "        </table>"
      ],
      "text/plain": [
       "<Metabolite co2_c at 0x258e8be21a0>"
      ]
     },
     "execution_count": 66,
     "metadata": {},
     "output_type": "execute_result"
    }
   ],
   "source": [
    "model.metabolites.co2_c"
   ]
  },
  {
   "cell_type": "code",
   "execution_count": 93,
   "metadata": {
    "pycharm": {
     "name": "#%%\n"
    }
   },
   "outputs": [
    {
     "data": {
      "text/html": [
       "\n",
       "        <table>\n",
       "            <tr>\n",
       "                <td><strong>Reaction identifier</strong></td><td>BCT1_syn</td>\n",
       "            </tr><tr>\n",
       "                <td><strong>Name</strong></td><td>Bicarbonate transport via ABC system (periplasm)</td>\n",
       "            </tr><tr>\n",
       "                <td><strong>Memory address</strong></td>\n",
       "                <td>0x0258eb87c730</td>\n",
       "            </tr><tr>\n",
       "                <td><strong>Stoichiometry</strong></td>\n",
       "                <td>\n",
       "                    <p style='text-align:right'>atp_c + h2o_c + hco3_p --> adp_c + h_c + hco3_c + pi_c</p>\n",
       "                    <p style='text-align:right'>ATP C10H12N5O13P3 + H2O H2O + Bicarbonate --> ADP C10H12N5O10P2 + H+ + Bicarbonate + Phosphate</p>\n",
       "                </td>\n",
       "            </tr><tr>\n",
       "                <td><strong>GPR</strong></td><td>SYNPCC7942_RS07605 and SYNPCC7942_RS07610 and SYNPCC7942_RS07615 and SYNPCC7942_RS07620</td>\n",
       "            </tr><tr>\n",
       "                <td><strong>Lower bound</strong></td><td>0.0</td>\n",
       "            </tr><tr>\n",
       "                <td><strong>Upper bound</strong></td><td>1000.0</td>\n",
       "            </tr>\n",
       "        </table>\n",
       "        "
      ],
      "text/plain": [
       "<Reaction BCT1_syn at 0x258eb87c730>"
      ]
     },
     "execution_count": 93,
     "metadata": {},
     "output_type": "execute_result"
    }
   ],
   "source": [
    "consistent_model.reactions.BCT1_syn"
   ]
  },
  {
   "cell_type": "code",
   "execution_count": 85,
   "metadata": {
    "pycharm": {
     "name": "#%%\n"
    },
    "scrolled": false
   },
   "outputs": [
    {
     "name": "stderr",
     "output_type": "stream",
     "text": [
      "INFO:cobra.summary.metabolite_summary:Generating new parsimonious flux distribution.\n"
     ]
    },
    {
     "data": {
      "text/html": [
       "<h3>atp_c</h3><p>C10H12N5O13P3</p><h4>Producing Reactions</h4><table border=\"1\" class=\"dataframe\">\n",
       "  <thead>\n",
       "    <tr style=\"text-align: right;\">\n",
       "      <th>Percent</th>\n",
       "      <th>Flux</th>\n",
       "      <th>Reaction</th>\n",
       "      <th>Definition</th>\n",
       "    </tr>\n",
       "  </thead>\n",
       "  <tbody>\n",
       "    <tr>\n",
       "      <td>2.45%</td>\n",
       "      <td>23.44</td>\n",
       "      <td>ACKr</td>\n",
       "      <td>ac_c + atp_c &lt;=&gt; actp_c + adp_c</td>\n",
       "    </tr>\n",
       "    <tr>\n",
       "      <td>89.37%</td>\n",
       "      <td>853.8</td>\n",
       "      <td>ATPSum</td>\n",
       "      <td>3.0 adp_c + 13.0 h_u + 3.0 pi_c &lt;=&gt; 3.0 atp_c + 3.0 h2o_c + 10.0 h_c</td>\n",
       "    </tr>\n",
       "    <tr>\n",
       "      <td>5.85%</td>\n",
       "      <td>55.88</td>\n",
       "      <td>PPK</td>\n",
       "      <td>atp_c + pi_c &lt;=&gt; adp_c + ppi_c</td>\n",
       "    </tr>\n",
       "    <tr>\n",
       "      <td>0.00%</td>\n",
       "      <td>0.007325</td>\n",
       "      <td>PPK2</td>\n",
       "      <td>atp_c + ppi_c &lt;=&gt; adp_c + pppi_c</td>\n",
       "    </tr>\n",
       "    <tr>\n",
       "      <td>2.32%</td>\n",
       "      <td>22.18</td>\n",
       "      <td>PYK</td>\n",
       "      <td>adp_c + h_c + pep_c --&gt; atp_c + pyr_c</td>\n",
       "    </tr>\n",
       "    <tr>\n",
       "      <td>0.00%</td>\n",
       "      <td>0.0216</td>\n",
       "      <td>URIDK2r</td>\n",
       "      <td>atp_c + dump_c &lt;=&gt; adp_c + dudp_c</td>\n",
       "    </tr>\n",
       "  </tbody>\n",
       "</table><h4>Consuming Reactions</h4><table border=\"1\" class=\"dataframe\">\n",
       "  <thead>\n",
       "    <tr style=\"text-align: right;\">\n",
       "      <th>Percent</th>\n",
       "      <th>Flux</th>\n",
       "      <th>Reaction</th>\n",
       "      <th>Definition</th>\n",
       "    </tr>\n",
       "  </thead>\n",
       "  <tbody>\n",
       "    <tr>\n",
       "      <td>1.38%</td>\n",
       "      <td>-13.18</td>\n",
       "      <td>ACCOAC</td>\n",
       "      <td>accoa_c + atp_c + hco3_c --&gt; adp_c + h_c + malcoa_c + pi_c</td>\n",
       "    </tr>\n",
       "    <tr>\n",
       "      <td>2.52%</td>\n",
       "      <td>-24.04</td>\n",
       "      <td>ACS</td>\n",
       "      <td>ac_c + atp_c + coa_c --&gt; accoa_c + amp_c + ppi_c</td>\n",
       "    </tr>\n",
       "    <tr>\n",
       "      <td>0.00%</td>\n",
       "      <td>-2.092E-05</td>\n",
       "      <td>ADCPS2</td>\n",
       "      <td>adcobhex_c + applp_c + atp_c --&gt; adocbip_c + adp_c + h_c + pi_c</td>\n",
       "    </tr>\n",
       "    <tr>\n",
       "      <td>0.00%</td>\n",
       "      <td>-8.368E-05</td>\n",
       "      <td>ADCYRS</td>\n",
       "      <td>adcobdam_c + 4.0 atp_c + 4.0 gln__L_c + 4.0 h2o_c --&gt; adcobhex_c + 4.0 adp_c + 4.0 glu__L_c + 4.0 h_c + 4.0 pi_c</td>\n",
       "    </tr>\n",
       "    <tr>\n",
       "      <td>5.13%</td>\n",
       "      <td>-49.02</td>\n",
       "      <td>ADK1</td>\n",
       "      <td>amp_c + atp_c &lt;=&gt; 2.0 adp_c</td>\n",
       "    </tr>\n",
       "    <tr>\n",
       "      <td>0.00%</td>\n",
       "      <td>-0.04654</td>\n",
       "      <td>ADNK1</td>\n",
       "      <td>adn_c + atp_c --&gt; adp_c + amp_c + h_c</td>\n",
       "    </tr>\n",
       "    <tr>\n",
       "      <td>0.07%</td>\n",
       "      <td>-0.6367</td>\n",
       "      <td>ADSK</td>\n",
       "      <td>aps_c + atp_c --&gt; adp_c + h_c + paps_c</td>\n",
       "    </tr>\n",
       "    <tr>\n",
       "      <td>0.00%</td>\n",
       "      <td>-0.0001041</td>\n",
       "      <td>AFAT</td>\n",
       "      <td>atp_c + fmn_c + 2.0 h_c --&gt; fad_c + ppi_c</td>\n",
       "    </tr>\n",
       "    <tr>\n",
       "      <td>0.08%</td>\n",
       "      <td>-0.7814</td>\n",
       "      <td>AIRC2</td>\n",
       "      <td>air_c + atp_c + hco3_c --&gt; 5caiz_c + adp_c + h_c + pi_c</td>\n",
       "    </tr>\n",
       "    <tr>\n",
       "      <td>0.02%</td>\n",
       "      <td>-0.1874</td>\n",
       "      <td>ALAALAr</td>\n",
       "      <td>2.0 ala__D_c + atp_c --&gt; adp_c + alaala_c + h_c + pi_c</td>\n",
       "    </tr>\n",
       "    <tr>\n",
       "      <td>0.17%</td>\n",
       "      <td>-1.601</td>\n",
       "      <td>ALATRS</td>\n",
       "      <td>ala__L_c + atp_c + trnaala_c --&gt; alatrna_c + amp_c + ppi_c</td>\n",
       "    </tr>\n",
       "    <tr>\n",
       "      <td>0.10%</td>\n",
       "      <td>-0.9505</td>\n",
       "      <td>ARGSS</td>\n",
       "      <td>asp__L_c + atp_c + citr__L_c --&gt; amp_c + argsuc_c + h_c + ppi_c</td>\n",
       "    </tr>\n",
       "    <tr>\n",
       "      <td>0.10%</td>\n",
       "      <td>-0.9505</td>\n",
       "      <td>ARGTRS</td>\n",
       "      <td>arg__L_c + atp_c + trnaarg_c --&gt; amp_c + argtrna_c + ppi_c</td>\n",
       "    </tr>\n",
       "    <tr>\n",
       "      <td>0.08%</td>\n",
       "      <td>-0.7645</td>\n",
       "      <td>ASNS1</td>\n",
       "      <td>asp__L_c + atp_c + gln__L_c + h2o_c --&gt; amp_c + asn__L_c + glu__L_c + h_c + ppi_c</td>\n",
       "    </tr>\n",
       "    <tr>\n",
       "      <td>0.08%</td>\n",
       "      <td>-0.7645</td>\n",
       "      <td>ASNTRS</td>\n",
       "      <td>asn__L_c + atp_c + trnaasn_c --&gt; amp_c + asntrna_c + ppi_c</td>\n",
       "    </tr>\n",
       "    <tr>\n",
       "      <td>0.25%</td>\n",
       "      <td>-2.383</td>\n",
       "      <td>ASPK</td>\n",
       "      <td>asp__L_c + atp_c --&gt; 4pasp_c + adp_c</td>\n",
       "    </tr>\n",
       "    <tr>\n",
       "      <td>0.10%</td>\n",
       "      <td>-0.9486</td>\n",
       "      <td>ASPTRS</td>\n",
       "      <td>asp__L_c + atp_c + trnaasp_c --&gt; amp_c + asptrna_c + ppi_c</td>\n",
       "    </tr>\n",
       "    <tr>\n",
       "      <td>0.04%</td>\n",
       "      <td>-0.3509</td>\n",
       "      <td>ATPPRT</td>\n",
       "      <td>atp_c + prpp_c --&gt; ppi_c + prbatp_c</td>\n",
       "    </tr>\n",
       "    <tr>\n",
       "      <td>0.00%</td>\n",
       "      <td>-0.000107</td>\n",
       "      <td>BACCL</td>\n",
       "      <td>atp_c + btn_c + h_c --&gt; btamp_c + ppi_c</td>\n",
       "    </tr>\n",
       "    <tr>\n",
       "      <td>1.97%</td>\n",
       "      <td>-18.85</td>\n",
       "      <td>BIOMASS_PROTEIN</td>\n",
       "      <td>0.7662 alatrna_c + 0.4548 argtrna_c + 0.3658 asntrna_c + 0.4539 asptrna_c + 9.0199 atp_c + 0.0899 cystrna_c + 0.502 glntrna_c + 0.5465 glutrna_c + 0.6663 glytrna_c + 18.0398 gtp_c + 27.0597 h2o_c + 0.1679 histrna_c + 0.5665 iletrna_c + 1.0294 leutrna_c + 0.3777 lystrna_c + 0.177 mettrna_c + 0.3622 phetrna_c + 0.463 protrna_c + 0.5238 sertrna_c + 0.4957 thrtrna_c + 0.1398 trptrna_c + 0.2633 tyrtrna_c + 0.6082 valtrna_c --&gt; 9.0199 adp_c + bm_pro_c + 18.0398 gdp_c + 36.0797 h_c + 27.0597 pi_c + 0.7662 trnaala_c + 0.4548 trnaarg_c + 0.3658 trnaasn_c + 0.4539 trnaasp_c + 0.0899 trnacys_c + 0.502 trnagln_c + 0.5465 trnaglu_c + 0.6663 trnagly_c + 0.1679 trnahis_c + 0.5665 trnaile_c + 1.0294 trnaleu_c + 0.3777 trnalys_c + 0.177 trnamet_c + 0.3622 trnaphe_c + 0.463 trnapro_c + 0.5238 trnaser_c + 0.4957 trnathr_c + 0.1398 trnatrp_c + 0.2633 trnatyr_c + 0.6082 trnaval_c</td>\n",
       "    </tr>\n",
       "    <tr>\n",
       "      <td>0.03%</td>\n",
       "      <td>-0.3226</td>\n",
       "      <td>BIOMASS_RNA</td>\n",
       "      <td>0.69466 atp_c + 0.86375 ctp_c + 0.86375 gtp_c + 0.69466 utp_c --&gt; bm_rna_c + 3.11683 ppi_c</td>\n",
       "    </tr>\n",
       "    <tr>\n",
       "      <td>12.84%</td>\n",
       "      <td>-122.6</td>\n",
       "      <td>BIOMASS__1</td>\n",
       "      <td>30.0 atp_c + 0.0977 bm_carbs_c + 0.00119 bm_cofactors_c + 0.0795 bm_cw_c + 0.0073 bm_dna_c + 0.159 bm_memlip_c + 0.0197 bm_pigm_c + 0.5112 bm_pro_c + 0.1136 bm_rna_c + 30.0 h2o_c --&gt; 30.0 adp_c + 30.0 h_c + 30.0 pi_c</td>\n",
       "    </tr>\n",
       "    <tr>\n",
       "      <td>0.36%</td>\n",
       "      <td>-3.445</td>\n",
       "      <td>CBPS</td>\n",
       "      <td>2.0 atp_c + gln__L_c + h2o_c + hco3_c --&gt; 2.0 adp_c + cbp_c + glu__L_c + 2.0 h_c + pi_c</td>\n",
       "    </tr>\n",
       "    <tr>\n",
       "      <td>0.06%</td>\n",
       "      <td>-0.5518</td>\n",
       "      <td>CDPMEK</td>\n",
       "      <td>4c2me_c + atp_c --&gt; 2p4c2me_c + adp_c + h_c</td>\n",
       "    </tr>\n",
       "    <tr>\n",
       "      <td>0.00%</td>\n",
       "      <td>-2.092E-05</td>\n",
       "      <td>COCHL_1</td>\n",
       "      <td>atp_c + cobalt2_c + h2o_c + hgbam_c --&gt; adp_c + co2dam_c + 3.0 h_c + pi_c</td>\n",
       "    </tr>\n",
       "    <tr>\n",
       "      <td>0.02%</td>\n",
       "      <td>-0.2256</td>\n",
       "      <td>COLIPAabcex</td>\n",
       "      <td>atp_c + colipacy_p + h2o_c --&gt; adp_c + colipacy_e + h_c + pi_c</td>\n",
       "    </tr>\n",
       "    <tr>\n",
       "      <td>0.04%</td>\n",
       "      <td>-0.428</td>\n",
       "      <td>CTPS2</td>\n",
       "      <td>atp_c + gln__L_c + h2o_c + utp_c --&gt; adp_c + ctp_c + glu__L_c + 2.0 h_c + pi_c</td>\n",
       "    </tr>\n",
       "    <tr>\n",
       "      <td>0.00%</td>\n",
       "      <td>-2.092E-05</td>\n",
       "      <td>CYRDAAT</td>\n",
       "      <td>atp_c + co1dam_c + h_c --&gt; adcobdam_c + pppi_c</td>\n",
       "    </tr>\n",
       "    <tr>\n",
       "      <td>0.02%</td>\n",
       "      <td>-0.1879</td>\n",
       "      <td>CYSTRS</td>\n",
       "      <td>atp_c + cys__L_c + trnacys_c --&gt; amp_c + cystrna_c + ppi_c</td>\n",
       "    </tr>\n",
       "    <tr>\n",
       "      <td>0.08%</td>\n",
       "      <td>-0.7485</td>\n",
       "      <td>CYTK1</td>\n",
       "      <td>atp_c + cmp_c &lt;=&gt; adp_c + cdp_c</td>\n",
       "    </tr>\n",
       "    <tr>\n",
       "      <td>0.00%</td>\n",
       "      <td>-2.092E-05</td>\n",
       "      <td>Cobalt2abcppI</td>\n",
       "      <td>atp_c + cobalt2_p + h2o_c --&gt; adp_c + cobalt2_c + h_c + pi_c</td>\n",
       "    </tr>\n",
       "    <tr>\n",
       "      <td>0.00%</td>\n",
       "      <td>-0.000107</td>\n",
       "      <td>DBTS</td>\n",
       "      <td>atp_c + co2_c + dann_c --&gt; adp_c + dtbt_c + 3.0 h_c + pi_c</td>\n",
       "    </tr>\n",
       "    <tr>\n",
       "      <td>0.00%</td>\n",
       "      <td>-0.0003118</td>\n",
       "      <td>DHFS</td>\n",
       "      <td>atp_c + dhpt_c + glu__L_c --&gt; adp_c + dhf_c + h_c + pi_c</td>\n",
       "    </tr>\n",
       "    <tr>\n",
       "      <td>0.00%</td>\n",
       "      <td>-7.784E-05</td>\n",
       "      <td>DPCOAK</td>\n",
       "      <td>atp_c + dpcoa_c --&gt; adp_c + coa_c + h_c</td>\n",
       "    </tr>\n",
       "    <tr>\n",
       "      <td>0.00%</td>\n",
       "      <td>-0.0216</td>\n",
       "      <td>DTMPK</td>\n",
       "      <td>atp_c + dtmp_c &lt;=&gt; adp_c + dtdp_c</td>\n",
       "    </tr>\n",
       "    <tr>\n",
       "      <td>0.00%</td>\n",
       "      <td>-0.006549</td>\n",
       "      <td>FE3abcpp</td>\n",
       "      <td>atp_c + fe3_p + h2o_c --&gt; adp_c + fe3_c + h_c + pi_c</td>\n",
       "    </tr>\n",
       "    <tr>\n",
       "      <td>0.01%</td>\n",
       "      <td>-0.05439</td>\n",
       "      <td>GART</td>\n",
       "      <td>atp_c + for_c + gar_c --&gt; adp_c + fgam_c + h_c + pi_c</td>\n",
       "    </tr>\n",
       "    <tr>\n",
       "      <td>0.05%</td>\n",
       "      <td>-0.4358</td>\n",
       "      <td>GK1</td>\n",
       "      <td>atp_c + gmp_c &lt;=&gt; adp_c + gdp_c</td>\n",
       "    </tr>\n",
       "    <tr>\n",
       "      <td>0.26%</td>\n",
       "      <td>-2.45</td>\n",
       "      <td>GLGC</td>\n",
       "      <td>atp_c + g1p_c + h_c --&gt; adpglc_c + ppi_c</td>\n",
       "    </tr>\n",
       "    <tr>\n",
       "      <td>0.71%</td>\n",
       "      <td>-6.755</td>\n",
       "      <td>GLNS</td>\n",
       "      <td>atp_c + glu__L_c + nh4_c --&gt; adp_c + gln__L_c + h_c + pi_c</td>\n",
       "    </tr>\n",
       "    <tr>\n",
       "      <td>0.11%</td>\n",
       "      <td>-1.049</td>\n",
       "      <td>GLNTRS</td>\n",
       "      <td>atp_c + gln__L_c + trnagln_c --&gt; amp_c + glntrna_c + ppi_c</td>\n",
       "    </tr>\n",
       "    <tr>\n",
       "      <td>0.20%</td>\n",
       "      <td>-1.919</td>\n",
       "      <td>GLU5K</td>\n",
       "      <td>atp_c + glu__L_c --&gt; adp_c + glu5p_c</td>\n",
       "    </tr>\n",
       "    <tr>\n",
       "      <td>0.16%</td>\n",
       "      <td>-1.544</td>\n",
       "      <td>GLUTRS</td>\n",
       "      <td>atp_c + glu__L_c + trnaglu_c --&gt; amp_c + glutrna_c + ppi_c</td>\n",
       "    </tr>\n",
       "    <tr>\n",
       "      <td>0.15%</td>\n",
       "      <td>-1.393</td>\n",
       "      <td>GLYTRS</td>\n",
       "      <td>atp_c + gly_c + trnagly_c --&gt; amp_c + glytrna_c + ppi_c</td>\n",
       "    </tr>\n",
       "    <tr>\n",
       "      <td>0.05%</td>\n",
       "      <td>-0.4357</td>\n",
       "      <td>GMPS2</td>\n",
       "      <td>atp_c + gln__L_c + h2o_c + xmp_c &lt;=&gt; amp_c + glu__L_c + gmp_c + 2.0 h_c + ppi_c</td>\n",
       "    </tr>\n",
       "    <tr>\n",
       "      <td>0.00%</td>\n",
       "      <td>-4.184E-05</td>\n",
       "      <td>HGYDAS</td>\n",
       "      <td>2.0 atp_c + 2.0 gln__L_c + 2.0 h2o_c + hgbyr_c --&gt; 2.0 adp_c + 2.0 glu__L_c + 2.0 h_c + hgbam_c + 2.0 pi_c</td>\n",
       "    </tr>\n",
       "    <tr>\n",
       "      <td>0.04%</td>\n",
       "      <td>-0.3509</td>\n",
       "      <td>HISTRS</td>\n",
       "      <td>atp_c + his__L_c + trnahis_c --&gt; amp_c + histrna_c + ppi_c</td>\n",
       "    </tr>\n",
       "    <tr>\n",
       "      <td>0.00%</td>\n",
       "      <td>-0.0003118</td>\n",
       "      <td>HPPK</td>\n",
       "      <td>2ahhmp_c + atp_c &lt;=&gt; 2ahhmd_c + amp_c + h_c</td>\n",
       "    </tr>\n",
       "    <tr>\n",
       "      <td>0.11%</td>\n",
       "      <td>-1.036</td>\n",
       "      <td>HSK</td>\n",
       "      <td>atp_c + hom__L_c --&gt; adp_c + h_c + phom_c</td>\n",
       "    </tr>\n",
       "    <tr>\n",
       "      <td>0.02%</td>\n",
       "      <td>-0.2256</td>\n",
       "      <td>ICLIPAabcpp</td>\n",
       "      <td>atp_c + h2o_c + icolipacy_c --&gt; adp_c + h_c + icolipacy_p + pi_c</td>\n",
       "    </tr>\n",
       "    <tr>\n",
       "      <td>0.12%</td>\n",
       "      <td>-1.184</td>\n",
       "      <td>ILETRS</td>\n",
       "      <td>atp_c + ile__L_c + trnaile_c --&gt; amp_c + iletrna_c + ppi_c</td>\n",
       "    </tr>\n",
       "    <tr>\n",
       "      <td>0.23%</td>\n",
       "      <td>-2.151</td>\n",
       "      <td>LEUTRS</td>\n",
       "      <td>atp_c + leu__L_c + trnaleu_c --&gt; amp_c + leutrna_c + ppi_c</td>\n",
       "    </tr>\n",
       "    <tr>\n",
       "      <td>0.00%</td>\n",
       "      <td>-2.092E-05</td>\n",
       "      <td>LTHRK</td>\n",
       "      <td>atp_c + thr__L_c --&gt; adp_c + h_c + thrp_c</td>\n",
       "    </tr>\n",
       "    <tr>\n",
       "      <td>0.08%</td>\n",
       "      <td>-0.7894</td>\n",
       "      <td>LYSTRS</td>\n",
       "      <td>atp_c + lys__L_c + trnalys_c --&gt; amp_c + lystrna_c + ppi_c</td>\n",
       "    </tr>\n",
       "    <tr>\n",
       "      <td>0.00%</td>\n",
       "      <td>-0.04743</td>\n",
       "      <td>METAT</td>\n",
       "      <td>atp_c + h2o_c + met__L_c --&gt; amet_c + pi_c + ppi_c</td>\n",
       "    </tr>\n",
       "    <tr>\n",
       "      <td>0.04%</td>\n",
       "      <td>-0.3699</td>\n",
       "      <td>METTRS</td>\n",
       "      <td>atp_c + met__L_c + trnamet_c --&gt; amp_c + mettrna_c + ppi_c</td>\n",
       "    </tr>\n",
       "    <tr>\n",
       "      <td>0.00%</td>\n",
       "      <td>-0.04583</td>\n",
       "      <td>MG2uabcpp</td>\n",
       "      <td>atp_c + h2o_c + mg2_p --&gt; adp_c + h_c + mg2_c + pi_c</td>\n",
       "    </tr>\n",
       "    <tr>\n",
       "      <td>0.00%</td>\n",
       "      <td>-0.04583</td>\n",
       "      <td>MPML</td>\n",
       "      <td>atp_c + h2o_c + mg2_c + ppp9_c --&gt; adp_c + 3.0 h_c + mppp9_c + pi_c</td>\n",
       "    </tr>\n",
       "    <tr>\n",
       "      <td>0.00%</td>\n",
       "      <td>-0.0002077</td>\n",
       "      <td>NADK</td>\n",
       "      <td>atp_c + nad_c --&gt; adp_c + h_c + nadp_c</td>\n",
       "    </tr>\n",
       "    <tr>\n",
       "      <td>0.00%</td>\n",
       "      <td>-0.00106</td>\n",
       "      <td>NADS2</td>\n",
       "      <td>atp_c + dnad_c + gln__L_c + h2o_c --&gt; amp_c + glu__L_c + h_c + nad_c + ppi_c</td>\n",
       "    </tr>\n",
       "    <tr>\n",
       "      <td>0.00%</td>\n",
       "      <td>-2.092E-05</td>\n",
       "      <td>NAMNPP</td>\n",
       "      <td>atp_c + h2o_c + nac_c + prpp_c &lt;=&gt; adp_c + nicrnt_c + pi_c + ppi_c</td>\n",
       "    </tr>\n",
       "    <tr>\n",
       "      <td>11.31%</td>\n",
       "      <td>-108.1</td>\n",
       "      <td>NDPK1</td>\n",
       "      <td>atp_c + gdp_c &lt;=&gt; adp_c + gtp_c</td>\n",
       "    </tr>\n",
       "    <tr>\n",
       "      <td>0.22%</td>\n",
       "      <td>-2.073</td>\n",
       "      <td>NDPK2</td>\n",
       "      <td>atp_c + udp_c &lt;=&gt; adp_c + utp_c</td>\n",
       "    </tr>\n",
       "    <tr>\n",
       "      <td>0.08%</td>\n",
       "      <td>-0.7216</td>\n",
       "      <td>NDPK3</td>\n",
       "      <td>atp_c + cdp_c &lt;=&gt; adp_c + ctp_c</td>\n",
       "    </tr>\n",
       "    <tr>\n",
       "      <td>0.00%</td>\n",
       "      <td>-0.0216</td>\n",
       "      <td>NDPK4</td>\n",
       "      <td>atp_c + dtdp_c &lt;=&gt; adp_c + dttp_c</td>\n",
       "    </tr>\n",
       "    <tr>\n",
       "      <td>0.00%</td>\n",
       "      <td>-0.02686</td>\n",
       "      <td>NDPK5</td>\n",
       "      <td>atp_c + dgdp_c &lt;=&gt; adp_c + dgtp_c</td>\n",
       "    </tr>\n",
       "    <tr>\n",
       "      <td>0.00%</td>\n",
       "      <td>-0.02686</td>\n",
       "      <td>NDPK7</td>\n",
       "      <td>atp_c + dcdp_c &lt;=&gt; adp_c + dctp_c</td>\n",
       "    </tr>\n",
       "    <tr>\n",
       "      <td>0.00%</td>\n",
       "      <td>-0.0216</td>\n",
       "      <td>NDPK8</td>\n",
       "      <td>atp_c + dadp_c &lt;=&gt; adp_c + datp_c</td>\n",
       "    </tr>\n",
       "    <tr>\n",
       "      <td>3.60%</td>\n",
       "      <td>-34.35</td>\n",
       "      <td>NGAM_D1um</td>\n",
       "      <td>360.0 atp_c + 720.0 gtp_c + 1080.0 h2o_c + ps2d1_exc_um --&gt; 360.0 adp_c + 720.0 gdp_c + 1080.0 h_c + 1080.0 pi_c + ps2d1_um</td>\n",
       "    </tr>\n",
       "    <tr>\n",
       "      <td>0.00%</td>\n",
       "      <td>-0.00106</td>\n",
       "      <td>NNATr</td>\n",
       "      <td>atp_c + h_c + nicrnt_c &lt;=&gt; dnad_c + ppi_c</td>\n",
       "    </tr>\n",
       "    <tr>\n",
       "      <td>0.02%</td>\n",
       "      <td>-0.2256</td>\n",
       "      <td>OANTIabcpp</td>\n",
       "      <td>atp_c + h2o_c + oanticy_c --&gt; adp_c + h_c + oanticy_p + pi_c</td>\n",
       "    </tr>\n",
       "    <tr>\n",
       "      <td>0.00%</td>\n",
       "      <td>-7.784E-05</td>\n",
       "      <td>PANTS</td>\n",
       "      <td>ala_B_c + atp_c + pant__R_c --&gt; amp_c + h_c + pnto__R_c + ppi_c</td>\n",
       "    </tr>\n",
       "    <tr>\n",
       "      <td>35.63%</td>\n",
       "      <td>-340.4</td>\n",
       "      <td>PGK</td>\n",
       "      <td>3pg_c + atp_c &lt;=&gt; 13dpg_c + adp_c</td>\n",
       "    </tr>\n",
       "    <tr>\n",
       "      <td>0.08%</td>\n",
       "      <td>-0.757</td>\n",
       "      <td>PHETRS</td>\n",
       "      <td>atp_c + phe__L_c + trnaphe_c --&gt; amp_c + phetrna_c + ppi_c</td>\n",
       "    </tr>\n",
       "    <tr>\n",
       "      <td>0.18%</td>\n",
       "      <td>-1.744</td>\n",
       "      <td>PIuabcpp</td>\n",
       "      <td>atp_c + h2o_c + pi_p --&gt; adp_c + h_c + 2.0 pi_c</td>\n",
       "    </tr>\n",
       "    <tr>\n",
       "      <td>0.00%</td>\n",
       "      <td>-0.0001036</td>\n",
       "      <td>PMPK</td>\n",
       "      <td>4ampm_c + atp_c --&gt; 2mahmp_c + adp_c</td>\n",
       "    </tr>\n",
       "    <tr>\n",
       "      <td>0.00%</td>\n",
       "      <td>-7.784E-05</td>\n",
       "      <td>PNTK</td>\n",
       "      <td>atp_c + pnto__R_c --&gt; 4ppan_c + adp_c + h_c</td>\n",
       "    </tr>\n",
       "    <tr>\n",
       "      <td>0.00%</td>\n",
       "      <td>-7.784E-05</td>\n",
       "      <td>PPNCL3</td>\n",
       "      <td>4ppan_c + atp_c + cys__L_c --&gt; 4ppcys_c + amp_c + h_c + ppi_c</td>\n",
       "    </tr>\n",
       "    <tr>\n",
       "      <td>0.08%</td>\n",
       "      <td>-0.7815</td>\n",
       "      <td>PRAGSr</td>\n",
       "      <td>atp_c + gly_c + pram_c --&gt; adp_c + gar_c + h_c + pi_c</td>\n",
       "    </tr>\n",
       "    <tr>\n",
       "      <td>0.08%</td>\n",
       "      <td>-0.7815</td>\n",
       "      <td>PRAIS</td>\n",
       "      <td>atp_c + fpram_c --&gt; adp_c + air_c + 2.0 h_c + pi_c</td>\n",
       "    </tr>\n",
       "    <tr>\n",
       "      <td>0.08%</td>\n",
       "      <td>-0.7814</td>\n",
       "      <td>PRASCSi</td>\n",
       "      <td>5aizc_c + asp__L_c + atp_c &lt;=&gt; 25aics_c + adp_c + h_c + pi_c</td>\n",
       "    </tr>\n",
       "    <tr>\n",
       "      <td>0.08%</td>\n",
       "      <td>-0.7815</td>\n",
       "      <td>PRFGS</td>\n",
       "      <td>atp_c + fgam_c + gln__L_c + h2o_c --&gt; adp_c + fpram_c + glu__L_c + h_c + pi_c</td>\n",
       "    </tr>\n",
       "    <tr>\n",
       "      <td>0.10%</td>\n",
       "      <td>-0.9676</td>\n",
       "      <td>PROTRS</td>\n",
       "      <td>atp_c + pro__L_c + trnapro_c --&gt; amp_c + ppi_c + protrna_c</td>\n",
       "    </tr>\n",
       "    <tr>\n",
       "      <td>0.23%</td>\n",
       "      <td>-2.199</td>\n",
       "      <td>PRPPS</td>\n",
       "      <td>atp_c + r5p_c &lt;=&gt; amp_c + h_c + prpp_c</td>\n",
       "    </tr>\n",
       "    <tr>\n",
       "      <td>19.40%</td>\n",
       "      <td>-185.4</td>\n",
       "      <td>PRUK</td>\n",
       "      <td>atp_c + ru5p__D_c --&gt; adp_c + h_c + rb15bp_c</td>\n",
       "    </tr>\n",
       "    <tr>\n",
       "      <td>0.00%</td>\n",
       "      <td>-7.784E-05</td>\n",
       "      <td>PTPATi</td>\n",
       "      <td>atp_c + h_c + pan4p_c --&gt; dpcoa_c + ppi_c</td>\n",
       "    </tr>\n",
       "    <tr>\n",
       "      <td>0.00%</td>\n",
       "      <td>-0.000125</td>\n",
       "      <td>RBFK</td>\n",
       "      <td>atp_c + ribflv_c --&gt; adp_c + fmn_c + h_c</td>\n",
       "    </tr>\n",
       "    <tr>\n",
       "      <td>0.07%</td>\n",
       "      <td>-0.6367</td>\n",
       "      <td>SADT</td>\n",
       "      <td>atp_c + h_c + so4_c --&gt; aps_c + ppi_c</td>\n",
       "    </tr>\n",
       "    <tr>\n",
       "      <td>0.11%</td>\n",
       "      <td>-1.095</td>\n",
       "      <td>SERTRS</td>\n",
       "      <td>atp_c + ser__L_c + trnaser_c --&gt; amp_c + ppi_c + sertrna_c</td>\n",
       "    </tr>\n",
       "    <tr>\n",
       "      <td>0.17%</td>\n",
       "      <td>-1.6</td>\n",
       "      <td>SHKK</td>\n",
       "      <td>atp_c + skm_c --&gt; adp_c + h_c + skm5p_c</td>\n",
       "    </tr>\n",
       "    <tr>\n",
       "      <td>0.00%</td>\n",
       "      <td>-8.222E-05</td>\n",
       "      <td>SUCBZL</td>\n",
       "      <td>atp_c + coa_c + sucbz_c --&gt; amp_c + ppi_c + sbzcoa_c</td>\n",
       "    </tr>\n",
       "    <tr>\n",
       "      <td>0.07%</td>\n",
       "      <td>-0.6367</td>\n",
       "      <td>SULabcpp</td>\n",
       "      <td>atp_c + h2o_c + so4_p --&gt; adp_c + h_c + pi_c + so4_c</td>\n",
       "    </tr>\n",
       "    <tr>\n",
       "      <td>0.00%</td>\n",
       "      <td>-0.0001036</td>\n",
       "      <td>THISAT</td>\n",
       "      <td>atp_c + h_c + this_c --&gt; athis_c + ppi_c</td>\n",
       "    </tr>\n",
       "    <tr>\n",
       "      <td>0.11%</td>\n",
       "      <td>-1.036</td>\n",
       "      <td>THRTRS</td>\n",
       "      <td>atp_c + thr__L_c + trnathr_c --&gt; amp_c + ppi_c + thrtrna_c</td>\n",
       "    </tr>\n",
       "    <tr>\n",
       "      <td>0.00%</td>\n",
       "      <td>-0.0001036</td>\n",
       "      <td>TMPK</td>\n",
       "      <td>atp_c + thmmp_c --&gt; adp_c + thmpp_c</td>\n",
       "    </tr>\n",
       "    <tr>\n",
       "      <td>0.03%</td>\n",
       "      <td>-0.2922</td>\n",
       "      <td>TRPTRS</td>\n",
       "      <td>atp_c + trnatrp_c + trp__L_c --&gt; amp_c + ppi_c + trptrna_c</td>\n",
       "    </tr>\n",
       "    <tr>\n",
       "      <td>0.06%</td>\n",
       "      <td>-0.5503</td>\n",
       "      <td>TYRTRS</td>\n",
       "      <td>atp_c + trnatyr_c + tyr__L_c --&gt; amp_c + ppi_c + tyrtrna_c</td>\n",
       "    </tr>\n",
       "    <tr>\n",
       "      <td>0.02%</td>\n",
       "      <td>-0.1874</td>\n",
       "      <td>UAAGDS</td>\n",
       "      <td>26dap__M_c + atp_c + uamag_c --&gt; adp_c + h_c + pi_c + ugmd_c</td>\n",
       "    </tr>\n",
       "    <tr>\n",
       "      <td>0.02%</td>\n",
       "      <td>-0.1874</td>\n",
       "      <td>UAMAGS</td>\n",
       "      <td>atp_c + glu__D_c + uama_c --&gt; adp_c + h_c + pi_c + uamag_c</td>\n",
       "    </tr>\n",
       "    <tr>\n",
       "      <td>0.02%</td>\n",
       "      <td>-0.1874</td>\n",
       "      <td>UAMAS</td>\n",
       "      <td>ala__L_c + atp_c + uamr_c --&gt; adp_c + h_c + pi_c + uama_c</td>\n",
       "    </tr>\n",
       "    <tr>\n",
       "      <td>0.02%</td>\n",
       "      <td>-0.1874</td>\n",
       "      <td>UGMDDS</td>\n",
       "      <td>alaala_c + atp_c + ugmd_c --&gt; adp_c + h_c + pi_c + ugmda_c</td>\n",
       "    </tr>\n",
       "    <tr>\n",
       "      <td>0.10%</td>\n",
       "      <td>-0.9917</td>\n",
       "      <td>UMPK</td>\n",
       "      <td>atp_c + ump_c &lt;=&gt; adp_c + udp_c</td>\n",
       "    </tr>\n",
       "    <tr>\n",
       "      <td>0.13%</td>\n",
       "      <td>-1.271</td>\n",
       "      <td>VALTRS</td>\n",
       "      <td>atp_c + trnaval_c + val__L_c --&gt; amp_c + ppi_c + valtrna_c</td>\n",
       "    </tr>\n",
       "  </tbody>\n",
       "</table>"
      ],
      "text/plain": [
       "<cobra.summary.metabolite_summary.MetaboliteSummary at 0x258f56838b0>"
      ]
     },
     "execution_count": 85,
     "metadata": {},
     "output_type": "execute_result"
    }
   ],
   "source": [
    "consistent_model.metabolites.atp_c.summary()"
   ]
  },
  {
   "cell_type": "code",
   "execution_count": null,
   "metadata": {
    "pycharm": {
     "name": "#%%\n"
    }
   },
   "outputs": [],
   "source": [
    "consistent_model.reactions.HCO3E_1_cx "
   ]
  },
  {
   "cell_type": "code",
   "execution_count": 72,
   "metadata": {
    "pycharm": {
     "name": "#%%\n"
    }
   },
   "outputs": [
    {
     "data": {
      "text/html": [
       "\n",
       "        <table>\n",
       "            <tr>\n",
       "                <td><strong>Reaction identifier</strong></td><td>HCO3tcx</td>\n",
       "            </tr><tr>\n",
       "                <td><strong>Name</strong></td><td>Bicarbonate transport to carboxyzome</td>\n",
       "            </tr><tr>\n",
       "                <td><strong>Memory address</strong></td>\n",
       "                <td>0x0258eb887ac0</td>\n",
       "            </tr><tr>\n",
       "                <td><strong>Stoichiometry</strong></td>\n",
       "                <td>\n",
       "                    <p style='text-align:right'>hco3_c --> hco3_cx</p>\n",
       "                    <p style='text-align:right'>Bicarbonate --> Bicarbonate</p>\n",
       "                </td>\n",
       "            </tr><tr>\n",
       "                <td><strong>GPR</strong></td><td></td>\n",
       "            </tr><tr>\n",
       "                <td><strong>Lower bound</strong></td><td>0.0</td>\n",
       "            </tr><tr>\n",
       "                <td><strong>Upper bound</strong></td><td>1000.0</td>\n",
       "            </tr>\n",
       "        </table>\n",
       "        "
      ],
      "text/plain": [
       "<Reaction HCO3tcx at 0x258eb887ac0>"
      ]
     },
     "execution_count": 72,
     "metadata": {},
     "output_type": "execute_result"
    }
   ],
   "source": [
    "consistent_model.reactions.HCO3tcx "
   ]
  },
  {
   "cell_type": "code",
   "execution_count": 71,
   "metadata": {
    "pycharm": {
     "name": "#%%\n"
    }
   },
   "outputs": [
    {
     "data": {
      "text/html": [
       "\n",
       "        <table>\n",
       "            <tr>\n",
       "                <td><strong>Metabolite identifier</strong></td><td>hco3_cx</td>\n",
       "            </tr><tr>\n",
       "                <td><strong>Name</strong></td><td>Bicarbonate</td>\n",
       "            </tr><tr>\n",
       "                <td><strong>Memory address</strong></td>\n",
       "                <td>0x0258eb7764a0</td>\n",
       "            </tr><tr>\n",
       "                <td><strong>Formula</strong></td><td>CHO3</td>\n",
       "            </tr><tr>\n",
       "                <td><strong>Compartment</strong></td><td>cx</td>\n",
       "            </tr><tr>\n",
       "                <td><strong>In 2 reaction(s)</strong></td><td>\n",
       "                    HCO3tcx, HCO3E_1_cx</td>\n",
       "            </tr>\n",
       "        </table>"
      ],
      "text/plain": [
       "<Metabolite hco3_cx at 0x258eb7764a0>"
      ]
     },
     "execution_count": 71,
     "metadata": {},
     "output_type": "execute_result"
    }
   ],
   "source": [
    "consistent_model.metabolites.hco3_cx"
   ]
  },
  {
   "cell_type": "code",
   "execution_count": 47,
   "metadata": {
    "pycharm": {
     "name": "#%%\n"
    }
   },
   "outputs": [
    {
     "data": {
      "text/plain": [
       "frozenset({<Reaction BCT1_syn at 0x258eb87c730>,\n",
       "           <Reaction H2CO3_NAt_syn at 0x258eb8873d0>,\n",
       "           <Reaction HCO3tex at 0x258eb87e860>})"
      ]
     },
     "execution_count": 47,
     "metadata": {},
     "output_type": "execute_result"
    }
   ],
   "source": [
    "consistent_model.metabolites.hco3_p.reactions"
   ]
  },
  {
   "cell_type": "code",
   "execution_count": 48,
   "metadata": {
    "pycharm": {
     "name": "#%%\n"
    }
   },
   "outputs": [
    {
     "data": {
      "text/html": [
       "\n",
       "        <table>\n",
       "            <tr>\n",
       "                <td><strong>Reaction identifier</strong></td><td>HCO3tex</td>\n",
       "            </tr><tr>\n",
       "                <td><strong>Name</strong></td><td>Bicarbonate transport via diffusion (extracellular to periplasm)</td>\n",
       "            </tr><tr>\n",
       "                <td><strong>Memory address</strong></td>\n",
       "                <td>0x0258eb87e860</td>\n",
       "            </tr><tr>\n",
       "                <td><strong>Stoichiometry</strong></td>\n",
       "                <td>\n",
       "                    <p style='text-align:right'>hco3_e <=> hco3_p</p>\n",
       "                    <p style='text-align:right'>Bicarbonate <=> Bicarbonate</p>\n",
       "                </td>\n",
       "            </tr><tr>\n",
       "                <td><strong>GPR</strong></td><td></td>\n",
       "            </tr><tr>\n",
       "                <td><strong>Lower bound</strong></td><td>-1000.0</td>\n",
       "            </tr><tr>\n",
       "                <td><strong>Upper bound</strong></td><td>1000.0</td>\n",
       "            </tr>\n",
       "        </table>\n",
       "        "
      ],
      "text/plain": [
       "<Reaction HCO3tex at 0x258eb87e860>"
      ]
     },
     "execution_count": 48,
     "metadata": {},
     "output_type": "execute_result"
    }
   ],
   "source": [
    "consistent_model.reactions.HCO3tex "
   ]
  },
  {
   "cell_type": "code",
   "execution_count": 73,
   "metadata": {
    "pycharm": {
     "name": "#%%\n"
    }
   },
   "outputs": [
    {
     "data": {
      "text/html": [
       "\n",
       "        <table>\n",
       "            <tr>\n",
       "                <td><strong>Reaction identifier</strong></td><td>BCT1_syn</td>\n",
       "            </tr><tr>\n",
       "                <td><strong>Name</strong></td><td>Bicarbonate transport via ABC system (periplasm)</td>\n",
       "            </tr><tr>\n",
       "                <td><strong>Memory address</strong></td>\n",
       "                <td>0x0258eb87c730</td>\n",
       "            </tr><tr>\n",
       "                <td><strong>Stoichiometry</strong></td>\n",
       "                <td>\n",
       "                    <p style='text-align:right'>atp_c + h2o_c + hco3_p --> adp_c + h_c + hco3_c + pi_c</p>\n",
       "                    <p style='text-align:right'>ATP C10H12N5O13P3 + H2O H2O + Bicarbonate --> ADP C10H12N5O10P2 + H+ + Bicarbonate + Phosphate</p>\n",
       "                </td>\n",
       "            </tr><tr>\n",
       "                <td><strong>GPR</strong></td><td>SYNPCC7942_RS07605 and SYNPCC7942_RS07610 and SYNPCC7942_RS07615 and SYNPCC7942_RS07620</td>\n",
       "            </tr><tr>\n",
       "                <td><strong>Lower bound</strong></td><td>0.0</td>\n",
       "            </tr><tr>\n",
       "                <td><strong>Upper bound</strong></td><td>1000.0</td>\n",
       "            </tr>\n",
       "        </table>\n",
       "        "
      ],
      "text/plain": [
       "<Reaction BCT1_syn at 0x258eb87c730>"
      ]
     },
     "execution_count": 73,
     "metadata": {},
     "output_type": "execute_result"
    }
   ],
   "source": [
    "consistent_model.reactions.BCT1_syn  "
   ]
  },
  {
   "cell_type": "code",
   "execution_count": null,
   "metadata": {
    "pycharm": {
     "name": "#%%\n"
    }
   },
   "outputs": [],
   "source": [
    "red_costs = run_with_intervention(['GND', 'PSP_L', 'BCT1_syn'])\n",
    "\n",
    "red_costs[np.abs(red_costs)>0.001].sort_values()"
   ]
  },
  {
   "cell_type": "code",
   "execution_count": 53,
   "metadata": {
    "pycharm": {
     "name": "#%%\n"
    }
   },
   "outputs": [
    {
     "data": {
      "text/plain": [
       "['SYNPCC7942_RS07615',\n",
       " 'SYNPCC7942_RS07605',\n",
       " 'SYNPCC7942_RS07620',\n",
       " 'SYNPCC7942_RS07610']"
      ]
     },
     "execution_count": 53,
     "metadata": {},
     "output_type": "execute_result"
    }
   ],
   "source": [
    "\"\"\"\n",
    "['SYNPCC7942_RS07615',\n",
    " 'SYNPCC7942_RS07605',\n",
    " 'SYNPCC7942_RS07620',\n",
    " 'SYNPCC7942_RS07610']\n",
    " \n",
    "\"\"\"\n",
    "[g.id for g in model.reactions.BCT1_syn.genes]"
   ]
  },
  {
   "cell_type": "code",
   "execution_count": 82,
   "metadata": {
    "pycharm": {
     "name": "#%%\n"
    }
   },
   "outputs": [
    {
     "name": "stdout",
     "output_type": "stream",
     "text": [
      "[]\n",
      "4.08828027358269\n"
     ]
    },
    {
     "data": {
      "image/png": "[encoded data removed]",
      "text/plain": [
       "<Figure size 640x480 with 1 Axes>"
      ]
     },
     "metadata": {},
     "output_type": "display_data"
    },
    {
     "data": {
      "text/plain": [
       "EX_photon690_e   -1000.000\n",
       "EX_photon670_e   -1000.000\n",
       "H2Otu_syn         -500.000\n",
       "O2tex             -194.132\n",
       "O2tpp             -194.132\n",
       "                    ...   \n",
       "ETCPC             1000.000\n",
       "PSIICSum          1000.000\n",
       "PHOA670um         1000.000\n",
       "PSIum             1000.000\n",
       "PHOA690um         1000.000\n",
       "Name: fluxes, Length: 446, dtype: float64"
      ]
     },
     "execution_count": 82,
     "metadata": {},
     "output_type": "execute_result"
    }
   ],
   "source": [
    "red_costs = run_with_intervention(['BCT1_syn'])\n",
    "red_costs[np.abs(red_costs)>0.001].sort_values()"
   ]
  },
  {
   "cell_type": "code",
   "execution_count": 83,
   "metadata": {
    "pycharm": {
     "name": "#%%\n"
    }
   },
   "outputs": [
    {
     "data": {
      "text/plain": [
       "183.52300375243226"
      ]
     },
     "execution_count": 83,
     "metadata": {},
     "output_type": "execute_result"
    }
   ],
   "source": [
    "red_costs[np.abs(red_costs)>0.001].loc['HCO3E_1_cx']"
   ]
  },
  {
   "cell_type": "code",
   "execution_count": 43,
   "metadata": {
    "pycharm": {
     "name": "#%%\n"
    }
   },
   "outputs": [
    {
     "name": "stdout",
     "output_type": "stream",
     "text": [
      "['PSP_L']\n",
      "PSP_L: h2o_c + pser__L_c --> pi_c + ser__L_c\n",
      "1.9945150376163114\n"
     ]
    },
    {
     "data": {
      "image/png": "[encoded data removed]",
      "text/plain": [
       "<Figure size 640x480 with 1 Axes>"
      ]
     },
     "metadata": {},
     "output_type": "display_data"
    },
    {
     "data": {
      "text/plain": [
       "FDH6          -1.527\n",
       "GLYCK         -1.527\n",
       "EX_meoh_e     -0.774\n",
       "SK_for_c      -0.763\n",
       "EX_sucr_e     -0.122\n",
       "SK_akg_c      -0.031\n",
       "PSIICRum      -0.029\n",
       "DM_succ_c     -0.029\n",
       "DM_lac__D_c   -0.026\n",
       "SK_fum_c      -0.026\n",
       "NTRIRfx       -0.023\n",
       "ZCAROTDH2     -0.013\n",
       "DM_ac_c       -0.013\n",
       "AGDC          -0.013\n",
       "CYTBD4cm      -0.010\n",
       "MEHLER_1      -0.010\n",
       "CMPA_1        -0.010\n",
       "OXADC         -0.008\n",
       "NADDP         -0.008\n",
       "NGAM          -0.007\n",
       "GTHPi         -0.005\n",
       "GLYCOX2       -0.005\n",
       "DM_h2_c       -0.005\n",
       "LALGP         -0.005\n",
       "GLUCYS        -0.005\n",
       "HEX7          -0.005\n",
       "DCTPD         -0.005\n",
       "ASNN          -0.005\n",
       "DCTPD2        -0.005\n",
       "PKETF         -0.005\n",
       "PKETX         -0.005\n",
       "PSP_L          1.524\n",
       "Name: reduced_costs, dtype: float64"
      ]
     },
     "execution_count": 43,
     "metadata": {},
     "output_type": "execute_result"
    }
   ],
   "source": [
    "red_costs = run_with_intervention(['PSP_L'])\n",
    "red_costs[np.abs(red_costs)>0.005].sort_values()"
   ]
  },
  {
   "cell_type": "code",
   "execution_count": 29,
   "metadata": {
    "pycharm": {
     "name": "#%%\n"
    }
   },
   "outputs": [
    {
     "name": "stdout",
     "output_type": "stream",
     "text": [
      "['CYTBD4cm', 'BCT1_syn', 'PCXHtpp', 'GND', 'PSP_L']\n",
      "1.083904369716062\n"
     ]
    },
    {
     "data": {
      "image/png": "[encoded data removed]",
      "text/plain": [
       "<Figure size 640x480 with 1 Axes>"
      ]
     },
     "metadata": {},
     "output_type": "display_data"
    },
    {
     "data": {
      "text/plain": [
       "GLYCK              -2.076\n",
       "FDH6               -2.063\n",
       "EX_meoh_e          -1.039\n",
       "SK_for_c           -1.037\n",
       "DM_succ_c          -0.013\n",
       "SK_fum_c           -0.013\n",
       "DM_lac__D_c        -0.007\n",
       "MEHLER_1           -0.007\n",
       "PKETF              -0.007\n",
       "PKETX              -0.007\n",
       "Kabcpp             -0.006\n",
       "Htabcpp            -0.006\n",
       "CMPA_1             -0.004\n",
       "OXADC              -0.004\n",
       "GTHPi              -0.004\n",
       "DM_h2_c            -0.004\n",
       "GLYCOX2            -0.004\n",
       "PEPC               -0.004\n",
       "NDHPQRum           -0.004\n",
       "ASPOb              -0.004\n",
       "EX_hco3_e          -0.004\n",
       "NDH_1_1_um_copy1   -0.004\n",
       "AGDC               -0.003\n",
       "NO3abcpp           -0.003\n",
       "PSICRum            -0.002\n",
       "PSICSum             0.002\n",
       "BCT1_syn            0.006\n",
       "PCXHtpp             0.006\n",
       "GND                 0.007\n",
       "CYTBD4cm            0.016\n",
       "PSP_L               2.076\n",
       "Name: reduced_costs, dtype: float64"
      ]
     },
     "execution_count": 29,
     "metadata": {},
     "output_type": "execute_result"
    }
   ],
   "source": [
    "red_costs = run_with_intervention(rxns[3])\n",
    "red_costs[np.abs(red_costs)>0.001].sort_values()"
   ]
  },
  {
   "cell_type": "code",
   "execution_count": 78,
   "metadata": {
    "pycharm": {
     "name": "#%%\n"
    }
   },
   "outputs": [
    {
     "name": "stdout",
     "output_type": "stream",
     "text": [
      "Htex\n",
      "EX_hco3_e\n",
      "NO3abcpp\n",
      "0.7434414202750895\n"
     ]
    },
    {
     "data": {
      "image/png": "[encoded data removed]",
      "text/plain": [
       "<Figure size 640x480 with 1 Axes>"
      ]
     },
     "metadata": {},
     "output_type": "display_data"
    }
   ],
   "source": [
    "run_with_intervention(sols.reaction_sd[4])"
   ]
  },
  {
   "cell_type": "markdown",
   "metadata": {
    "pycharm": {
     "name": "#%% md\n"
    }
   },
   "source": [
    "## Optcouple"
   ]
  },
  {
   "cell_type": "code",
   "execution_count": 127,
   "metadata": {
    "pycharm": {
     "name": "#%%\n"
    }
   },
   "outputs": [],
   "source": [
    "module_optcouple = sd.SDModule(\n",
    "    consistent_model,\n",
    "    sd.names.OPTCOUPLE,\n",
    "    inner_objective='BIOMASS__1',\n",
    "    prod_id='EX_sucr_e',\n",
    "    min_gcp=0.5\n",
    ")"
   ]
  }
 ],
 "metadata": {
  "kernelspec": {
   "display_name": "Python 3 (ipykernel)",
   "language": "python",
   "name": "python3"
  },
  "language_info": {
   "codemirror_mode": {
    "name": "ipython",
    "version": 3
   },
   "file_extension": ".py",
   "mimetype": "text/x-python",
   "name": "python",
   "nbconvert_exporter": "python",
   "pygments_lexer": "ipython3",
   "version": "3.10.6"
  }
 },
 "nbformat": 4,
 "nbformat_minor": 1
}
