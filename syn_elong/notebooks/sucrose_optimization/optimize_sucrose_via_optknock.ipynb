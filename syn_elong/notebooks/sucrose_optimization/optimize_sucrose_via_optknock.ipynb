{
 "cells": [
  {
   "cell_type": "code",
   "execution_count": 1,
   "metadata": {
    "pycharm": {
     "is_executing": true,
     "name": "#%%\n"
    }
   },
   "outputs": [],
   "source": [
    "import matplotlib.pyplot as plt\n",
    "import os\n",
    "# os.environ['JAVA_HOME'] = r'C:\\Program Files\\Java\\jdk-21'\n",
    "from straindesign import compress_model, remove_dummy_bounds\n",
    "import cobra\n",
    "import logging\n",
    "logging.basicConfig(level=logging.INFO)\n",
    "import cobra\n",
    "import numpy as np"
   ]
  },
  {
   "cell_type": "code",
   "execution_count": 3,
   "metadata": {
    "pycharm": {
     "name": "#%%\n"
    }
   },
   "outputs": [],
   "source": [
    "import pandas as pd\n",
    "pd.set_option('display.float_format', lambda x: f'{x:.3f}')"
   ]
  },
  {
   "cell_type": "code",
   "execution_count": 4,
   "metadata": {
    "pycharm": {
     "name": "#%%\n"
    }
   },
   "outputs": [],
   "source": [
    "import straindesign as sd\n",
    "import straindesign.names as names"
   ]
  },
  {
   "cell_type": "code",
   "execution_count": 5,
   "metadata": {
    "pycharm": {
     "name": "#%%\n"
    }
   },
   "outputs": [
    {
     "name": "stdout",
     "output_type": "stream",
     "text": [
      "Set parameter Username\n"
     ]
    },
    {
     "name": "stderr",
     "output_type": "stream",
     "text": [
      "INFO:gurobipy.gurobipy:Set parameter Username\n"
     ]
    },
    {
     "name": "stdout",
     "output_type": "stream",
     "text": [
      "Set parameter GURO_PAR_SPECIAL\n"
     ]
    },
    {
     "name": "stderr",
     "output_type": "stream",
     "text": [
      "INFO:gurobipy.gurobipy:Set parameter GURO_PAR_SPECIAL\n"
     ]
    },
    {
     "name": "stdout",
     "output_type": "stream",
     "text": [
      "Set parameter TokenServer to value \"leghorn\"\n"
     ]
    },
    {
     "name": "stderr",
     "output_type": "stream",
     "text": [
      "INFO:gurobipy.gurobipy:Set parameter TokenServer to value \"leghorn\"\n"
     ]
    }
   ],
   "source": [
    "from syn_elong import model\n",
    "from syn_elong.media import min_media"
   ]
  },
  {
   "cell_type": "code",
   "execution_count": 6,
   "metadata": {
    "pycharm": {
     "name": "#%%\n"
    }
   },
   "outputs": [
    {
     "name": "stdout",
     "output_type": "stream",
     "text": [
      "0.05390186774577662\n"
     ]
    }
   ],
   "source": [
    "with model:\n",
    "    print(model.slim_optimize())"
   ]
  },
  {
   "cell_type": "code",
   "execution_count": 7,
   "metadata": {
    "pycharm": {
     "name": "#%%\n"
    }
   },
   "outputs": [
    {
     "name": "stderr",
     "output_type": "stream",
     "text": [
      "INFO:cobra.medium.boundary_types:Compartment `e` sounds like an external compartment. Using this one without counting boundary reactions.\n"
     ]
    },
    {
     "name": "stdout",
     "output_type": "stream",
     "text": [
      "4.088280273582626\n"
     ]
    }
   ],
   "source": [
    "with model:\n",
    "    model.medium = min_media\n",
    "    print(model.slim_optimize())"
   ]
  },
  {
   "cell_type": "code",
   "execution_count": 12,
   "metadata": {
    "pycharm": {
     "name": "#%%\n"
    }
   },
   "outputs": [
    {
     "name": "stderr",
     "output_type": "stream",
     "text": [
      "INFO:cobra.medium.boundary_types:Compartment `e` sounds like an external compartment. Using this one without counting boundary reactions.\n"
     ]
    },
    {
     "name": "stdout",
     "output_type": "stream",
     "text": [
      "Maximum possible BIOMASS__1 synthesis rate: 4.088280273582666.\n",
      "Maximum possible EX_sucr_e synthesis rate: 16.389121923937367.\n"
     ]
    }
   ],
   "source": [
    "with model:\n",
    "    model.medium = min_media\n",
    "    sol = sd.fba(model, obj='BIOMASS__1', obj_sense='max', pfba =False)\n",
    "    print(f\"Maximum possible BIOMASS__1 synthesis rate: {sol.objective_value}.\")\n",
    "    sol = sd.fba(model, obj='EX_sucr_e', obj_sense='max', pfba =False)\n",
    "    print(f\"Maximum possible EX_sucr_e synthesis rate: {sol.objective_value}.\")\n"
   ]
  },
  {
   "cell_type": "code",
   "execution_count": null,
   "metadata": {
    "pycharm": {
     "name": "#%%\n"
    }
   },
   "outputs": [],
   "source": [
    "model.medium = min_media"
   ]
  },
  {
   "cell_type": "code",
   "execution_count": 8,
   "metadata": {
    "collapsed": false,
    "jupyter": {
     "outputs_hidden": false
    },
    "pycharm": {
     "name": "#%%\n"
    }
   },
   "outputs": [
    {
     "name": "stderr",
     "output_type": "stream",
     "text": [
      "INFO:cobra.medium.boundary_types:Compartment `e` sounds like an external compartment. Using this one without counting boundary reactions.\n"
     ]
    }
   ],
   "source": []
  },
  {
   "cell_type": "code",
   "execution_count": 18,
   "metadata": {
    "pycharm": {
     "name": "#%%\n"
    }
   },
   "outputs": [
    {
     "data": {
      "text/plain": [
       "['3HAD100',\n",
       " '3HAD120',\n",
       " '3HAD140',\n",
       " '3HAD160',\n",
       " '3HAD180',\n",
       " '3HAD40_2',\n",
       " '3HAD60',\n",
       " '3HAD80',\n",
       " '3OAR100',\n",
       " '3OAR120',\n",
       " '3OAR140',\n",
       " '3OAR160',\n",
       " '3OAR180',\n",
       " '3OAR40_2',\n",
       " '3OAR60',\n",
       " '3OAR80',\n",
       " '3OAS100',\n",
       " '3OAS120',\n",
       " '3OAS140',\n",
       " '3OAS160',\n",
       " '3OAS180',\n",
       " '3OAS60',\n",
       " '3OAS80',\n",
       " '4PCP',\n",
       " '4PEPTabcpp',\n",
       " 'A5PISO',\n",
       " 'AACPS6',\n",
       " 'ACBIPGT',\n",
       " 'ACCOAC',\n",
       " 'ACGAMK',\n",
       " 'ACGAMT',\n",
       " 'ACGK',\n",
       " 'ACGS',\n",
       " 'ACHBSb',\n",
       " 'ACKr',\n",
       " 'ACLSa',\n",
       " 'ACLSb',\n",
       " 'ACM6PH',\n",
       " 'ACMAMT',\n",
       " 'ACOATA',\n",
       " 'ACODA',\n",
       " 'ACONT',\n",
       " 'ACOTA',\n",
       " 'ACS',\n",
       " 'ADCL',\n",
       " 'ADCPS2',\n",
       " 'ADCS',\n",
       " 'ADCYRS',\n",
       " 'ADK1',\n",
       " 'ADMDC',\n",
       " 'ADOCBLS',\n",
       " 'ADPGLC',\n",
       " 'ADPT',\n",
       " 'ADSK',\n",
       " 'ADSL1r',\n",
       " 'ADSL2r',\n",
       " 'ADSS',\n",
       " 'AFAT',\n",
       " 'AGDC',\n",
       " 'AGDI_1',\n",
       " 'AGM3PApp',\n",
       " 'AGM3PH',\n",
       " 'AGM4PA',\n",
       " 'AGM4PApp',\n",
       " 'AGM4PCP',\n",
       " 'AGM4PH',\n",
       " 'AGMH',\n",
       " 'AGPAT160',\n",
       " 'AGPAT161',\n",
       " 'AGPATACP_HDE_PALM',\n",
       " 'AGPATACP_OLE_HDE',\n",
       " 'AGPATACP_OLE_PALM',\n",
       " 'AGPR',\n",
       " 'AGTi',\n",
       " 'AHCi',\n",
       " 'AHSERL2_1',\n",
       " 'AICART',\n",
       " 'AIRC2',\n",
       " 'AIRC3',\n",
       " 'ALAALAD',\n",
       " 'ALAALAabcpp',\n",
       " 'ALAALAr',\n",
       " 'ALAD_L',\n",
       " 'ALAGLUE',\n",
       " 'ALAR',\n",
       " 'ALATRS',\n",
       " 'ALCD1',\n",
       " 'ALCD19',\n",
       " 'ALDD2y',\n",
       " 'ALDDC17',\n",
       " 'ALDR18',\n",
       " 'AM3PA',\n",
       " 'AM4PA',\n",
       " 'AM4PCP',\n",
       " 'AMANAPEr',\n",
       " 'AMAOTr',\n",
       " 'AMPMS3',\n",
       " 'AMPTASECG',\n",
       " 'ANHMK',\n",
       " 'ANPRT',\n",
       " 'ANS',\n",
       " 'ANS2',\n",
       " 'AOXSr2',\n",
       " 'ARD',\n",
       " 'ARGDC',\n",
       " 'ARGDHpp',\n",
       " 'ARGOXRum',\n",
       " 'ARGSL',\n",
       " 'ARGSS',\n",
       " 'ARGTRS',\n",
       " 'ARGabcpp',\n",
       " 'ASAD',\n",
       " 'ASNN',\n",
       " 'ASNS1',\n",
       " 'ASNTRS',\n",
       " 'ASP1DC',\n",
       " 'ASPCT',\n",
       " 'ASPK',\n",
       " 'ASPO5',\n",
       " 'ASPO6',\n",
       " 'ASPOb',\n",
       " 'ASPTA',\n",
       " 'ASPTRS',\n",
       " 'ATPPRT',\n",
       " 'ATPSum',\n",
       " 'BACCL',\n",
       " 'BCAROHX',\n",
       " 'BCAROHX2',\n",
       " 'BCT1_syn',\n",
       " 'BPNT',\n",
       " 'BPNT2',\n",
       " 'BTNPL2',\n",
       " 'BTS6',\n",
       " 'CA2abcpp',\n",
       " 'CA2t2pp',\n",
       " 'CAT',\n",
       " 'CBFCum',\n",
       " 'CBPS',\n",
       " 'CCGS',\n",
       " 'CDGR',\n",
       " 'CDGS',\n",
       " 'CDPDAGS_OLE_PALM',\n",
       " 'CDPGLC46DH',\n",
       " 'CDPMEK',\n",
       " 'CELLSYN',\n",
       " 'CHORM',\n",
       " 'CHORS',\n",
       " 'CHPHYS',\n",
       " 'CHRPL',\n",
       " 'CITCIa',\n",
       " 'CITCIb',\n",
       " 'CITMS',\n",
       " 'CLt3_1pp',\n",
       " 'CMPA_1',\n",
       " 'COCHL_1',\n",
       " 'CPH4S',\n",
       " 'CPPPGO',\n",
       " 'CPPPGO2',\n",
       " 'CS',\n",
       " 'CTPS2',\n",
       " 'CUabcpp',\n",
       " 'CXANHX',\n",
       " 'CYNL',\n",
       " 'CYNTtabcpp',\n",
       " 'CYOOum',\n",
       " 'CYRDAAT',\n",
       " 'CYSDES',\n",
       " 'CYSS_2',\n",
       " 'CYSTRS',\n",
       " 'CYTBD4cm',\n",
       " 'CYTBD4um',\n",
       " 'CYTK1',\n",
       " 'Cobalt2abcppI',\n",
       " 'DADK',\n",
       " 'DAGK160',\n",
       " 'DAGK161',\n",
       " 'DAGK_HDE_PALM',\n",
       " 'DAGK_OLE_HDE',\n",
       " 'DAGK_OLE_PALM',\n",
       " 'DALAabcpp',\n",
       " 'DAPDC',\n",
       " 'DAPE',\n",
       " 'DB4PS',\n",
       " 'DBTS',\n",
       " 'DCTPD',\n",
       " 'DCTPD2',\n",
       " 'DDPA',\n",
       " 'DDPGA',\n",
       " 'DESAT16a',\n",
       " 'DESAT18a',\n",
       " 'DGDGS_HDE_HDE',\n",
       " 'DGDGS_HDE_PALM',\n",
       " 'DGDGS_OLE_HDE',\n",
       " 'DGDGS_OLE_PALM',\n",
       " 'DHAD1',\n",
       " 'DHAD2',\n",
       " 'DHFR',\n",
       " 'DHFS',\n",
       " 'DHNANT',\n",
       " 'DHNCOAS',\n",
       " 'DHNCOAT',\n",
       " 'DHNPA_1',\n",
       " 'DHORD3um',\n",
       " 'DHORTS',\n",
       " 'DHPPDA',\n",
       " 'DHQS',\n",
       " 'DHQTi',\n",
       " 'DMATT',\n",
       " 'DMBZIDS2',\n",
       " 'DMPPS_syn',\n",
       " 'DMTPHT',\n",
       " 'DNAMTn2r',\n",
       " 'DPCOAK',\n",
       " 'DPOR',\n",
       " 'DPR',\n",
       " 'DTMPK',\n",
       " 'DVOCHR_1',\n",
       " 'DXPRIi',\n",
       " 'DXPS',\n",
       " 'DXYTST',\n",
       " 'E4PD',\n",
       " 'EAR100y',\n",
       " 'EAR120y',\n",
       " 'EAR140y',\n",
       " 'EAR160y',\n",
       " 'EAR180y',\n",
       " 'EAR40y',\n",
       " 'EAR60y',\n",
       " 'EAR80y',\n",
       " 'EGMEACPR',\n",
       " 'EHGLAT',\n",
       " 'ENO',\n",
       " 'ENOPH',\n",
       " 'EPMEACPR',\n",
       " 'EPXQR',\n",
       " 'ERTHMMOR',\n",
       " 'ETCPC',\n",
       " 'FALDH2',\n",
       " 'FBA',\n",
       " 'FBA3',\n",
       " 'FBP',\n",
       " 'FCLT',\n",
       " 'FDH6',\n",
       " 'FE3abcpp',\n",
       " 'FMETTRS',\n",
       " 'FMNRy_1',\n",
       " 'FNOR_1',\n",
       " 'FOLD3',\n",
       " 'FRTT',\n",
       " 'FTHFD',\n",
       " 'FUM',\n",
       " 'G1PACT',\n",
       " 'G1PCTYT',\n",
       " 'G1PTT',\n",
       " 'G1SAT',\n",
       " 'G3PAT160',\n",
       " 'G3PAT161',\n",
       " 'G3PAT1819Z_1',\n",
       " 'G3PD2',\n",
       " 'G5SD',\n",
       " 'G6PDA',\n",
       " 'G6PDH2r',\n",
       " 'GALUi',\n",
       " 'GAPD',\n",
       " 'GAPDi_nadp',\n",
       " 'GARFT',\n",
       " 'GART',\n",
       " 'GCALDDy',\n",
       " 'GCATENEC',\n",
       " 'GF6PTA',\n",
       " 'GFUCS',\n",
       " 'GGCLUT2',\n",
       " 'GGDPR',\n",
       " 'GHMT2r',\n",
       " 'GK1',\n",
       " 'GLCBRAN3',\n",
       " 'GLCDBRAN3',\n",
       " 'GLCP2_1',\n",
       " 'GLCS3',\n",
       " 'GLGC',\n",
       " 'GLNS',\n",
       " 'GLNTRS',\n",
       " 'GLNabcpp',\n",
       " 'GLU5K',\n",
       " 'GLUCYS',\n",
       " 'GLUDGE_HDE_HDE',\n",
       " 'GLUDGE_HDE_PALM',\n",
       " 'GLUDGE_OLE_HDE',\n",
       " 'GLUDGE_OLE_PALM',\n",
       " 'GLUDGS_HDE_HDE',\n",
       " 'GLUDGS_HDE_PALM',\n",
       " 'GLUDGS_OLE_HDE',\n",
       " 'GLUDGS_OLE_PALM',\n",
       " 'GLUPRT',\n",
       " 'GLUR',\n",
       " 'GLUSfx',\n",
       " 'GLUTRR',\n",
       " 'GLUTRS',\n",
       " 'GLYALDDy',\n",
       " 'GLYCK',\n",
       " 'GLYCL',\n",
       " 'GLYCLTDx',\n",
       " 'GLYCOX1',\n",
       " 'GLYCOX2',\n",
       " 'GLYDHDA',\n",
       " 'GLYOX',\n",
       " 'GLYOX_1',\n",
       " 'GLYTRS',\n",
       " 'GMAND',\n",
       " 'GMPS2',\n",
       " 'GND',\n",
       " 'GRTT',\n",
       " 'GTHOr',\n",
       " 'GTHPi',\n",
       " 'GTHRDH_syn',\n",
       " 'GTHS',\n",
       " 'GTPCI',\n",
       " 'GTPCII',\n",
       " 'H2CO3_NAt_syn',\n",
       " 'H4THDPR',\n",
       " 'H4THDPS',\n",
       " 'HBZNPT',\n",
       " 'HCO3E_1_cx',\n",
       " 'HEMEAS_1',\n",
       " 'HEMEOS',\n",
       " 'HEX1',\n",
       " 'HEX7',\n",
       " 'HGYDAS',\n",
       " 'HISTDa',\n",
       " 'HISTDb',\n",
       " 'HISTRS',\n",
       " 'HMBS',\n",
       " 'HOXGfx',\n",
       " 'HPPK',\n",
       " 'HPROb',\n",
       " 'HPYRRy',\n",
       " 'HSDy',\n",
       " 'HSERTA',\n",
       " 'HSK',\n",
       " 'HSTPT',\n",
       " 'HTHRPDH',\n",
       " 'ICDHyr',\n",
       " 'ICHORS',\n",
       " 'ICLIPAS',\n",
       " 'ICLIPAabcpp',\n",
       " 'IG3PS',\n",
       " 'IGPDH',\n",
       " 'IGPS',\n",
       " 'ILETA',\n",
       " 'ILETRS',\n",
       " 'IMPC',\n",
       " 'IMPD',\n",
       " 'IPDDI',\n",
       " 'IPDPS_syn',\n",
       " 'IPMD',\n",
       " 'IPPMIa',\n",
       " 'IPPMIb',\n",
       " 'IPPS',\n",
       " 'KARA1',\n",
       " 'KARI_1',\n",
       " 'KARI_23dhmp_1',\n",
       " 'KAS14',\n",
       " 'KAS15',\n",
       " 'KDOCT2',\n",
       " 'KDOPP',\n",
       " 'KDOPS',\n",
       " 'Kabcpp',\n",
       " 'Ktu',\n",
       " 'LADGMDH',\n",
       " 'LALGP',\n",
       " 'LDAPAT',\n",
       " 'LDH_D',\n",
       " 'LEUTA',\n",
       " 'LEUTRS',\n",
       " 'LEUabcpp',\n",
       " 'LIPAMPL_1',\n",
       " 'LIPATPT_1',\n",
       " 'LIPOCT',\n",
       " 'LIPOS2',\n",
       " 'LPADSS2',\n",
       " 'LPOR',\n",
       " 'LTHRK',\n",
       " 'LYCOPC',\n",
       " 'LYSTRS',\n",
       " 'MALCOAMT',\n",
       " 'MAN1PT',\n",
       " 'MAN6PI',\n",
       " 'MCOATA',\n",
       " 'MCTP1App',\n",
       " 'MCTP1Bpp',\n",
       " 'MCTP2App',\n",
       " 'MDDCP1pp',\n",
       " 'MDDCP2pp',\n",
       " 'MDDCP3pp',\n",
       " 'MDDCP4pp',\n",
       " 'MDDCP5pp',\n",
       " 'MDDEP1pp',\n",
       " 'MDDEP2pp',\n",
       " 'MDDEP3pp',\n",
       " 'MDDEP4pp',\n",
       " 'MDRPD',\n",
       " 'ME2',\n",
       " 'MECDPDHf',\n",
       " 'MECDPS',\n",
       " 'MEHLER_1',\n",
       " 'MEPCT',\n",
       " 'METAT',\n",
       " 'METS_1',\n",
       " 'METTRS',\n",
       " 'MG2tex',\n",
       " 'MG2uabcpp',\n",
       " 'MI3PP',\n",
       " 'MLTGY1pp',\n",
       " 'MLTGY2pp',\n",
       " 'MLTGY3pp',\n",
       " 'MLTGY4pp',\n",
       " 'MNHNAtpp',\n",
       " 'MNabc_1',\n",
       " 'MOAT_1',\n",
       " 'MOBDabcpp',\n",
       " 'MOHMT',\n",
       " 'MPML',\n",
       " 'MPOMC1_1',\n",
       " 'MPOMMM',\n",
       " 'MPOMOR_1',\n",
       " 'MPOMT_1',\n",
       " 'MPTG',\n",
       " 'MPTG2',\n",
       " 'MSBENZMT',\n",
       " 'MTAP',\n",
       " 'MTHFC',\n",
       " 'MTHFD',\n",
       " 'MTHFR3_1',\n",
       " 'MTRI',\n",
       " 'NADDP',\n",
       " 'NADK',\n",
       " 'NADS2',\n",
       " 'NADTRHD',\n",
       " 'NAD_H2',\n",
       " 'NAMNPP',\n",
       " 'NAt3pp',\n",
       " 'NDHPQRcm',\n",
       " 'NDHPQRum',\n",
       " 'NDH_1_1_um_copy1',\n",
       " 'NDH_1_1_um_copy2',\n",
       " 'NDH_1_4_um_copy1',\n",
       " 'NDH_1_4_um_copy2',\n",
       " 'NDPK1',\n",
       " 'NDPK2',\n",
       " 'NDPK3',\n",
       " 'NDPK4',\n",
       " 'NDPK5',\n",
       " 'NDPK6',\n",
       " 'NDPK7',\n",
       " 'NDPK8',\n",
       " 'NH4tpp',\n",
       " 'NI2uabcpp',\n",
       " 'NMNAT',\n",
       " 'NMNDA',\n",
       " 'NMNS',\n",
       " 'NNATr',\n",
       " 'NNDMBRT',\n",
       " 'NNDPR',\n",
       " 'NO2tabcpp',\n",
       " 'NO3abcpp',\n",
       " 'NPDPS',\n",
       " 'NPHBDC',\n",
       " 'NTD6',\n",
       " 'NTD7',\n",
       " 'NTPP2',\n",
       " 'NTPP8',\n",
       " 'NTRARf2',\n",
       " 'NTRIRfx',\n",
       " 'Nat_Kpp',\n",
       " 'OANTILpp',\n",
       " 'OANTIabcpp',\n",
       " 'OANTS',\n",
       " 'OCBT',\n",
       " 'OGMEACPD',\n",
       " 'OGMEACPR',\n",
       " 'OGMEACPS',\n",
       " 'OHPBAT',\n",
       " 'OMPDC',\n",
       " 'OPAH',\n",
       " 'OPMEACPD',\n",
       " 'OPMEACPR',\n",
       " 'OPMEACPS',\n",
       " 'ORNDC',\n",
       " 'ORNTA',\n",
       " 'ORNTAC',\n",
       " 'ORPT',\n",
       " 'OXADC',\n",
       " 'P5CR',\n",
       " 'PANTS',\n",
       " 'PAPA160',\n",
       " 'PAPA161',\n",
       " 'PAPA_HDE_PALM',\n",
       " 'PAPA_OLE_HDE',\n",
       " 'PAPA_OLE_PALM',\n",
       " 'PAPPT3',\n",
       " 'PAPSR',\n",
       " 'PC11M',\n",
       " 'PC17M_1',\n",
       " 'PC20M',\n",
       " 'PC6AR_1',\n",
       " 'PC6YM_1',\n",
       " 'PC8XM',\n",
       " 'PCHLDA430',\n",
       " 'PCHLDA650',\n",
       " 'PCXHtpp',\n",
       " 'PDH',\n",
       " 'PDS1_1',\n",
       " 'PDS2_1',\n",
       " 'PDX5POi',\n",
       " 'PDX5PS2',\n",
       " 'PEPC',\n",
       " 'PERD',\n",
       " 'PFK',\n",
       " 'PFK_3',\n",
       " 'PFOR',\n",
       " 'PGAMT',\n",
       " 'PGCD',\n",
       " 'PGI',\n",
       " 'PGK',\n",
       " 'PGL',\n",
       " 'PGLYCP',\n",
       " 'PGM',\n",
       " 'PGMT',\n",
       " 'PGPS_OLE_PALM',\n",
       " 'PHEOASE',\n",
       " 'PHEOX_1',\n",
       " 'PHETA1',\n",
       " 'PHETRS',\n",
       " 'PHYFXOR',\n",
       " 'PHYPQOX',\n",
       " 'PHYTES',\n",
       " 'PHYTES2_1',\n",
       " 'PHYTK',\n",
       " 'PIuabcpp',\n",
       " 'PKETF',\n",
       " 'PKETX',\n",
       " 'PLYCOI',\n",
       " 'PMANM',\n",
       " 'PMDPHT',\n",
       " 'PMEACPE',\n",
       " 'PMPK',\n",
       " 'PNTK',\n",
       " 'PPA',\n",
       " 'PPBNGS',\n",
       " 'PPCDC',\n",
       " 'PPK',\n",
       " 'PPK2',\n",
       " 'PPNCL2',\n",
       " 'PPNCL3',\n",
       " 'PPND',\n",
       " 'PPNDH',\n",
       " 'PPPGO2_1',\n",
       " 'PPS',\n",
       " 'PRAGSr',\n",
       " 'PRAIS',\n",
       " 'PRAIi',\n",
       " 'PRAMPC',\n",
       " 'PRASCSi',\n",
       " 'PRATPP',\n",
       " 'PRE3BS',\n",
       " 'PRFGS',\n",
       " 'PRMICI',\n",
       " 'PROAKGOX1',\n",
       " 'PROTRS',\n",
       " 'PRPPS',\n",
       " 'PRUK',\n",
       " 'PSCVT',\n",
       " 'PSERT',\n",
       " 'PSICSum',\n",
       " 'PSIICSum',\n",
       " 'PSIIum',\n",
       " 'PSIum',\n",
       " 'PSP_L',\n",
       " 'PTHPS',\n",
       " 'PTPATi',\n",
       " 'PTRCabcpp',\n",
       " 'PYK',\n",
       " 'QUERT',\n",
       " 'QULNS',\n",
       " 'R05219',\n",
       " 'RBFK',\n",
       " 'RBFSa',\n",
       " 'RBFSb_1',\n",
       " 'RBPCcx',\n",
       " 'RNDR1',\n",
       " 'RNDR2',\n",
       " 'RNDR3',\n",
       " 'RNDR4',\n",
       " 'RPE',\n",
       " 'RPI',\n",
       " 'SADT',\n",
       " 'SAMTRI',\n",
       " 'SBP',\n",
       " 'SEPHCHCS',\n",
       " 'SERAT',\n",
       " 'SERTRS',\n",
       " 'SFGTHi',\n",
       " 'SHCHCS3',\n",
       " 'SHK3Dr',\n",
       " 'SHKK',\n",
       " 'SHS1',\n",
       " 'SPMDabcpp',\n",
       " 'SPMS',\n",
       " 'SPODM',\n",
       " 'SPP',\n",
       " 'SPR',\n",
       " 'SPRMS',\n",
       " 'SPS',\n",
       " 'SPTc',\n",
       " 'SQD1',\n",
       " 'SQDGS_HDE_PALM',\n",
       " 'SQDGS_PALM_PALM',\n",
       " 'STACPSI',\n",
       " 'SUCBZL',\n",
       " 'SUCBZS',\n",
       " 'SUCDum',\n",
       " 'SUCR',\n",
       " 'SUCRt2',\n",
       " 'SULR_2',\n",
       " 'SULabcpp',\n",
       " 'TALA',\n",
       " 'TDPDRE',\n",
       " 'TDPDRR',\n",
       " 'TDPGDH',\n",
       " 'THBTGT',\n",
       " 'THII',\n",
       " 'THISAT',\n",
       " 'THRPDC',\n",
       " 'THRS',\n",
       " 'THRTRS',\n",
       " 'THZT',\n",
       " 'TKT1',\n",
       " 'TKT2',\n",
       " 'TMDS3',\n",
       " 'TMPK',\n",
       " 'TMPPP_1',\n",
       " 'TPI',\n",
       " 'TRDR',\n",
       " 'TRDRf',\n",
       " 'TRPS1',\n",
       " 'TRPS2',\n",
       " 'TRPS3',\n",
       " 'TRPTRS',\n",
       " 'TRSARyr',\n",
       " 'TYRTA',\n",
       " 'TYRTRS',\n",
       " 'U23GAAT2',\n",
       " 'UAAGDS',\n",
       " 'UAG2E',\n",
       " 'UAGAAT2',\n",
       " 'UAGCVT',\n",
       " 'UAGDP',\n",
       " 'UAGPT3',\n",
       " 'UAMAGS',\n",
       " 'UAMAS',\n",
       " 'UAPGR',\n",
       " 'UDCPDP',\n",
       " 'UDCPDPS',\n",
       " 'UDPG4E',\n",
       " 'UDPGD',\n",
       " 'UDPGLDC',\n",
       " 'UGMDDS',\n",
       " 'UHGADA2',\n",
       " 'UM3PL',\n",
       " 'UM4PCP',\n",
       " 'UM4PL',\n",
       " 'UMPK',\n",
       " 'UNK3',\n",
       " 'UPP3MT',\n",
       " 'UPP3S',\n",
       " 'UPPDC1',\n",
       " 'UPPRT',\n",
       " 'URIDK2r',\n",
       " 'VALTA',\n",
       " 'VALTRS',\n",
       " 'VPAMTr',\n",
       " 'ZCARDS',\n",
       " 'ZCAROTDH1',\n",
       " 'ZCAROTDH2',\n",
       " 'ZISO',\n",
       " 'ZNabcpp',\n",
       " 'ZXANHX']"
      ]
     },
     "execution_count": 18,
     "metadata": {},
     "output_type": "execute_result"
    }
   ],
   "source": [
    "rxn_cost = {}\n",
    "for rxn in model.reactions:\n",
    "    if rxn.id.startswith('EX_') or rxn.id.startswith('BIOMASS_') or\\\n",
    "            rxn.id.startswith('SK_') or rxn.id.startswith('PHOA') or\\\n",
    "            rxn.id.startswith('DM_') or rxn.id.startswith('SK_'):\n",
    "        continue\n",
    "    if rxn.gene_reaction_rule == '':\n",
    "        continue\n",
    "    else:\n",
    "        # print(rxn.id)\n",
    "        rxn_cost[rxn.id] = 1\n",
    "sorted(rxn_cost)"
   ]
  },
  {
   "cell_type": "code",
   "execution_count": 29,
   "metadata": {
    "collapsed": false,
    "jupyter": {
     "outputs_hidden": false
    },
    "pycharm": {
     "name": "#%%\n"
    }
   },
   "outputs": [
    {
     "name": "stderr",
     "output_type": "stream",
     "text": [
      "INFO:cobra.summary.model_summary:Generating new parsimonious flux distribution.\n"
     ]
    },
    {
     "data": {
      "text/html": [
       "<h3>Objective</h3><p>1.0 BIOMASS__1 = 4.088280273582626</p><h4>Uptake</h4><table border=\"1\" class=\"dataframe\">\n",
       "  <thead>\n",
       "    <tr style=\"text-align: right;\">\n",
       "      <th>Metabolite</th>\n",
       "      <th>Reaction</th>\n",
       "      <th>Flux</th>\n",
       "      <th>C-Number</th>\n",
       "      <th>C-Flux</th>\n",
       "    </tr>\n",
       "  </thead>\n",
       "  <tbody>\n",
       "    <tr>\n",
       "      <td>co2_e</td>\n",
       "      <td>EX_co2_e</td>\n",
       "      <td>77.95</td>\n",
       "      <td>1</td>\n",
       "      <td>43.80%</td>\n",
       "    </tr>\n",
       "    <tr>\n",
       "      <td>cobalt2_e</td>\n",
       "      <td>EX_cobalt2_e</td>\n",
       "      <td>2.092E-05</td>\n",
       "      <td>0</td>\n",
       "      <td>0.00%</td>\n",
       "    </tr>\n",
       "    <tr>\n",
       "      <td>fe3_e</td>\n",
       "      <td>EX_fe3_e</td>\n",
       "      <td>0.006549</td>\n",
       "      <td>0</td>\n",
       "      <td>0.00%</td>\n",
       "    </tr>\n",
       "    <tr>\n",
       "      <td>h_e</td>\n",
       "      <td>EX_h_e</td>\n",
       "      <td>69.13</td>\n",
       "      <td>0</td>\n",
       "      <td>0.00%</td>\n",
       "    </tr>\n",
       "    <tr>\n",
       "      <td>hco3_e</td>\n",
       "      <td>EX_hco3_e</td>\n",
       "      <td>100</td>\n",
       "      <td>1</td>\n",
       "      <td>56.20%</td>\n",
       "    </tr>\n",
       "    <tr>\n",
       "      <td>k_e</td>\n",
       "      <td>EX_k_e</td>\n",
       "      <td>6.325E-06</td>\n",
       "      <td>0</td>\n",
       "      <td>0.00%</td>\n",
       "    </tr>\n",
       "    <tr>\n",
       "      <td>mg2_e</td>\n",
       "      <td>EX_mg2_e</td>\n",
       "      <td>0.04583</td>\n",
       "      <td>0</td>\n",
       "      <td>0.00%</td>\n",
       "    </tr>\n",
       "    <tr>\n",
       "      <td>na1_e</td>\n",
       "      <td>EX_na1_e</td>\n",
       "      <td>4.865E-07</td>\n",
       "      <td>0</td>\n",
       "      <td>0.00%</td>\n",
       "    </tr>\n",
       "    <tr>\n",
       "      <td>nh4_e</td>\n",
       "      <td>EX_nh4_e</td>\n",
       "      <td>32.95</td>\n",
       "      <td>0</td>\n",
       "      <td>0.00%</td>\n",
       "    </tr>\n",
       "    <tr>\n",
       "      <td>photon510_e</td>\n",
       "      <td>EX_photon510_e</td>\n",
       "      <td>13.46</td>\n",
       "      <td>0</td>\n",
       "      <td>0.00%</td>\n",
       "    </tr>\n",
       "    <tr>\n",
       "      <td>photon650_e</td>\n",
       "      <td>EX_photon650_e</td>\n",
       "      <td>0.04583</td>\n",
       "      <td>0</td>\n",
       "      <td>0.00%</td>\n",
       "    </tr>\n",
       "    <tr>\n",
       "      <td>photon670_e</td>\n",
       "      <td>EX_photon670_e</td>\n",
       "      <td>1000</td>\n",
       "      <td>0</td>\n",
       "      <td>0.00%</td>\n",
       "    </tr>\n",
       "    <tr>\n",
       "      <td>photon690_e</td>\n",
       "      <td>EX_photon690_e</td>\n",
       "      <td>1000</td>\n",
       "      <td>0</td>\n",
       "      <td>0.00%</td>\n",
       "    </tr>\n",
       "    <tr>\n",
       "      <td>pi_e</td>\n",
       "      <td>EX_pi_e</td>\n",
       "      <td>1.744</td>\n",
       "      <td>0</td>\n",
       "      <td>0.00%</td>\n",
       "    </tr>\n",
       "    <tr>\n",
       "      <td>so4_e</td>\n",
       "      <td>EX_so4_e</td>\n",
       "      <td>0.6367</td>\n",
       "      <td>0</td>\n",
       "      <td>0.00%</td>\n",
       "    </tr>\n",
       "    <tr>\n",
       "      <td>amylose_c</td>\n",
       "      <td>SK_amylose_c</td>\n",
       "      <td>2.1</td>\n",
       "      <td>0</td>\n",
       "      <td>0.00%</td>\n",
       "    </tr>\n",
       "  </tbody>\n",
       "</table><h4>Secretion</h4><table border=\"1\" class=\"dataframe\">\n",
       "  <thead>\n",
       "    <tr style=\"text-align: right;\">\n",
       "      <th>Metabolite</th>\n",
       "      <th>Reaction</th>\n",
       "      <th>Flux</th>\n",
       "      <th>C-Number</th>\n",
       "      <th>C-Flux</th>\n",
       "    </tr>\n",
       "  </thead>\n",
       "  <tbody>\n",
       "    <tr>\n",
       "      <td>5drib_c</td>\n",
       "      <td>DM_5drib_c</td>\n",
       "      <td>-0.0004247</td>\n",
       "      <td>5</td>\n",
       "      <td>26.10%</td>\n",
       "    </tr>\n",
       "    <tr>\n",
       "      <td>amob_c</td>\n",
       "      <td>DM_amob_c</td>\n",
       "      <td>-0.000107</td>\n",
       "      <td>15</td>\n",
       "      <td>19.73%</td>\n",
       "    </tr>\n",
       "    <tr>\n",
       "      <td>co_c</td>\n",
       "      <td>DM_co_c</td>\n",
       "      <td>-0.004324</td>\n",
       "      <td>1</td>\n",
       "      <td>53.14%</td>\n",
       "    </tr>\n",
       "    <tr>\n",
       "      <td>dialurate_c</td>\n",
       "      <td>DM_dialurate_c</td>\n",
       "      <td>-2.092E-05</td>\n",
       "      <td>4</td>\n",
       "      <td>1.03%</td>\n",
       "    </tr>\n",
       "    <tr>\n",
       "      <td>pho_loss_c</td>\n",
       "      <td>DM_pho_loss_c</td>\n",
       "      <td>-59.21</td>\n",
       "      <td>0</td>\n",
       "      <td>0.00%</td>\n",
       "    </tr>\n",
       "    <tr>\n",
       "      <td>h2o_e</td>\n",
       "      <td>EX_h2o_e</td>\n",
       "      <td>-9.316</td>\n",
       "      <td>0</td>\n",
       "      <td>0.00%</td>\n",
       "    </tr>\n",
       "    <tr>\n",
       "      <td>o2_e</td>\n",
       "      <td>EX_o2_e</td>\n",
       "      <td>-194.1</td>\n",
       "      <td>0</td>\n",
       "      <td>0.00%</td>\n",
       "    </tr>\n",
       "    <tr>\n",
       "      <td>sucr_e</td>\n",
       "      <td>EX_sucr_e</td>\n",
       "      <td>-0.011</td>\n",
       "      <td>0</td>\n",
       "      <td>0.00%</td>\n",
       "    </tr>\n",
       "  </tbody>\n",
       "</table>"
      ],
      "text/plain": [
       "<cobra.summary.model_summary.ModelSummary at 0x1baba04aa10>"
      ]
     },
     "execution_count": 29,
     "metadata": {},
     "output_type": "execute_result"
    }
   ],
   "source": [
    "model.summary()"
   ]
  },
  {
   "cell_type": "code",
   "execution_count": 30,
   "metadata": {
    "pycharm": {
     "name": "#%%\n"
    }
   },
   "outputs": [],
   "source": [
    "fluxes = model.optimize().fluxes\n",
    "fluxes = fluxes[np.abs(fluxes)>0]"
   ]
  },
  {
   "cell_type": "code",
   "execution_count": 33,
   "metadata": {
    "pycharm": {
     "name": "#%%\n"
    }
   },
   "outputs": [
    {
     "data": {
      "text/plain": [
       "EX_photon690_e   -1000.000\n",
       "EX_photon670_e   -1000.000\n",
       "EX_hco3_e         -100.000\n",
       "EX_co2_e           -77.949\n",
       "EX_h_e             -69.129\n",
       "EX_nh4_e           -32.949\n",
       "EX_photon470_e     -13.457\n",
       "EX_pi_e             -1.744\n",
       "EX_so4_e            -0.637\n",
       "EX_mg2_e            -0.046\n",
       "EX_photon650_e      -0.046\n",
       "EX_fe3_e            -0.007\n",
       "EX_cobalt2_e        -0.000\n",
       "EX_k_e              -0.000\n",
       "EX_na1_e            -0.000\n",
       "EX_sucr_e            0.011\n",
       "EX_h2o_e             9.316\n",
       "EX_o2_e            194.131\n",
       "Name: fluxes, dtype: float64"
      ]
     },
     "execution_count": 33,
     "metadata": {},
     "output_type": "execute_result"
    }
   ],
   "source": [
    "ex = [i for i in fluxes.index if i.startswith('EX_')]\n",
    "fluxes.loc[ex].sort_values()"
   ]
  },
  {
   "cell_type": "code",
   "execution_count": 34,
   "metadata": {
    "pycharm": {
     "name": "#%%\n"
    }
   },
   "outputs": [
    {
     "data": {
      "image/png": "[encoded data removed]",
      "text/plain": [
       "<Figure size 640x480 with 1 Axes>"
      ]
     },
     "metadata": {},
     "output_type": "display_data"
    }
   ],
   "source": [
    "datapoints, triang, plot1 = sd.plot_flux_space(\n",
    "    model,\n",
    "    ('BIOMASS__1','EX_sucr_e'),\n",
    "    show=False\n",
    ");"
   ]
  },
  {
   "cell_type": "code",
   "execution_count": 35,
   "metadata": {
    "pycharm": {
     "name": "#%%\n"
    }
   },
   "outputs": [],
   "source": [
    "blocked_reactions = cobra.flux_analysis.find_blocked_reactions(model)\n",
    "len(blocked_reactions)"
   ]
  },
  {
   "cell_type": "code",
   "execution_count": 37,
   "metadata": {
    "pycharm": {
     "name": "#%%\n"
    }
   },
   "outputs": [
    {
     "name": "stdout",
     "output_type": "stream",
     "text": [
      "Read LP format model from file C:\\Users\\pino216\\AppData\\Local\\Temp\\tmpm59iakji.lp\n"
     ]
    },
    {
     "name": "stderr",
     "output_type": "stream",
     "text": [
      "INFO:gurobipy.gurobipy:Read LP format model from file C:\\Users\\pino216\\AppData\\Local\\Temp\\tmpm59iakji.lp\n"
     ]
    },
    {
     "name": "stdout",
     "output_type": "stream",
     "text": [
      "Reading time = 0.03 seconds\n"
     ]
    },
    {
     "name": "stderr",
     "output_type": "stream",
     "text": [
      "INFO:gurobipy.gurobipy:Reading time = 0.03 seconds\n"
     ]
    },
    {
     "name": "stdout",
     "output_type": "stream",
     "text": [
      ": 893 rows, 1952 columns, 7974 nonzeros\n"
     ]
    },
    {
     "name": "stderr",
     "output_type": "stream",
     "text": [
      "INFO:gurobipy.gurobipy:: 893 rows, 1952 columns, 7974 nonzeros\n"
     ]
    }
   ],
   "source": [
    "consistent_model = cobra.flux_analysis.fastcc(model)\n",
    "cobra.io.write_sbml_model( consistent_model, 'condensed_syn.xml',)"
   ]
  },
  {
   "cell_type": "code",
   "execution_count": 38,
   "metadata": {
    "pycharm": {
     "name": "#%%\n"
    }
   },
   "outputs": [
    {
     "name": "stderr",
     "output_type": "stream",
     "text": [
      "INFO:cobra.summary.model_summary:Generating new parsimonious flux distribution.\n",
      "INFO:cobra.summary.model_summary:Performing flux variability analysis.\n"
     ]
    },
    {
     "data": {
      "text/html": [
       "<h3>Objective</h3><p>1.0 BIOMASS__1 = 4.088280273582649</p><h4>Uptake</h4><table border=\"1\" class=\"dataframe\">\n",
       "  <thead>\n",
       "    <tr style=\"text-align: right;\">\n",
       "      <th>Metabolite</th>\n",
       "      <th>Reaction</th>\n",
       "      <th>Flux</th>\n",
       "      <th>Range</th>\n",
       "      <th>C-Number</th>\n",
       "      <th>C-Flux</th>\n",
       "    </tr>\n",
       "  </thead>\n",
       "  <tbody>\n",
       "    <tr>\n",
       "      <td>co2_e</td>\n",
       "      <td>EX_co2_e</td>\n",
       "      <td>77.95</td>\n",
       "      <td>[60.17;  100]</td>\n",
       "      <td>1</td>\n",
       "      <td>43.80%</td>\n",
       "    </tr>\n",
       "    <tr>\n",
       "      <td>cobalt2_e</td>\n",
       "      <td>EX_cobalt2_e</td>\n",
       "      <td>2.092E-05</td>\n",
       "      <td>[1.883E-05;  2.076E-05]</td>\n",
       "      <td>0</td>\n",
       "      <td>0.00%</td>\n",
       "    </tr>\n",
       "    <tr>\n",
       "      <td>fe3_e</td>\n",
       "      <td>EX_fe3_e</td>\n",
       "      <td>0.006549</td>\n",
       "      <td>[0.005894;  0.006549]</td>\n",
       "      <td>0</td>\n",
       "      <td>0.00%</td>\n",
       "    </tr>\n",
       "    <tr>\n",
       "      <td>h_e</td>\n",
       "      <td>EX_h_e</td>\n",
       "      <td>69.13</td>\n",
       "      <td>[32.37;  100]</td>\n",
       "      <td>0</td>\n",
       "      <td>0.00%</td>\n",
       "    </tr>\n",
       "    <tr>\n",
       "      <td>hco3_e</td>\n",
       "      <td>EX_hco3_e</td>\n",
       "      <td>100</td>\n",
       "      <td>[60.17;  100]</td>\n",
       "      <td>1</td>\n",
       "      <td>56.20%</td>\n",
       "    </tr>\n",
       "    <tr>\n",
       "      <td>k_e</td>\n",
       "      <td>EX_k_e</td>\n",
       "      <td>6.325E-06</td>\n",
       "      <td>[5.692E-06;  6.325E-06]</td>\n",
       "      <td>0</td>\n",
       "      <td>0.00%</td>\n",
       "    </tr>\n",
       "    <tr>\n",
       "      <td>mg2_e</td>\n",
       "      <td>EX_mg2_e</td>\n",
       "      <td>0.04583</td>\n",
       "      <td>[0.04125;  0.04583]</td>\n",
       "      <td>0</td>\n",
       "      <td>0.00%</td>\n",
       "    </tr>\n",
       "    <tr>\n",
       "      <td>na1_e</td>\n",
       "      <td>EX_na1_e</td>\n",
       "      <td>4.865E-07</td>\n",
       "      <td>[4.379E-07;  4.865E-07]</td>\n",
       "      <td>0</td>\n",
       "      <td>0.00%</td>\n",
       "    </tr>\n",
       "    <tr>\n",
       "      <td>nh4_e</td>\n",
       "      <td>EX_nh4_e</td>\n",
       "      <td>32.95</td>\n",
       "      <td>[15.11;  32.95]</td>\n",
       "      <td>0</td>\n",
       "      <td>0.00%</td>\n",
       "    </tr>\n",
       "    <tr>\n",
       "      <td>photon470_e</td>\n",
       "      <td>EX_photon470_e</td>\n",
       "      <td>13.46</td>\n",
       "      <td>[0;  1000]</td>\n",
       "      <td>0</td>\n",
       "      <td>0.00%</td>\n",
       "    </tr>\n",
       "    <tr>\n",
       "      <td>photon650_e</td>\n",
       "      <td>EX_photon650_e</td>\n",
       "      <td>0.04583</td>\n",
       "      <td>[0;  1000]</td>\n",
       "      <td>0</td>\n",
       "      <td>0.00%</td>\n",
       "    </tr>\n",
       "    <tr>\n",
       "      <td>photon670_e</td>\n",
       "      <td>EX_photon670_e</td>\n",
       "      <td>1000</td>\n",
       "      <td>[0;  1000]</td>\n",
       "      <td>0</td>\n",
       "      <td>0.00%</td>\n",
       "    </tr>\n",
       "    <tr>\n",
       "      <td>photon690_e</td>\n",
       "      <td>EX_photon690_e</td>\n",
       "      <td>1000</td>\n",
       "      <td>[0;  1000]</td>\n",
       "      <td>0</td>\n",
       "      <td>0.00%</td>\n",
       "    </tr>\n",
       "    <tr>\n",
       "      <td>pi_e</td>\n",
       "      <td>EX_pi_e</td>\n",
       "      <td>1.744</td>\n",
       "      <td>[1.57;  1.744]</td>\n",
       "      <td>0</td>\n",
       "      <td>0.00%</td>\n",
       "    </tr>\n",
       "    <tr>\n",
       "      <td>so4_e</td>\n",
       "      <td>EX_so4_e</td>\n",
       "      <td>0.6367</td>\n",
       "      <td>[0.573;  0.6367]</td>\n",
       "      <td>0</td>\n",
       "      <td>0.00%</td>\n",
       "    </tr>\n",
       "    <tr>\n",
       "      <td>amylose_c</td>\n",
       "      <td>SK_amylose_c</td>\n",
       "      <td>2.1</td>\n",
       "      <td>[1.89;  2.1]</td>\n",
       "      <td>0</td>\n",
       "      <td>0.00%</td>\n",
       "    </tr>\n",
       "  </tbody>\n",
       "</table><h4>Secretion</h4><table border=\"1\" class=\"dataframe\">\n",
       "  <thead>\n",
       "    <tr style=\"text-align: right;\">\n",
       "      <th>Metabolite</th>\n",
       "      <th>Reaction</th>\n",
       "      <th>Flux</th>\n",
       "      <th>Range</th>\n",
       "      <th>C-Number</th>\n",
       "      <th>C-Flux</th>\n",
       "    </tr>\n",
       "  </thead>\n",
       "  <tbody>\n",
       "    <tr>\n",
       "      <td>5drib_c</td>\n",
       "      <td>DM_5drib_c</td>\n",
       "      <td>-0.0004247</td>\n",
       "      <td>[-0.0004247;  -0.0003822]</td>\n",
       "      <td>5</td>\n",
       "      <td>26.10%</td>\n",
       "    </tr>\n",
       "    <tr>\n",
       "      <td>ac_c</td>\n",
       "      <td>DM_ac_c</td>\n",
       "      <td>0</td>\n",
       "      <td>[-9.827;  0]</td>\n",
       "      <td>2</td>\n",
       "      <td>0.00%</td>\n",
       "    </tr>\n",
       "    <tr>\n",
       "      <td>amob_c</td>\n",
       "      <td>DM_amob_c</td>\n",
       "      <td>-0.000107</td>\n",
       "      <td>[-0.000107;  -9.633E-05]</td>\n",
       "      <td>15</td>\n",
       "      <td>19.73%</td>\n",
       "    </tr>\n",
       "    <tr>\n",
       "      <td>co_c</td>\n",
       "      <td>DM_co_c</td>\n",
       "      <td>-0.004324</td>\n",
       "      <td>[-0.004324;  -0.003891]</td>\n",
       "      <td>1</td>\n",
       "      <td>53.14%</td>\n",
       "    </tr>\n",
       "    <tr>\n",
       "      <td>dialurate_c</td>\n",
       "      <td>DM_dialurate_c</td>\n",
       "      <td>-2.092E-05</td>\n",
       "      <td>[-2.092E-05;  -1.883E-05]</td>\n",
       "      <td>4</td>\n",
       "      <td>1.03%</td>\n",
       "    </tr>\n",
       "    <tr>\n",
       "      <td>h2_c</td>\n",
       "      <td>DM_h2_c</td>\n",
       "      <td>0</td>\n",
       "      <td>[-59.46;  0]</td>\n",
       "      <td>0</td>\n",
       "      <td>0.00%</td>\n",
       "    </tr>\n",
       "    <tr>\n",
       "      <td>lac__D_c</td>\n",
       "      <td>DM_lac__D_c</td>\n",
       "      <td>0</td>\n",
       "      <td>[-6.551;  0]</td>\n",
       "      <td>3</td>\n",
       "      <td>0.00%</td>\n",
       "    </tr>\n",
       "    <tr>\n",
       "      <td>pho_loss_c</td>\n",
       "      <td>DM_pho_loss_c</td>\n",
       "      <td>-59.21</td>\n",
       "      <td>[-1000;  -39.94]</td>\n",
       "      <td>0</td>\n",
       "      <td>0.00%</td>\n",
       "    </tr>\n",
       "    <tr>\n",
       "      <td>succ_c</td>\n",
       "      <td>DM_succ_c</td>\n",
       "      <td>0</td>\n",
       "      <td>[-6.551;  0]</td>\n",
       "      <td>4</td>\n",
       "      <td>0.00%</td>\n",
       "    </tr>\n",
       "    <tr>\n",
       "      <td>h2o_e</td>\n",
       "      <td>EX_h2o_e</td>\n",
       "      <td>-9.316</td>\n",
       "      <td>[-18.38;  41.1]</td>\n",
       "      <td>0</td>\n",
       "      <td>0.00%</td>\n",
       "    </tr>\n",
       "    <tr>\n",
       "      <td>meoh_e</td>\n",
       "      <td>EX_meoh_e</td>\n",
       "      <td>0</td>\n",
       "      <td>[-0.000107;  0]</td>\n",
       "      <td>1</td>\n",
       "      <td>0.00%</td>\n",
       "    </tr>\n",
       "    <tr>\n",
       "      <td>no3_e</td>\n",
       "      <td>EX_no3_e</td>\n",
       "      <td>0</td>\n",
       "      <td>[0;  14.54]</td>\n",
       "      <td>0</td>\n",
       "      <td>0.00%</td>\n",
       "    </tr>\n",
       "    <tr>\n",
       "      <td>o2_e</td>\n",
       "      <td>EX_o2_e</td>\n",
       "      <td>-194.1</td>\n",
       "      <td>[-204.5;  -174.7]</td>\n",
       "      <td>0</td>\n",
       "      <td>0.00%</td>\n",
       "    </tr>\n",
       "    <tr>\n",
       "      <td>photon410_e</td>\n",
       "      <td>EX_photon410_e</td>\n",
       "      <td>0</td>\n",
       "      <td>[0;  1000]</td>\n",
       "      <td>0</td>\n",
       "      <td>0.00%</td>\n",
       "    </tr>\n",
       "    <tr>\n",
       "      <td>photon430_e</td>\n",
       "      <td>EX_photon430_e</td>\n",
       "      <td>0</td>\n",
       "      <td>[0;  1000]</td>\n",
       "      <td>0</td>\n",
       "      <td>0.00%</td>\n",
       "    </tr>\n",
       "    <tr>\n",
       "      <td>photon450_e</td>\n",
       "      <td>EX_photon450_e</td>\n",
       "      <td>0</td>\n",
       "      <td>[0;  1000]</td>\n",
       "      <td>0</td>\n",
       "      <td>0.00%</td>\n",
       "    </tr>\n",
       "    <tr>\n",
       "      <td>photon490_e</td>\n",
       "      <td>EX_photon490_e</td>\n",
       "      <td>0</td>\n",
       "      <td>[0;  1000]</td>\n",
       "      <td>0</td>\n",
       "      <td>0.00%</td>\n",
       "    </tr>\n",
       "    <tr>\n",
       "      <td>photon510_e</td>\n",
       "      <td>EX_photon510_e</td>\n",
       "      <td>0</td>\n",
       "      <td>[0;  1000]</td>\n",
       "      <td>0</td>\n",
       "      <td>0.00%</td>\n",
       "    </tr>\n",
       "    <tr>\n",
       "      <td>photon530_e</td>\n",
       "      <td>EX_photon530_e</td>\n",
       "      <td>0</td>\n",
       "      <td>[0;  1000]</td>\n",
       "      <td>0</td>\n",
       "      <td>0.00%</td>\n",
       "    </tr>\n",
       "    <tr>\n",
       "      <td>photon550_e</td>\n",
       "      <td>EX_photon550_e</td>\n",
       "      <td>0</td>\n",
       "      <td>[0;  1000]</td>\n",
       "      <td>0</td>\n",
       "      <td>0.00%</td>\n",
       "    </tr>\n",
       "    <tr>\n",
       "      <td>photon570_e</td>\n",
       "      <td>EX_photon570_e</td>\n",
       "      <td>0</td>\n",
       "      <td>[0;  1000]</td>\n",
       "      <td>0</td>\n",
       "      <td>0.00%</td>\n",
       "    </tr>\n",
       "    <tr>\n",
       "      <td>photon590_e</td>\n",
       "      <td>EX_photon590_e</td>\n",
       "      <td>0</td>\n",
       "      <td>[0;  1000]</td>\n",
       "      <td>0</td>\n",
       "      <td>0.00%</td>\n",
       "    </tr>\n",
       "    <tr>\n",
       "      <td>photon610_e</td>\n",
       "      <td>EX_photon610_e</td>\n",
       "      <td>0</td>\n",
       "      <td>[0;  1000]</td>\n",
       "      <td>0</td>\n",
       "      <td>0.00%</td>\n",
       "    </tr>\n",
       "    <tr>\n",
       "      <td>photon630_e</td>\n",
       "      <td>EX_photon630_e</td>\n",
       "      <td>0</td>\n",
       "      <td>[0;  1000]</td>\n",
       "      <td>0</td>\n",
       "      <td>0.00%</td>\n",
       "    </tr>\n",
       "    <tr>\n",
       "      <td>sucr_e</td>\n",
       "      <td>EX_sucr_e</td>\n",
       "      <td>-0.011</td>\n",
       "      <td>[-1.649;  -0.011]</td>\n",
       "      <td>0</td>\n",
       "      <td>0.00%</td>\n",
       "    </tr>\n",
       "    <tr>\n",
       "      <td>akg_c</td>\n",
       "      <td>SK_akg_c</td>\n",
       "      <td>0</td>\n",
       "      <td>[-4.53;  0]</td>\n",
       "      <td>5</td>\n",
       "      <td>0.00%</td>\n",
       "    </tr>\n",
       "    <tr>\n",
       "      <td>for_c</td>\n",
       "      <td>SK_for_c</td>\n",
       "      <td>0</td>\n",
       "      <td>[-23.43;  0]</td>\n",
       "      <td>1</td>\n",
       "      <td>0.00%</td>\n",
       "    </tr>\n",
       "    <tr>\n",
       "      <td>fum_c</td>\n",
       "      <td>SK_fum_c</td>\n",
       "      <td>0</td>\n",
       "      <td>[-6.551;  0]</td>\n",
       "      <td>4</td>\n",
       "      <td>0.00%</td>\n",
       "    </tr>\n",
       "  </tbody>\n",
       "</table>"
      ],
      "text/plain": [
       "<cobra.summary.model_summary.ModelSummary at 0x1babb666ce0>"
      ]
     },
     "execution_count": 38,
     "metadata": {},
     "output_type": "execute_result"
    }
   ],
   "source": [
    "consistent_model.summary(fva=.9)"
   ]
  },
  {
   "cell_type": "code",
   "execution_count": 39,
   "metadata": {
    "pycharm": {
     "name": "#%%\n"
    }
   },
   "outputs": [
    {
     "data": {
      "text/plain": [
       "4.088280273582658"
      ]
     },
     "execution_count": 39,
     "metadata": {},
     "output_type": "execute_result"
    }
   ],
   "source": [
    "consistent_model.slim_optimize()"
   ]
  },
  {
   "cell_type": "code",
   "execution_count": 40,
   "metadata": {
    "pycharm": {
     "name": "#%%\n"
    }
   },
   "outputs": [
    {
     "data": {
      "text/plain": [
       "4.088280273582654"
      ]
     },
     "execution_count": 40,
     "metadata": {},
     "output_type": "execute_result"
    }
   ],
   "source": [
    "model.slim_optimize()"
   ]
  },
  {
   "cell_type": "code",
   "execution_count": 41,
   "metadata": {
    "pycharm": {
     "name": "#%%\n"
    }
   },
   "outputs": [
    {
     "name": "stdout",
     "output_type": "stream",
     "text": [
      "SPP: h2o_c + suc6p_c --> pi_c + sucr_c\n",
      "SUCRt2: h_e + sucr_e <=> h_c + sucr_c\n",
      "SUCR: h2o_c + sucr_c --> fru_c + glc__D_c\n"
     ]
    }
   ],
   "source": [
    "for rxn in consistent_model.metabolites.sucr_c.reactions:\n",
    "    print(rxn)\n",
    "    # print(consistent_model.reactions.get_by_id(rxn.id))"
   ]
  },
  {
   "cell_type": "code",
   "execution_count": 42,
   "metadata": {
    "pycharm": {
     "name": "#%%\n"
    }
   },
   "outputs": [
    {
     "data": {
      "text/html": [
       "\n",
       "        <table>\n",
       "            <tr>\n",
       "                <td><strong>Metabolite identifier</strong></td><td>suc6p_c</td>\n",
       "            </tr><tr>\n",
       "                <td><strong>Name</strong></td><td>Sucrose 6-phosphate</td>\n",
       "            </tr><tr>\n",
       "                <td><strong>Memory address</strong></td>\n",
       "                <td>0x01babb3f1330</td>\n",
       "            </tr><tr>\n",
       "                <td><strong>Formula</strong></td><td>C12H21O14P</td>\n",
       "            </tr><tr>\n",
       "                <td><strong>Compartment</strong></td><td>c</td>\n",
       "            </tr><tr>\n",
       "                <td><strong>In 2 reaction(s)</strong></td><td>\n",
       "                    SPP, SPS</td>\n",
       "            </tr>\n",
       "        </table>"
      ],
      "text/plain": [
       "<Metabolite suc6p_c at 0x1babb3f1330>"
      ]
     },
     "execution_count": 42,
     "metadata": {},
     "output_type": "execute_result"
    }
   ],
   "source": [
    "consistent_model.metabolites.suc6p_c"
   ]
  },
  {
   "cell_type": "code",
   "execution_count": null,
   "metadata": {
    "pycharm": {
     "name": "#%%\n"
    }
   },
   "outputs": [],
   "source": [
    "for rxn in consistent_model.metabolites.suc6p_c.reactions:\n",
    "    print(rxn)"
   ]
  },
  {
   "cell_type": "code",
   "execution_count": 44,
   "metadata": {
    "pycharm": {
     "name": "#%%\n"
    }
   },
   "outputs": [
    {
     "data": {
      "image/png": "[encoded data removed]",
      "text/plain": [
       "<Figure size 640x480 with 1 Axes>"
      ]
     },
     "metadata": {},
     "output_type": "display_data"
    }
   ],
   "source": [
    "\n",
    "datapoints, triang, plot1 = sd.plot_flux_space(\n",
    "    consistent_model,\n",
    "    ('BIOMASS__1','EX_sucr_e'),\n",
    "    show=False\n",
    ");"
   ]
  },
  {
   "cell_type": "code",
   "execution_count": 45,
   "metadata": {
    "pycharm": {
     "name": "#%%\n"
    }
   },
   "outputs": [],
   "source": [
    "module_optknock = sd.SDModule(\n",
    "    consistent_model,\n",
    "    names.OPTKNOCK,\n",
    "    inner_objective='BIOMASS__1',\n",
    "    outer_objective='EX_sucr_e',\n",
    "    constraints=['EX_sucr_e >= 5', 'BIOMASS__1 >= 1.']\n",
    ")"
   ]
  },
  {
   "cell_type": "code",
   "execution_count": 52,
   "metadata": {
    "pycharm": {
     "name": "#%%\n"
    }
   },
   "outputs": [
    {
     "name": "stderr",
     "output_type": "stream",
     "text": [
      "INFO:root:Preparing strain design computation.\n",
      "INFO:root:  Using gurobi for solving LPs during preprocessing.\n",
      "WARNING:root:  Removing reaction bounds when larger than the cobra-threshold of 1000.\n",
      "INFO:root:  FVA to identify blocked reactions and irreversibilities.\n",
      "INFO:root:  FVA(s) to identify essential reactions.\n",
      "INFO:root:Compressing Network (740 reactions).\n",
      "INFO:root:  Removing blocked reactions.\n",
      "INFO:root:  Translating stoichiometric coefficients to rationals.\n",
      "INFO:root:  Removing conservation relations.\n",
      "INFO:root:  Compression 1: Applying compression from EFM-tool module.\n",
      "INFO:root:  Reduced to 240 reactions.\n",
      "INFO:root:  Compression 2: Lumping parallel reactions.\n",
      "INFO:root:  Last step could not reduce size further (240 reactions).\n",
      "INFO:root:  Network compression completed. (1 compression iterations)\n",
      "INFO:root:  Translating stoichiometric coefficients back to float.\n",
      "INFO:root:  FVA(s) in compressed model to identify essential reactions.\n",
      "INFO:root:Finished preprocessing:\n",
      "INFO:root:  Model size: 240 reactions, 138 metabolites\n",
      "INFO:root:  172 targetable reactions\n",
      "WARNING:root:  Removing reaction bounds when larger than the cobra-threshold of 1000.\n",
      "INFO:root:Constructing strain design MILP for solver: gurobi.\n",
      "INFO:root:  Bounding MILP.\n",
      "INFO:root:Finding optimal strain designs ...\n",
      "INFO:root:Found solution with objective value 12.694796303959023\n",
      "INFO:root:Minimizing number of interventions in subspace with 3 possible targets.\n",
      "INFO:root:Strain design with cost 3.0: {'GND*G6PDH2r*PGL': -1, 'PSP_L*PGCD*PSERT': -1, 'PDH': -1}\n",
      "INFO:root:Finished solving strain design MILP. \n",
      "INFO:root:1 solutions to MILP found.\n",
      "INFO:root:  Decompressing.\n",
      "INFO:root:9 solutions found.\n"
     ]
    }
   ],
   "source": [
    "import logging\n",
    "logging.basicConfig(level=logging.INFO)\n",
    "\n",
    "sols = sd.compute_strain_designs(\n",
    "    consistent_model,\n",
    "    sd_modules = module_optknock,\n",
    "    max_solutions = 1,\n",
    "    max_cost = 3,\n",
    "    solution_approach = 'best',\n",
    "    time_limit=300,\n",
    "\n",
    ")\n",
    "reaction_sd = sols.reaction_sd"
   ]
  },
  {
   "cell_type": "code",
   "execution_count": null,
   "metadata": {
    "pycharm": {
     "name": "#%%\n"
    }
   },
   "outputs": [],
   "source": [
    "import networkx as nx"
   ]
  },
  {
   "cell_type": "code",
   "execution_count": 91,
   "metadata": {
    "pycharm": {
     "name": "#%%\n"
    }
   },
   "outputs": [
    {
     "data": {
      "text/plain": [
       "[{'PDH': -1.0, 'GND': -1.0, 'PSP_L': -1.0},\n",
       " {'PDH': -1.0, 'GND': -1.0, 'PGCD': -1.0},\n",
       " {'PDH': -1.0, 'GND': -1.0, 'PSERT': -1.0},\n",
       " {'PDH': -1.0, 'G6PDH2r': -1.0, 'PSP_L': -1.0},\n",
       " {'PDH': -1.0, 'G6PDH2r': -1.0, 'PGCD': -1.0},\n",
       " {'PDH': -1.0, 'G6PDH2r': -1.0, 'PSERT': -1.0},\n",
       " {'PDH': -1.0, 'PGL': -1.0, 'PSP_L': -1.0},\n",
       " {'PDH': -1.0, 'PGL': -1.0, 'PGCD': -1.0},\n",
       " {'PDH': -1.0, 'PGL': -1.0, 'PSERT': -1.0}]"
      ]
     },
     "execution_count": 91,
     "metadata": {},
     "output_type": "execute_result"
    }
   ],
   "source": [
    "reaction_sd"
   ]
  },
  {
   "cell_type": "code",
   "execution_count": 57,
   "metadata": {
    "pycharm": {
     "name": "#%%\n"
    }
   },
   "outputs": [
    {
     "data": {
      "image/png": "[encoded data removed]",
      "text/plain": [
       "<Figure size 640x480 with 1 Axes>"
      ]
     },
     "metadata": {},
     "output_type": "display_data"
    }
   ],
   "source": [
    "rxn_graph = nx.DiGraph()\n",
    "for i in reaction_sd:\n",
    "    prev = None\n",
    "    for j in i:\n",
    "        if prev is not None:\n",
    "            rxn_graph.add_edge(prev, j)\n",
    "        prev = j\n",
    "            \n",
    "#     print(i)\n",
    "nx.draw_networkx(rxn_graph, pos=nx.layout.kamada_kawai_layout(rxn_graph, rxn_graph.nodes))\n",
    "#nx.write_gml(rxn_graph, 'reaction_graph.gml')"
   ]
  },
  {
   "cell_type": "code",
   "execution_count": 97,
   "metadata": {
    "pycharm": {
     "name": "#%%\n"
    }
   },
   "outputs": [],
   "source": []
  },
  {
   "cell_type": "code",
   "execution_count": null,
   "metadata": {
    "pycharm": {
     "name": "#%%\n"
    }
   },
   "outputs": [],
   "source": [
    "reaction_sd2 = [\n",
    "     {'PDH': -1.0, 'GND': -1.0, 'PSP_L': -1.0},\n",
    "     {'PDH': -1.0, 'GND': -1.0, 'PGCD': -1.0},\n",
    "     {'PDH': -1.0, 'GND': -1.0, 'PSERT': -1.0},\n",
    "     {'PDH': -1.0, 'G6PDH2r': -1.0, 'PSP_L': -1.0},\n",
    "     {'PDH': -1.0, 'G6PDH2r': -1.0, 'PGCD': -1.0},\n",
    "     {'PDH': -1.0, 'G6PDH2r': -1.0, 'PSERT': -1.0},\n",
    "     {'PDH': -1.0, 'PGL': -1.0, 'PSP_L': -1.0},\n",
    "     {'PDH': -1.0, 'PGL': -1.0, 'PGCD': -1.0},\n",
    "     {'PDH': -1.0, 'PGL': -1.0, 'PSERT': -1.0},\n",
    "     {'GART': -1.0, 'PDH': -1.0, 'GND': -1.0, 'PSP_L': -1.0},\n",
    "     {'GART': -1.0, 'PDH': -1.0, 'GND': -1.0, 'PGCD': -1.0},\n",
    "     {'GART': -1.0, 'PDH': -1.0, 'GND': -1.0, 'PSERT': -1.0},\n",
    "     {'GART': -1.0, 'PDH': -1.0, 'G6PDH2r': -1.0, 'PSP_L': -1.0},\n",
    "     {'GART': -1.0, 'PDH': -1.0, 'G6PDH2r': -1.0, 'PGCD': -1.0},\n",
    "     {'GART': -1.0, 'PDH': -1.0, 'G6PDH2r': -1.0, 'PSERT': -1.0},\n",
    "     {'GART': -1.0, 'PDH': -1.0, 'PGL': -1.0, 'PSP_L': -1.0},\n",
    "     {'GART': -1.0, 'PDH': -1.0, 'PGL': -1.0, 'PGCD': -1.0},\n",
    "     {'GART': -1.0, 'PDH': -1.0, 'PGL': -1.0, 'PSERT': -1.0},\n",
    "     {'PDH': -1.0, 'GND': -1.0, 'PSP_L': -1.0, 'FALGTHLs': -1.0},\n",
    "     {'PDH': -1.0, 'GND': -1.0, 'PSP_L': -1.0, 'FALDH2': -1.0},\n",
    "     {'PDH': -1.0, 'GND': -1.0, 'PSP_L': -1.0, 'ALCD1': -1.0},\n",
    "     {'PDH': -1.0, 'GND': -1.0, 'PSP_L': -1.0, 'SFGTHi': -1.0},\n",
    "     {'PDH': -1.0, 'GND': -1.0, 'PGCD': -1.0, 'FALGTHLs': -1.0},\n",
    "     {'PDH': -1.0, 'GND': -1.0, 'PGCD': -1.0, 'FALDH2': -1.0},\n",
    "     {'PDH': -1.0, 'GND': -1.0, 'PGCD': -1.0, 'ALCD1': -1.0},\n",
    "     {'PDH': -1.0, 'GND': -1.0, 'PGCD': -1.0, 'SFGTHi': -1.0},\n",
    "     {'PDH': -1.0, 'GND': -1.0, 'PSERT': -1.0, 'FALGTHLs': -1.0},\n",
    "     {'PDH': -1.0, 'GND': -1.0, 'PSERT': -1.0, 'FALDH2': -1.0},\n",
    "     {'PDH': -1.0, 'GND': -1.0, 'PSERT': -1.0, 'ALCD1': -1.0},\n",
    "     {'PDH': -1.0, 'GND': -1.0, 'PSERT': -1.0, 'SFGTHi': -1.0},\n",
    "     {'PDH': -1.0, 'G6PDH2r': -1.0, 'PSP_L': -1.0, 'FALGTHLs': -1.0},\n",
    "     {'PDH': -1.0, 'G6PDH2r': -1.0, 'PSP_L': -1.0, 'FALDH2': -1.0},\n",
    "     {'PDH': -1.0, 'G6PDH2r': -1.0, 'PSP_L': -1.0, 'ALCD1': -1.0},\n",
    "     {'PDH': -1.0, 'G6PDH2r': -1.0, 'PSP_L': -1.0, 'SFGTHi': -1.0},\n",
    "     {'PDH': -1.0, 'G6PDH2r': -1.0, 'PGCD': -1.0, 'FALGTHLs': -1.0},\n",
    "     {'PDH': -1.0, 'G6PDH2r': -1.0, 'PGCD': -1.0, 'FALDH2': -1.0},\n",
    "     {'PDH': -1.0, 'G6PDH2r': -1.0, 'PGCD': -1.0, 'ALCD1': -1.0},\n",
    "     {'PDH': -1.0, 'G6PDH2r': -1.0, 'PGCD': -1.0, 'SFGTHi': -1.0},\n",
    "     {'PDH': -1.0, 'G6PDH2r': -1.0, 'PSERT': -1.0, 'FALGTHLs': -1.0},\n",
    "     {'PDH': -1.0, 'G6PDH2r': -1.0, 'PSERT': -1.0, 'FALDH2': -1.0},\n",
    "     {'PDH': -1.0, 'G6PDH2r': -1.0, 'PSERT': -1.0, 'ALCD1': -1.0},\n",
    "     {'PDH': -1.0, 'G6PDH2r': -1.0, 'PSERT': -1.0, 'SFGTHi': -1.0},\n",
    "     {'PDH': -1.0, 'PGL': -1.0, 'PSP_L': -1.0, 'FALGTHLs': -1.0},\n",
    "     {'PDH': -1.0, 'PGL': -1.0, 'PSP_L': -1.0, 'FALDH2': -1.0},\n",
    "     {'PDH': -1.0, 'PGL': -1.0, 'PSP_L': -1.0, 'ALCD1': -1.0},\n",
    "     {'PDH': -1.0, 'PGL': -1.0, 'PSP_L': -1.0, 'SFGTHi': -1.0},\n",
    "     {'PDH': -1.0, 'PGL': -1.0, 'PGCD': -1.0, 'FALGTHLs': -1.0},\n",
    "     {'PDH': -1.0, 'PGL': -1.0, 'PGCD': -1.0, 'FALDH2': -1.0},\n",
    "     {'PDH': -1.0, 'PGL': -1.0, 'PGCD': -1.0, 'ALCD1': -1.0},\n",
    "     {'PDH': -1.0, 'PGL': -1.0, 'PGCD': -1.0, 'SFGTHi': -1.0},\n",
    "     {'PDH': -1.0, 'PGL': -1.0, 'PSERT': -1.0, 'FALGTHLs': -1.0},\n",
    "     {'PDH': -1.0, 'PGL': -1.0, 'PSERT': -1.0, 'FALDH2': -1.0},\n",
    "     {'PDH': -1.0, 'PGL': -1.0, 'PSERT': -1.0, 'ALCD1': -1.0},\n",
    "     {'PDH': -1.0, 'PGL': -1.0, 'PSERT': -1.0, 'SFGTHi': -1.0}\n",
    "]"
   ]
  },
  {
   "cell_type": "code",
   "execution_count": 69,
   "metadata": {
    "pycharm": {
     "name": "#%%\n"
    }
   },
   "outputs": [
    {
     "data": {
      "image/png": "[encoded data removed]",
      "text/plain": [
       "<Figure size 640x480 with 1 Axes>"
      ]
     },
     "metadata": {},
     "output_type": "display_data"
    }
   ],
   "source": [
    "datapoints, triang, plot1 = sd.plot_flux_space(\n",
    "    consistent_model,\n",
    "    ('BIOMASS__1', 'EX_sucr_e'),\n",
    "    show=False\n",
    ");\n",
    "\n",
    "plot1.set_facecolor('#70AD47')\n",
    "plot1.set_edgecolor('#70AD47')\n",
    "\n",
    "# OptKnock design plot\n",
    "#     interventions = [[{s:1.0},'=',0.0] for rxn in reaction_sd for s,v in rxn.items() if v < 1]\n",
    "# interventions = [[{s:1.0},'=', 0.0] for s,v in reaction_sd[0].items() if v < 1]\n",
    "_, _,plot3 = sd.plot_flux_space(\n",
    "    consistent_model,\n",
    "    ('BIOMASS__1', 'EX_sucr_e'),\n",
    "    # The sign of the glucose exchange reaction is flipped since\n",
    "    # reaction is defined in the direction of secretion.\n",
    "    constraints=interventions,\n",
    "    show=False\n",
    ");\n",
    "plot3.set_facecolor('red')\n",
    "plot3.set_edgecolor('red')\n",
    "# adjust axes limits and show plot\n",
    "plot3.axes.set_xlim(0, 1.05*max([a[0] for a in datapoints]))\n",
    "plot3.axes.set_ylim(0, 1.05*max([a[1] for a in datapoints]))\n",
    "plt.show()"
   ]
  },
  {
   "cell_type": "code",
   "execution_count": 82,
   "metadata": {
    "pycharm": {
     "name": "#%%\n"
    }
   },
   "outputs": [],
   "source": [
    "def view_with_changes(changed_model):\n",
    "    datapoints, triang, plot1 = sd.plot_flux_space(\n",
    "        consistent_model,\n",
    "        ('BIOMASS__1', 'EX_sucr_e'),\n",
    "        show=False\n",
    "    );\n",
    "\n",
    "    plot1.set_facecolor('green')\n",
    "    plot1.set_edgecolor('green')\n",
    "\n",
    "    _, _,plot3 = sd.plot_flux_space(\n",
    "        changed_model,\n",
    "        ('BIOMASS__1', 'EX_sucr_e'),\n",
    "        show=False\n",
    "    );\n",
    "    plot3.set_facecolor('red')\n",
    "    plot3.set_edgecolor('red')\n",
    "    # adjust axes limits and show plot\n",
    "    plot3.axes.set_xlim(0, 1.05*max([a[0] for a in datapoints]))\n",
    "    plot3.axes.set_ylim(0, 1.05*max([a[1] for a in datapoints]))\n",
    "    plt.show()"
   ]
  },
  {
   "cell_type": "code",
   "execution_count": 67,
   "metadata": {
    "pycharm": {
     "name": "#%%\n"
    }
   },
   "outputs": [
    {
     "name": "stdout",
     "output_type": "stream",
     "text": [
      "{'PSP_L', 'PSERT', 'GND', 'PGCD', 'G6PDH2r', 'PDH', 'PGL'}\n"
     ]
    }
   ],
   "source": [
    "#print(interventions)\n",
    "rxn_to_remove = set()\n",
    "for i in sols.reaction_sd:\n",
    "    for j in i:\n",
    "        rxn_to_remove.add(j)\n",
    "print(rxn_to_remove)"
   ]
  },
  {
   "cell_type": "code",
   "execution_count": null,
   "metadata": {
    "pycharm": {
     "name": "#%%\n"
    }
   },
   "outputs": [],
   "source": [
    "rxn_to_remove2 = {\n",
    "    'PSERT', 'ALCD1', 'PGL', 'SFGTHi',\n",
    "    'G6PDH2r', 'FALDH2', \n",
    "    'PSP_L', 'GART', 'PGCD', \n",
    "    'GND', 'FALGTHLs', 'PDH'\n",
    "}\n",
    "rxn_to_remove2"
   ]
  },
  {
   "cell_type": "code",
   "execution_count": 86,
   "metadata": {
    "pycharm": {
     "name": "#%%\n"
    }
   },
   "outputs": [
    {
     "name": "stdout",
     "output_type": "stream",
     "text": [
      "{'SYNPCC7942_RS03015'}\n"
     ]
    }
   ],
   "source": [
    "rxn = model.reactions.get_by_id('GART')\n",
    "print({gene.id for gene in rxn.genes})"
   ]
  },
  {
   "cell_type": "code",
   "execution_count": 92,
   "metadata": {
    "pycharm": {
     "name": "#%%\n"
    }
   },
   "outputs": [
    {
     "name": "stdout",
     "output_type": "stream",
     "text": [
      "PSP_L {'SYNPCC7942_RS02470'}\n",
      "PSERT {'SYNPCC7942_RS00970'}\n",
      "GND {'SYNPCC7942_RS00195'}\n",
      "PGCD {'SYNPCC7942_RS07670'}\n",
      "G6PDH2r {'SYNPCC7942_RS11865'}\n",
      "PDH {'SYNPCC7942_RS09865', 'SYNPCC7942_RS05480', 'SYNPCC7942_RS06135', 'SYNPCC7942_RS00725'}\n",
      "PGL {'SYNPCC7942_RS02690'}\n"
     ]
    }
   ],
   "source": [
    "genes_to_ko = set()\n",
    "for i in rxn_to_remove:\n",
    "    rxn = model.reactions.get_by_id(i)\n",
    "    print(i, {gene.id for gene in rxn.genes})\n",
    "    for gene in rxn.genes:\n",
    "        genes_to_ko.add(gene.id)\n",
    "# genes_to_ko"
   ]
  },
  {
   "cell_type": "code",
   "execution_count": 93,
   "metadata": {
    "pycharm": {
     "name": "#%%\n"
    }
   },
   "outputs": [
    {
     "data": {
      "image/png": "[encoded data removed]",
      "text/plain": [
       "<Figure size 640x480 with 1 Axes>"
      ]
     },
     "metadata": {},
     "output_type": "display_data"
    }
   ],
   "source": [
    "with model:\n",
    "    # {'PDH': -1.0, 'GND': -1.0, 'PSP_L': -1.0},\n",
    "    for i in {'SYNPCC7942_RS09865', 'SYNPCC7942_RS05480', 'SYNPCC7942_RS06135', 'SYNPCC7942_RS00725'}:\n",
    "        model.genes.get_by_id(i).knock_out()\n",
    "    \n",
    "    model.genes.get_by_id('SYNPCC7942_RS00195').knock_out()\n",
    "    model.genes.get_by_id('SYNPCC7942_RS02470').knock_out()\n",
    "    view_with_changes(model)\n",
    "    "
   ]
  },
  {
   "cell_type": "code",
   "execution_count": 84,
   "metadata": {
    "pycharm": {
     "name": "#%%\n"
    }
   },
   "outputs": [
    {
     "data": {
      "image/png": "[encoded data removed]",
      "text/plain": [
       "<Figure size 640x480 with 1 Axes>"
      ]
     },
     "metadata": {},
     "output_type": "display_data"
    }
   ],
   "source": [
    "with model as model:\n",
    "    for i in rxn_to_remove:\n",
    "        model.remove_reactions([model.reactions.get_by_id(i)])\n",
    "    view_with_changes(model)\n",
    "    "
   ]
  },
  {
   "cell_type": "code",
   "execution_count": 77,
   "metadata": {
    "pycharm": {
     "name": "#%%\n"
    }
   },
   "outputs": [
    {
     "data": {
      "image/png": "[encoded data removed]",
      "text/plain": [
       "<Figure size 640x480 with 1 Axes>"
      ]
     },
     "metadata": {},
     "output_type": "display_data"
    }
   ],
   "source": [
    "with model:\n",
    "    for i in genes_to_ko:\n",
    "        model.genes.get_by_id(i).knock_out()\n",
    "    view_with_changes(model)"
   ]
  },
  {
   "cell_type": "code",
   "execution_count": 94,
   "metadata": {
    "pycharm": {
     "name": "#%%\n"
    }
   },
   "outputs": [],
   "source": [
    "module_suppress = sd.SDModule(\n",
    "    consistent_model,\n",
    "    sd.names.SUPPRESS,\n",
    "    constraints='EX_sucr_e >= 0.1'\n",
    ")\n",
    "\n",
    "module_protect  = sd.SDModule(\n",
    "    consistent_model,\n",
    "    sd.names.PROTECT,\n",
    "    constraints='BIOMASS__1>=0.2'\n",
    ")"
   ]
  },
  {
   "cell_type": "code",
   "execution_count": 99,
   "metadata": {
    "pycharm": {
     "name": "#%%\n"
    }
   },
   "outputs": [
    {
     "name": "stderr",
     "output_type": "stream",
     "text": [
      "INFO:root:Preparing strain design computation.\n",
      "INFO:root:  Using gurobi for solving LPs during preprocessing.\n",
      "WARNING:root:  Removing reaction bounds when larger than the cobra-threshold of 1000.\n",
      "INFO:root:  FVA to identify blocked reactions and irreversibilities.\n"
     ]
    },
    {
     "ename": "Exception",
     "evalue": "Status code 12 not yet handeld.",
     "output_type": "error",
     "traceback": [
      "\u001B[1;31m---------------------------------------------------------------------------\u001B[0m",
      "\u001B[1;31mRemoteTraceback\u001B[0m                           Traceback (most recent call last)",
      "\u001B[1;31mRemoteTraceback\u001B[0m: \n\"\"\"\nTraceback (most recent call last):\n  File \"C:\\Users\\pino216\\Miniconda3\\envs\\whole-cell-gemm\\lib\\multiprocessing\\pool.py\", line 125, in worker\n    result = (True, func(*args, **kwds))\n  File \"C:\\Users\\pino216\\Miniconda3\\envs\\whole-cell-gemm\\lib\\multiprocessing\\pool.py\", line 48, in mapstar\n    return list(map(*args))\n  File \"C:\\Users\\pino216\\Miniconda3\\envs\\whole-cell-gemm\\lib\\site-packages\\straindesign\\lptools.py\", line 166, in fva_worker_compute\n    min_cx = lp_glob.backend.slim_solve()\n  File \"C:\\Users\\pino216\\Miniconda3\\envs\\whole-cell-gemm\\lib\\site-packages\\straindesign\\gurobi_interface.py\", line 218, in slim_solve\n    raise Exception('Status code ' + str(status) + \" not yet handeld.\")\nException: Status code 12 not yet handeld.\n\"\"\"",
      "\nThe above exception was the direct cause of the following exception:\n",
      "\u001B[1;31mException\u001B[0m                                 Traceback (most recent call last)",
      "Cell \u001B[1;32mIn [99], line 2\u001B[0m\n\u001B[0;32m      1\u001B[0m \u001B[38;5;66;03m# Compute strain designs\u001B[39;00m\n\u001B[1;32m----> 2\u001B[0m sols \u001B[38;5;241m=\u001B[39m \u001B[43msd\u001B[49m\u001B[38;5;241;43m.\u001B[39;49m\u001B[43mcompute_strain_designs\u001B[49m\u001B[43m(\u001B[49m\n\u001B[0;32m      3\u001B[0m \u001B[43m    \u001B[49m\u001B[43mconsistent_model\u001B[49m\u001B[43m,\u001B[49m\n\u001B[0;32m      4\u001B[0m \u001B[43m    \u001B[49m\u001B[43msd_modules\u001B[49m\u001B[43m \u001B[49m\u001B[38;5;241;43m=\u001B[39;49m\u001B[43m \u001B[49m\u001B[43m[\u001B[49m\u001B[43mmodule_suppress\u001B[49m\u001B[43m,\u001B[49m\u001B[43m \u001B[49m\u001B[43mmodule_protect\u001B[49m\u001B[43m]\u001B[49m\u001B[43m,\u001B[49m\n\u001B[0;32m      5\u001B[0m \u001B[43m    \u001B[49m\u001B[43mtime_limit\u001B[49m\u001B[43m \u001B[49m\u001B[38;5;241;43m=\u001B[39;49m\u001B[43m \u001B[49m\u001B[38;5;241;43m300\u001B[39;49m\u001B[43m,\u001B[49m\n\u001B[0;32m      6\u001B[0m \u001B[43m    \u001B[49m\u001B[43mmax_solutions\u001B[49m\u001B[43m \u001B[49m\u001B[38;5;241;43m=\u001B[39;49m\u001B[43m \u001B[49m\u001B[38;5;241;43m1\u001B[39;49m\u001B[43m,\u001B[49m\n\u001B[0;32m      7\u001B[0m \u001B[43m    \u001B[49m\u001B[43mmax_cost\u001B[49m\u001B[43m \u001B[49m\u001B[38;5;241;43m=\u001B[39;49m\u001B[43m \u001B[49m\u001B[38;5;241;43m3\u001B[39;49m\u001B[43m,\u001B[49m\n\u001B[0;32m      8\u001B[0m \u001B[43m    \u001B[49m\u001B[43msolution_approach\u001B[49m\u001B[43m \u001B[49m\u001B[38;5;241;43m=\u001B[39;49m\u001B[43m \u001B[49m\u001B[43msd\u001B[49m\u001B[38;5;241;43m.\u001B[39;49m\u001B[43mnames\u001B[49m\u001B[38;5;241;43m.\u001B[39;49m\u001B[43mANY\u001B[49m\n\u001B[0;32m      9\u001B[0m \u001B[43m)\u001B[49m\n\u001B[0;32m     11\u001B[0m \u001B[38;5;66;03m# Print solutions\u001B[39;00m\n\u001B[0;32m     12\u001B[0m \u001B[38;5;28mprint\u001B[39m(\u001B[38;5;124mf\u001B[39m\u001B[38;5;124m\"\u001B[39m\u001B[38;5;124mOne compressed solution with cost \u001B[39m\u001B[38;5;132;01m{\u001B[39;00msols\u001B[38;5;241m.\u001B[39msd_cost[\u001B[38;5;241m0\u001B[39m]\u001B[38;5;132;01m}\u001B[39;00m\u001B[38;5;124m found and \u001B[39m\u001B[38;5;124m\"\u001B[39m\u001B[38;5;241m+\u001B[39m\\\n\u001B[0;32m     13\u001B[0m       \u001B[38;5;124mf\u001B[39m\u001B[38;5;124m\"\u001B[39m\u001B[38;5;124mexpanded to \u001B[39m\u001B[38;5;132;01m{\u001B[39;00m\u001B[38;5;28mlen\u001B[39m(sols\u001B[38;5;241m.\u001B[39mreaction_sd)\u001B[38;5;132;01m}\u001B[39;00m\u001B[38;5;124m solutions in the uncompressed netork.\u001B[39m\u001B[38;5;124m\"\u001B[39m)\n",
      "File \u001B[1;32m~\\Miniconda3\\envs\\whole-cell-gemm\\lib\\site-packages\\straindesign\\compute_strain_designs.py:286\u001B[0m, in \u001B[0;36mcompute_strain_designs\u001B[1;34m(model, **kwargs)\u001B[0m\n\u001B[0;32m    284\u001B[0m \u001B[38;5;66;03m# FVAs to identify blocked, irreversible and essential reactions, as well as non-bounding bounds\u001B[39;00m\n\u001B[0;32m    285\u001B[0m logging\u001B[38;5;241m.\u001B[39minfo(\u001B[38;5;124m'\u001B[39m\u001B[38;5;124m  FVA to identify blocked reactions and irreversibilities.\u001B[39m\u001B[38;5;124m'\u001B[39m)\n\u001B[1;32m--> 286\u001B[0m \u001B[43mbound_blocked_or_irrevers_fva\u001B[49m\u001B[43m(\u001B[49m\u001B[43mmodel\u001B[49m\u001B[43m,\u001B[49m\u001B[43m \u001B[49m\u001B[43msolver\u001B[49m\u001B[38;5;241;43m=\u001B[39;49m\u001B[43mkwargs\u001B[49m\u001B[43m[\u001B[49m\u001B[43mSOLVER\u001B[49m\u001B[43m]\u001B[49m\u001B[43m)\u001B[49m\n\u001B[0;32m    287\u001B[0m logging\u001B[38;5;241m.\u001B[39minfo(\u001B[38;5;124m'\u001B[39m\u001B[38;5;124m  FVA(s) to identify essential reactions.\u001B[39m\u001B[38;5;124m'\u001B[39m)\n\u001B[0;32m    288\u001B[0m essential_reacs \u001B[38;5;241m=\u001B[39m \u001B[38;5;28mset\u001B[39m()\n",
      "File \u001B[1;32m~\\Miniconda3\\envs\\whole-cell-gemm\\lib\\site-packages\\straindesign\\networktools.py:966\u001B[0m, in \u001B[0;36mbound_blocked_or_irrevers_fva\u001B[1;34m(model, solver)\u001B[0m\n\u001B[0;32m    959\u001B[0m \u001B[38;5;124;03m\"\"\"Use FVA to determine the flux ranges. Use this information to update the model bounds\u001B[39;00m\n\u001B[0;32m    960\u001B[0m \u001B[38;5;124;03m\u001B[39;00m\n\u001B[0;32m    961\u001B[0m \u001B[38;5;124;03mIf flux ranges for a reaction are narrower than its bounds in the mode, these bounds can be omitted, \u001B[39;00m\n\u001B[0;32m    962\u001B[0m \u001B[38;5;124;03msince other reactions must constrain the reaction flux. If (upper or lower) flux bounds are found to \u001B[39;00m\n\u001B[0;32m    963\u001B[0m \u001B[38;5;124;03mbe zero, the model bounds are updated to reduce the model complexity.\u001B[39;00m\n\u001B[0;32m    964\u001B[0m \u001B[38;5;124;03m\"\"\"\u001B[39;00m\n\u001B[0;32m    965\u001B[0m \u001B[38;5;66;03m# FVAs to identify blocked and irreversible reactions, as well as non-bounding bounds\u001B[39;00m\n\u001B[1;32m--> 966\u001B[0m flux_limits \u001B[38;5;241m=\u001B[39m \u001B[43mfva\u001B[49m\u001B[43m(\u001B[49m\u001B[43mmodel\u001B[49m\u001B[43m)\u001B[49m\n\u001B[0;32m    967\u001B[0m \u001B[38;5;28;01mif\u001B[39;00m select_solver(solver) \u001B[38;5;129;01min\u001B[39;00m [SCIP, GLPK]:\n\u001B[0;32m    968\u001B[0m     tol \u001B[38;5;241m=\u001B[39m \u001B[38;5;241m1e-10\u001B[39m  \u001B[38;5;66;03m# use tolerance for tightening problem bounds\u001B[39;00m\n",
      "File \u001B[1;32m~\\Miniconda3\\envs\\whole-cell-gemm\\lib\\site-packages\\straindesign\\lptools.py:305\u001B[0m, in \u001B[0;36mfva\u001B[1;34m(model, **kwargs)\u001B[0m\n\u001B[0;32m    303\u001B[0m         chunk_size \u001B[38;5;241m=\u001B[39m \u001B[38;5;28mlen\u001B[39m(reaction_ids) \u001B[38;5;241m/\u001B[39m\u001B[38;5;241m/\u001B[39m processes\n\u001B[0;32m    304\u001B[0m         \u001B[38;5;66;03m# x = pool.imap_unordered(worker_compute, range(2*numr), chunksize=chunk_size)\u001B[39;00m\n\u001B[1;32m--> 305\u001B[0m         \u001B[38;5;28;01mfor\u001B[39;00m i, value \u001B[38;5;129;01min\u001B[39;00m pool\u001B[38;5;241m.\u001B[39mimap_unordered(fva_worker_compute, \u001B[38;5;28mrange\u001B[39m(\u001B[38;5;241m2\u001B[39m \u001B[38;5;241m*\u001B[39m numr), chunksize\u001B[38;5;241m=\u001B[39mchunk_size):\n\u001B[0;32m    306\u001B[0m             x[i] \u001B[38;5;241m=\u001B[39m value\n\u001B[0;32m    307\u001B[0m \u001B[38;5;66;03m# GLPK works better when reinitializing the LP in every iteration. Unfortunately, this is slow\u001B[39;00m\n\u001B[0;32m    308\u001B[0m \u001B[38;5;66;03m# but for now by far the most stable solution.\u001B[39;00m\n",
      "File \u001B[1;32m~\\Miniconda3\\envs\\whole-cell-gemm\\lib\\multiprocessing\\pool.py:451\u001B[0m, in \u001B[0;36m<genexpr>\u001B[1;34m(.0)\u001B[0m\n\u001B[0;32m    443\u001B[0m result \u001B[38;5;241m=\u001B[39m IMapUnorderedIterator(\u001B[38;5;28mself\u001B[39m)\n\u001B[0;32m    444\u001B[0m \u001B[38;5;28mself\u001B[39m\u001B[38;5;241m.\u001B[39m_taskqueue\u001B[38;5;241m.\u001B[39mput(\n\u001B[0;32m    445\u001B[0m     (\n\u001B[0;32m    446\u001B[0m         \u001B[38;5;28mself\u001B[39m\u001B[38;5;241m.\u001B[39m_guarded_task_generation(result\u001B[38;5;241m.\u001B[39m_job,\n\u001B[1;32m   (...)\u001B[0m\n\u001B[0;32m    449\u001B[0m         result\u001B[38;5;241m.\u001B[39m_set_length\n\u001B[0;32m    450\u001B[0m     ))\n\u001B[1;32m--> 451\u001B[0m \u001B[38;5;28;01mreturn\u001B[39;00m (item \u001B[38;5;28;01mfor\u001B[39;00m chunk \u001B[38;5;129;01min\u001B[39;00m result \u001B[38;5;28;01mfor\u001B[39;00m item \u001B[38;5;129;01min\u001B[39;00m chunk)\n",
      "File \u001B[1;32m~\\Miniconda3\\envs\\whole-cell-gemm\\lib\\multiprocessing\\pool.py:873\u001B[0m, in \u001B[0;36mIMapIterator.next\u001B[1;34m(self, timeout)\u001B[0m\n\u001B[0;32m    871\u001B[0m \u001B[38;5;28;01mif\u001B[39;00m success:\n\u001B[0;32m    872\u001B[0m     \u001B[38;5;28;01mreturn\u001B[39;00m value\n\u001B[1;32m--> 873\u001B[0m \u001B[38;5;28;01mraise\u001B[39;00m value\n",
      "\u001B[1;31mException\u001B[0m: Status code 12 not yet handeld."
     ]
    }
   ],
   "source": [
    "# Compute strain designs\n",
    "sols = sd.compute_strain_designs(\n",
    "    consistent_model,\n",
    "    sd_modules = [module_suppress, module_protect],\n",
    "    time_limit = 300,\n",
    "    max_solutions = 1,\n",
    "    max_cost = 3,\n",
    "    solution_approach = sd.names.ANY\n",
    ")\n",
    "\n",
    "# Print solutions\n",
    "print(f\"One compressed solution with cost {sols.sd_cost[0]} found and \"+\\\n",
    "      f\"expanded to {len(sols.reaction_sd)} solutions in the uncompressed netork.\")\n",
    "print(f\"Example knockout set: {[s for s in sols.reaction_sd[0]]}\")"
   ]
  },
  {
   "cell_type": "code",
   "execution_count": 43,
   "metadata": {
    "pycharm": {
     "name": "#%%\n"
    }
   },
   "outputs": [],
   "source": [
    "cobra.io.save_json_model( model, 'name_for_now.json',)"
   ]
  },
  {
   "cell_type": "code",
   "execution_count": 34,
   "metadata": {
    "pycharm": {
     "name": "#%%\n"
    }
   },
   "outputs": [],
   "source": [
    "import escher\n",
    "from escher import Builder"
   ]
  },
  {
   "cell_type": "code",
   "execution_count": 35,
   "metadata": {
    "pycharm": {
     "name": "#%%\n"
    }
   },
   "outputs": [],
   "source": [
    "builder = Builder()"
   ]
  },
  {
   "cell_type": "code",
   "execution_count": 40,
   "metadata": {
    "pycharm": {
     "name": "#%%\n"
    }
   },
   "outputs": [],
   "source": [
    "builder.model = model"
   ]
  },
  {
   "cell_type": "code",
   "execution_count": 44,
   "metadata": {
    "pycharm": {
     "name": "#%%\n"
    }
   },
   "outputs": [],
   "source": [
    "builder.metabolite_data = pfba_solution.shadow_prices\n",
    "builder.reaction_data = pfba_solution.fluxes"
   ]
  },
  {
   "cell_type": "code",
   "execution_count": 42,
   "metadata": {
    "pycharm": {
     "name": "#%%\n"
    }
   },
   "outputs": [
    {
     "data": {
      "application/vnd.jupyter.widget-view+json": {
       "model_id": "ec43269ff6914f1f8fbb812de4512787",
       "version_major": 2,
       "version_minor": 0
      },
      "text/plain": [
       "Builder(allow_building_duplicate_reactions=False, and_method_in_gene_reaction_rule='mean', cofactors=['atp', '…"
      ]
     },
     "metadata": {},
     "output_type": "display_data"
    }
   ],
   "source": [
    "builder"
   ]
  },
  {
   "cell_type": "code",
   "execution_count": 58,
   "metadata": {
    "pycharm": {
     "name": "#%%\n"
    }
   },
   "outputs": [],
   "source": [
    "with model:\n",
    "    model.objective = {model.reactions.get_by_id('EX_sucr_e'): 1, model.reactions.get_by_id('BIOMASS__1'):5}\n",
    "    pfba_solution = cobra.flux_analysis.pfba(model)\n",
    "builder.metabolite_data = pfba_solution.shadow_prices\n",
    "builder.reaction_data = pfba_solution.fluxes"
   ]
  },
  {
   "cell_type": "code",
   "execution_count": 47,
   "metadata": {
    "pycharm": {
     "name": "#%%\n"
    },
    "scrolled": true
   },
   "outputs": [],
   "source": [
    "flux = pfba_solution.fluxes.to_dict()"
   ]
  },
  {
   "cell_type": "markdown",
   "metadata": {
    "collapsed": false,
    "jupyter": {
     "outputs_hidden": false
    },
    "pycharm": {
     "name": "#%% md\n"
    }
   },
   "source": [
    "## Auto escher map\n",
    "\n",
    "This code is based on https://github.com/johncthomas/Auto-Escher-map-for-CobraPy.\n",
    "It doesn't quite do the visualization as wanted, but I'll keep it here until I get a defined escher map working right."
   ]
  },
  {
   "cell_type": "code",
   "execution_count": 45,
   "metadata": {
    "pycharm": {
     "name": "#%%\n"
    }
   },
   "outputs": [],
   "source": [
    "import generate_emap"
   ]
  },
  {
   "cell_type": "code",
   "execution_count": 56,
   "metadata": {
    "pycharm": {
     "name": "#%%\n"
    }
   },
   "outputs": [
    {
     "name": "stdout",
     "output_type": "stream",
     "text": [
      "Of 98 reactions 75 have a link\n",
      "The following are only connected to other reactions by common intermediates\n",
      "Modeling: demand reaction (succ c) [DM_succ_c]::  succ_c --> \n",
      "Nitrate exchange [EX_no3_e]::  no3_e <=> \n",
      "Nucleoside-diphosphate kinase (ATP:GDP) [NDPK1]::  atp_c + gdp_c <=> adp_c + gtp_c\n",
      "Adenylate kinase [ADK1]::  amp_c + atp_c <=> 2.0 adp_c\n",
      "Polyphosphate kinase [PPK]::  atp_c + pi_c <=> adp_c + ppi_c\n",
      "Modeling: exchange reaction, photon absorption (680-700nm)  [EX_photon690_e]::  photon690_e <=> \n",
      "Modeling: exchange reaction, photon absorption (660nm-680nm)  [EX_photon670_e]::  photon670_e <=> \n",
      "H2O transport via diffusion (tilacoid) [H2Otu_syn]::  h2o_u <=> h2o_c\n",
      "Modeling: exchange reaction, photon absorption (500nm-520nm) [EX_photon510_e]::  photon510_e <=> \n",
      "Acetate kinase [ACKr]::  ac_c + atp_c <=> actp_c + adp_c\n",
      "Sucrose transport in via proton symport [SUCRt2]::  h_e + sucr_e <=> h_c + sucr_c\n",
      "Sedoheptulose-bisphosphatase [SBP]::  h2o_c + s17bp_c --> pi_c + s7p_c\n",
      "Unconnected count =  12\n"
     ]
    }
   ],
   "source": [
    "excluded_reactions = set(ex)\n",
    "\n",
    "common_mets = set()\n",
    "rxn_with_flux = set()\n",
    "rxn_with_greater_flux = set()\n",
    "\n",
    "threshold_flux = 1.1\n",
    "\n",
    "# Get a list of reactions with flux and those where flux exceeds the threshold\n",
    "# The rxn_with_flux will be used to determine what's a common metabolite\n",
    "# rxn_with_greater flux used to draw the map\n",
    "for rxn_name in flux:\n",
    "    if flux[rxn_name] != 0 and rxn_name not in excluded_reactions:\n",
    "        rxn = model.reactions.get_by_id(rxn_name)\n",
    "        rxn_with_flux.add(rxn)\n",
    "        if 0-threshold_flux > flux[rxn_name] or threshold_flux < flux[rxn_name]:\n",
    "            rxn_with_greater_flux.add(rxn)\n",
    "\n",
    "# Get a dictionary of metabolite frequency\n",
    "# (keys are the Cobra metabolite objects)\n",
    "met_count = generate_emap.metabolite_occurence(rxn_with_flux)\n",
    "\n",
    "# Get common metabolites.\n",
    "# included_common_m will be used be treated as uncommon whatever their occurence\n",
    "included_common_m = ('accoa_c', 'pry_c', 'g3p_c', 'acald_c', 'f6p_c', 'pep_c')\n",
    "for met in met_count:\n",
    "    if met_count[met] > 25 and met.id not in included_common_m:\n",
    "        common_mets.add(met)\n",
    "\n",
    "# Convert the sets to lists so that they can be iterated over\n",
    "common_mets, rxn_with_flux, rxn_with_greater_flux = \\\n",
    "    list(common_mets), list(rxn_with_flux), list(rxn_with_greater_flux)\n",
    "\n",
    "\n",
    "# Get the Escher JSON\n",
    "escher_map = generate_emap.gen_map(\n",
    "     consistent_model, rxn_with_greater_flux,  common_mets, 400, met_count\n",
    ")\n",
    "escher_json = escher_map.dump_json()\n",
    "# Currently Escher doesn't accept json strings, needs a file, i assume that's a bug\n",
    "with open('escher.json', 'w') as f:\n",
    "    f.write(escher_json)"
   ]
  },
  {
   "cell_type": "code",
   "execution_count": 53,
   "metadata": {
    "pycharm": {
     "name": "#%%\n"
    }
   },
   "outputs": [],
   "source": [
    "builder.hide_secondary_metabolites = True"
   ]
  },
  {
   "cell_type": "code",
   "execution_count": 54,
   "metadata": {
    "pycharm": {
     "name": "#%%\n"
    }
   },
   "outputs": [
    {
     "data": {
      "text/plain": [
       "{'ALCD1',\n",
       " 'FALDH2',\n",
       " 'FALGTHLs',\n",
       " 'G6PDH2r',\n",
       " 'GART',\n",
       " 'GND',\n",
       " 'PDH',\n",
       " 'PGCD',\n",
       " 'PGL',\n",
       " 'PSERT',\n",
       " 'PSP_L',\n",
       " 'SFGTHi'}"
      ]
     },
     "execution_count": 54,
     "metadata": {},
     "output_type": "execute_result"
    }
   ],
   "source": [
    "rxn_to_remove"
   ]
  },
  {
   "cell_type": "code",
   "execution_count": 51,
   "metadata": {
    "pycharm": {
     "name": "#%%\n"
    }
   },
   "outputs": [
    {
     "data": {
      "application/vnd.jupyter.widget-view+json": {
       "model_id": "ec43269ff6914f1f8fbb812de4512787",
       "version_major": 2,
       "version_minor": 0
      },
      "text/plain": [
       "Builder(allow_building_duplicate_reactions=False, and_method_in_gene_reaction_rule='mean', cofactors=['atp', '…"
      ]
     },
     "metadata": {},
     "output_type": "display_data"
    }
   ],
   "source": [
    "builder"
   ]
  },
  {
   "cell_type": "code",
   "execution_count": null,
   "metadata": {
    "pycharm": {
     "name": "#%%\n"
    }
   },
   "outputs": [],
   "source": []
  }
 ],
 "metadata": {
  "kernelspec": {
   "display_name": "Python 3 (ipykernel)",
   "language": "python",
   "name": "python3"
  },
  "language_info": {
   "codemirror_mode": {
    "name": "ipython",
    "version": 3
   },
   "file_extension": ".py",
   "mimetype": "text/x-python",
   "name": "python",
   "nbconvert_exporter": "python",
   "pygments_lexer": "ipython3",
   "version": "3.10.13"
  }
 },
 "nbformat": 4,
 "nbformat_minor": 4
}