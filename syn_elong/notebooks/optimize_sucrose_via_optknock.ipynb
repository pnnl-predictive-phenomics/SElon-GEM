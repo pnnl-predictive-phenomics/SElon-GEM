{
 "cells": [
  {
   "cell_type": "code",
   "execution_count": 1,
   "metadata": {
    "pycharm": {
     "name": "#%%\n"
    }
   },
   "outputs": [],
   "source": [
    "import matplotlib.pyplot as plt\n",
    "import os\n",
    "os.environ['JAVA_HOME'] = r'C:\\Program Files\\Java\\jdk-21'\n",
    "from straindesign import compress_model, remove_dummy_bounds\n",
    "import cobra\n",
    "import logging\n",
    "logging.basicConfig(level=logging.INFO)\n",
    "import cobra\n",
    "import numpy as np\n"
   ]
  },
  {
   "cell_type": "code",
   "execution_count": 2,
   "metadata": {
    "pycharm": {
     "name": "#%%\n"
    }
   },
   "outputs": [],
   "source": [
    "import straindesign as sd\n",
    "import straindesign.names as names"
   ]
  },
  {
   "cell_type": "code",
   "execution_count": 3,
   "metadata": {
    "pycharm": {
     "name": "#%%\n"
    }
   },
   "outputs": [
    {
     "name": "stdout",
     "output_type": "stream",
     "text": [
      "Set parameter Username\n"
     ]
    },
    {
     "name": "stderr",
     "output_type": "stream",
     "text": [
      "INFO:gurobipy.gurobipy:Set parameter Username\n"
     ]
    },
    {
     "name": "stdout",
     "output_type": "stream",
     "text": [
      "Set parameter GURO_PAR_SPECIAL\n"
     ]
    },
    {
     "name": "stderr",
     "output_type": "stream",
     "text": [
      "INFO:gurobipy.gurobipy:Set parameter GURO_PAR_SPECIAL\n"
     ]
    },
    {
     "name": "stdout",
     "output_type": "stream",
     "text": [
      "Set parameter TokenServer to value \"leghorn\"\n"
     ]
    },
    {
     "name": "stderr",
     "output_type": "stream",
     "text": [
      "INFO:gurobipy.gurobipy:Set parameter TokenServer to value \"leghorn\"\n"
     ]
    }
   ],
   "source": [
    "from syn_elong import model\n",
    "from syn_elong.media import m9_media"
   ]
  },
  {
   "cell_type": "code",
   "execution_count": 4,
   "metadata": {
    "pycharm": {
     "name": "#%%\n"
    }
   },
   "outputs": [
    {
     "name": "stdout",
     "output_type": "stream",
     "text": [
      "0.05390186774577662\n"
     ]
    }
   ],
   "source": [
    "with model:\n",
    "    print(model.slim_optimize())"
   ]
  },
  {
   "cell_type": "code",
   "execution_count": 5,
   "metadata": {
    "pycharm": {
     "name": "#%%\n"
    }
   },
   "outputs": [
    {
     "name": "stderr",
     "output_type": "stream",
     "text": [
      "INFO:cobra.medium.boundary_types:Compartment `e` sounds like an external compartment. Using this one without counting boundary reactions.\n"
     ]
    },
    {
     "name": "stdout",
     "output_type": "stream",
     "text": [
      "4.088280273582626\n"
     ]
    }
   ],
   "source": [
    "with model:\n",
    "    model.medium = m9_media\n",
    "    print(model.slim_optimize())"
   ]
  },
  {
   "cell_type": "code",
   "execution_count": 12,
   "metadata": {
    "pycharm": {
     "name": "#%%\n"
    }
   },
   "outputs": [
    {
     "name": "stderr",
     "output_type": "stream",
     "text": [
      "INFO:cobra.medium.boundary_types:Compartment `e` sounds like an external compartment. Using this one without counting boundary reactions.\n"
     ]
    },
    {
     "name": "stdout",
     "output_type": "stream",
     "text": [
      "Maximum possible BIOMASS__1 synthesis rate: 4.088280273582666.\n",
      "Maximum possible EX_sucr_e synthesis rate: 16.389121923937367.\n"
     ]
    }
   ],
   "source": [
    "with model:\n",
    "    model.medium = m9_media\n",
    "#     model.reactions.BIOMASS__1.upper_bound = 1000\n",
    "#     model.objective = 'BIOMASS__1'\n",
    "#     sol = model.optimize()\n",
    "    sol = sd.fba(model, obj='BIOMASS__1', obj_sense='max', pfba =False)\n",
    "    print(f\"Maximum possible BIOMASS__1 synthesis rate: {sol.objective_value}.\")\n",
    "#     x = sol.to_frame()\n",
    "#     display(x.sort_values(by='reduced_costs', ascending=True))\n",
    "#     print(x.loc['EX_sucr_e'])\n",
    "    sol = sd.fba(model, obj='EX_sucr_e', obj_sense='max', pfba =False)\n",
    "    print(f\"Maximum possible EX_sucr_e synthesis rate: {sol.objective_value}.\")\n",
    "#     model.objective = 'EX_sucr_e'\n",
    "#     sol = model.optimize()\n",
    "    \n",
    "#     x = sol.to_frame()\n",
    "#     display(x.sort_values(by='reduced_costs', ascending=True))\n",
    "#     print(x.loc['BIOMASS__1'])"
   ]
  },
  {
   "cell_type": "code",
   "execution_count": 28,
   "metadata": {
    "pycharm": {
     "name": "#%%\n"
    }
   },
   "outputs": [
    {
     "name": "stderr",
     "output_type": "stream",
     "text": [
      "INFO:cobra.medium.boundary_types:Compartment `e` sounds like an external compartment. Using this one without counting boundary reactions.\n"
     ]
    }
   ],
   "source": [
    "model.medium = m9_media"
   ]
  },
  {
   "cell_type": "code",
   "execution_count": 11,
   "metadata": {
    "pycharm": {
     "name": "#%%\n"
    }
   },
   "outputs": [
    {
     "name": "stderr",
     "output_type": "stream",
     "text": [
      "INFO:cobra.medium.boundary_types:Compartment `e` sounds like an external compartment. Using this one without counting boundary reactions.\n"
     ]
    }
   ],
   "source": []
  },
  {
   "cell_type": "code",
   "execution_count": 12,
   "metadata": {
    "pycharm": {
     "name": "#%%\n"
    }
   },
   "outputs": [
    {
     "data": {
      "text/plain": [
       "999"
      ]
     },
     "execution_count": 12,
     "metadata": {},
     "output_type": "execute_result"
    }
   ],
   "source": [
    "len(model.reactions)"
   ]
  },
  {
   "cell_type": "code",
   "execution_count": 29,
   "metadata": {
    "pycharm": {
     "name": "#%%\n"
    }
   },
   "outputs": [
    {
     "name": "stderr",
     "output_type": "stream",
     "text": [
      "INFO:cobra.summary.model_summary:Generating new parsimonious flux distribution.\n"
     ]
    },
    {
     "data": {
      "text/html": [
       "<h3>Objective</h3><p>1.0 BIOMASS__1 = 4.088280273582626</p><h4>Uptake</h4><table border=\"1\" class=\"dataframe\">\n",
       "  <thead>\n",
       "    <tr style=\"text-align: right;\">\n",
       "      <th>Metabolite</th>\n",
       "      <th>Reaction</th>\n",
       "      <th>Flux</th>\n",
       "      <th>C-Number</th>\n",
       "      <th>C-Flux</th>\n",
       "    </tr>\n",
       "  </thead>\n",
       "  <tbody>\n",
       "    <tr>\n",
       "      <td>co2_e</td>\n",
       "      <td>EX_co2_e</td>\n",
       "      <td>77.95</td>\n",
       "      <td>1</td>\n",
       "      <td>43.80%</td>\n",
       "    </tr>\n",
       "    <tr>\n",
       "      <td>cobalt2_e</td>\n",
       "      <td>EX_cobalt2_e</td>\n",
       "      <td>2.092E-05</td>\n",
       "      <td>0</td>\n",
       "      <td>0.00%</td>\n",
       "    </tr>\n",
       "    <tr>\n",
       "      <td>fe3_e</td>\n",
       "      <td>EX_fe3_e</td>\n",
       "      <td>0.006549</td>\n",
       "      <td>0</td>\n",
       "      <td>0.00%</td>\n",
       "    </tr>\n",
       "    <tr>\n",
       "      <td>h_e</td>\n",
       "      <td>EX_h_e</td>\n",
       "      <td>69.13</td>\n",
       "      <td>0</td>\n",
       "      <td>0.00%</td>\n",
       "    </tr>\n",
       "    <tr>\n",
       "      <td>hco3_e</td>\n",
       "      <td>EX_hco3_e</td>\n",
       "      <td>100</td>\n",
       "      <td>1</td>\n",
       "      <td>56.20%</td>\n",
       "    </tr>\n",
       "    <tr>\n",
       "      <td>k_e</td>\n",
       "      <td>EX_k_e</td>\n",
       "      <td>6.325E-06</td>\n",
       "      <td>0</td>\n",
       "      <td>0.00%</td>\n",
       "    </tr>\n",
       "    <tr>\n",
       "      <td>mg2_e</td>\n",
       "      <td>EX_mg2_e</td>\n",
       "      <td>0.04583</td>\n",
       "      <td>0</td>\n",
       "      <td>0.00%</td>\n",
       "    </tr>\n",
       "    <tr>\n",
       "      <td>na1_e</td>\n",
       "      <td>EX_na1_e</td>\n",
       "      <td>4.865E-07</td>\n",
       "      <td>0</td>\n",
       "      <td>0.00%</td>\n",
       "    </tr>\n",
       "    <tr>\n",
       "      <td>nh4_e</td>\n",
       "      <td>EX_nh4_e</td>\n",
       "      <td>32.95</td>\n",
       "      <td>0</td>\n",
       "      <td>0.00%</td>\n",
       "    </tr>\n",
       "    <tr>\n",
       "      <td>photon510_e</td>\n",
       "      <td>EX_photon510_e</td>\n",
       "      <td>13.46</td>\n",
       "      <td>0</td>\n",
       "      <td>0.00%</td>\n",
       "    </tr>\n",
       "    <tr>\n",
       "      <td>photon650_e</td>\n",
       "      <td>EX_photon650_e</td>\n",
       "      <td>0.04583</td>\n",
       "      <td>0</td>\n",
       "      <td>0.00%</td>\n",
       "    </tr>\n",
       "    <tr>\n",
       "      <td>photon670_e</td>\n",
       "      <td>EX_photon670_e</td>\n",
       "      <td>1000</td>\n",
       "      <td>0</td>\n",
       "      <td>0.00%</td>\n",
       "    </tr>\n",
       "    <tr>\n",
       "      <td>photon690_e</td>\n",
       "      <td>EX_photon690_e</td>\n",
       "      <td>1000</td>\n",
       "      <td>0</td>\n",
       "      <td>0.00%</td>\n",
       "    </tr>\n",
       "    <tr>\n",
       "      <td>pi_e</td>\n",
       "      <td>EX_pi_e</td>\n",
       "      <td>1.744</td>\n",
       "      <td>0</td>\n",
       "      <td>0.00%</td>\n",
       "    </tr>\n",
       "    <tr>\n",
       "      <td>so4_e</td>\n",
       "      <td>EX_so4_e</td>\n",
       "      <td>0.6367</td>\n",
       "      <td>0</td>\n",
       "      <td>0.00%</td>\n",
       "    </tr>\n",
       "    <tr>\n",
       "      <td>amylose_c</td>\n",
       "      <td>SK_amylose_c</td>\n",
       "      <td>2.1</td>\n",
       "      <td>0</td>\n",
       "      <td>0.00%</td>\n",
       "    </tr>\n",
       "  </tbody>\n",
       "</table><h4>Secretion</h4><table border=\"1\" class=\"dataframe\">\n",
       "  <thead>\n",
       "    <tr style=\"text-align: right;\">\n",
       "      <th>Metabolite</th>\n",
       "      <th>Reaction</th>\n",
       "      <th>Flux</th>\n",
       "      <th>C-Number</th>\n",
       "      <th>C-Flux</th>\n",
       "    </tr>\n",
       "  </thead>\n",
       "  <tbody>\n",
       "    <tr>\n",
       "      <td>5drib_c</td>\n",
       "      <td>DM_5drib_c</td>\n",
       "      <td>-0.0004247</td>\n",
       "      <td>5</td>\n",
       "      <td>26.10%</td>\n",
       "    </tr>\n",
       "    <tr>\n",
       "      <td>amob_c</td>\n",
       "      <td>DM_amob_c</td>\n",
       "      <td>-0.000107</td>\n",
       "      <td>15</td>\n",
       "      <td>19.73%</td>\n",
       "    </tr>\n",
       "    <tr>\n",
       "      <td>co_c</td>\n",
       "      <td>DM_co_c</td>\n",
       "      <td>-0.004324</td>\n",
       "      <td>1</td>\n",
       "      <td>53.14%</td>\n",
       "    </tr>\n",
       "    <tr>\n",
       "      <td>dialurate_c</td>\n",
       "      <td>DM_dialurate_c</td>\n",
       "      <td>-2.092E-05</td>\n",
       "      <td>4</td>\n",
       "      <td>1.03%</td>\n",
       "    </tr>\n",
       "    <tr>\n",
       "      <td>pho_loss_c</td>\n",
       "      <td>DM_pho_loss_c</td>\n",
       "      <td>-59.21</td>\n",
       "      <td>0</td>\n",
       "      <td>0.00%</td>\n",
       "    </tr>\n",
       "    <tr>\n",
       "      <td>h2o_e</td>\n",
       "      <td>EX_h2o_e</td>\n",
       "      <td>-9.316</td>\n",
       "      <td>0</td>\n",
       "      <td>0.00%</td>\n",
       "    </tr>\n",
       "    <tr>\n",
       "      <td>o2_e</td>\n",
       "      <td>EX_o2_e</td>\n",
       "      <td>-194.1</td>\n",
       "      <td>0</td>\n",
       "      <td>0.00%</td>\n",
       "    </tr>\n",
       "    <tr>\n",
       "      <td>sucr_e</td>\n",
       "      <td>EX_sucr_e</td>\n",
       "      <td>-0.011</td>\n",
       "      <td>0</td>\n",
       "      <td>0.00%</td>\n",
       "    </tr>\n",
       "  </tbody>\n",
       "</table>"
      ],
      "text/plain": [
       "<cobra.summary.model_summary.ModelSummary at 0x1baba04aa10>"
      ]
     },
     "execution_count": 29,
     "metadata": {},
     "output_type": "execute_result"
    }
   ],
   "source": [
    "model.summary()"
   ]
  },
  {
   "cell_type": "code",
   "execution_count": 30,
   "metadata": {
    "pycharm": {
     "name": "#%%\n"
    }
   },
   "outputs": [],
   "source": [
    "fluxes = model.optimize().fluxes\n",
    "fluxes = fluxes[np.abs(fluxes)>0]"
   ]
  },
  {
   "cell_type": "code",
   "execution_count": 31,
   "metadata": {
    "pycharm": {
     "name": "#%%\n"
    }
   },
   "outputs": [],
   "source": [
    "ex = [i for i in fluxes.index if i.startswith('EX_')]"
   ]
  },
  {
   "cell_type": "code",
   "execution_count": 32,
   "metadata": {
    "pycharm": {
     "name": "#%%\n"
    }
   },
   "outputs": [],
   "source": [
    "import pandas as pd\n",
    "pd.set_option('display.float_format', lambda x: f'{x:.3f}')"
   ]
  },
  {
   "cell_type": "code",
   "execution_count": 33,
   "metadata": {
    "pycharm": {
     "name": "#%%\n"
    }
   },
   "outputs": [
    {
     "data": {
      "text/plain": [
       "EX_photon690_e   -1000.000\n",
       "EX_photon670_e   -1000.000\n",
       "EX_hco3_e         -100.000\n",
       "EX_co2_e           -77.949\n",
       "EX_h_e             -69.129\n",
       "EX_nh4_e           -32.949\n",
       "EX_photon470_e     -13.457\n",
       "EX_pi_e             -1.744\n",
       "EX_so4_e            -0.637\n",
       "EX_mg2_e            -0.046\n",
       "EX_photon650_e      -0.046\n",
       "EX_fe3_e            -0.007\n",
       "EX_cobalt2_e        -0.000\n",
       "EX_k_e              -0.000\n",
       "EX_na1_e            -0.000\n",
       "EX_sucr_e            0.011\n",
       "EX_h2o_e             9.316\n",
       "EX_o2_e            194.131\n",
       "Name: fluxes, dtype: float64"
      ]
     },
     "execution_count": 33,
     "metadata": {},
     "output_type": "execute_result"
    }
   ],
   "source": [
    "# fluxes.style.format('{:.2f}', na_rep='MISS')\n",
    "fluxes.loc[ex].sort_values()"
   ]
  },
  {
   "cell_type": "code",
   "execution_count": 34,
   "metadata": {
    "pycharm": {
     "name": "#%%\n"
    }
   },
   "outputs": [
    {
     "data": {
      "image/png": "[encoded data removed]",
      "text/plain": [
       "<Figure size 640x480 with 1 Axes>"
      ]
     },
     "metadata": {},
     "output_type": "display_data"
    }
   ],
   "source": [
    "\n",
    "datapoints, triang, plot1 = sd.plot_flux_space(\n",
    "    model,\n",
    "    ('BIOMASS__1','EX_sucr_e'),\n",
    "    show=False\n",
    ");"
   ]
  },
  {
   "cell_type": "code",
   "execution_count": 35,
   "metadata": {
    "pycharm": {
     "name": "#%%\n"
    }
   },
   "outputs": [],
   "source": [
    "blocked_reactions = cobra.flux_analysis.find_blocked_reactions(model)"
   ]
  },
  {
   "cell_type": "code",
   "execution_count": 36,
   "metadata": {
    "pycharm": {
     "name": "#%%\n"
    }
   },
   "outputs": [
    {
     "data": {
      "text/plain": [
       "235"
      ]
     },
     "execution_count": 36,
     "metadata": {},
     "output_type": "execute_result"
    }
   ],
   "source": [
    "len(blocked_reactions)"
   ]
  },
  {
   "cell_type": "code",
   "execution_count": 37,
   "metadata": {
    "pycharm": {
     "name": "#%%\n"
    }
   },
   "outputs": [
    {
     "name": "stdout",
     "output_type": "stream",
     "text": [
      "Read LP format model from file C:\\Users\\pino216\\AppData\\Local\\Temp\\tmpm59iakji.lp\n"
     ]
    },
    {
     "name": "stderr",
     "output_type": "stream",
     "text": [
      "INFO:gurobipy.gurobipy:Read LP format model from file C:\\Users\\pino216\\AppData\\Local\\Temp\\tmpm59iakji.lp\n"
     ]
    },
    {
     "name": "stdout",
     "output_type": "stream",
     "text": [
      "Reading time = 0.03 seconds\n"
     ]
    },
    {
     "name": "stderr",
     "output_type": "stream",
     "text": [
      "INFO:gurobipy.gurobipy:Reading time = 0.03 seconds\n"
     ]
    },
    {
     "name": "stdout",
     "output_type": "stream",
     "text": [
      ": 893 rows, 1952 columns, 7974 nonzeros\n"
     ]
    },
    {
     "name": "stderr",
     "output_type": "stream",
     "text": [
      "INFO:gurobipy.gurobipy:: 893 rows, 1952 columns, 7974 nonzeros\n"
     ]
    }
   ],
   "source": [
    "consistent_model = cobra.flux_analysis.fastcc(model)\n",
    "cobra.io.write_sbml_model( consistent_model, 'condensed_syn.xml',)"
   ]
  },
  {
   "cell_type": "code",
   "execution_count": 38,
   "metadata": {
    "pycharm": {
     "name": "#%%\n"
    }
   },
   "outputs": [
    {
     "name": "stderr",
     "output_type": "stream",
     "text": [
      "INFO:cobra.summary.model_summary:Generating new parsimonious flux distribution.\n",
      "INFO:cobra.summary.model_summary:Performing flux variability analysis.\n"
     ]
    },
    {
     "data": {
      "text/html": [
       "<h3>Objective</h3><p>1.0 BIOMASS__1 = 4.088280273582649</p><h4>Uptake</h4><table border=\"1\" class=\"dataframe\">\n",
       "  <thead>\n",
       "    <tr style=\"text-align: right;\">\n",
       "      <th>Metabolite</th>\n",
       "      <th>Reaction</th>\n",
       "      <th>Flux</th>\n",
       "      <th>Range</th>\n",
       "      <th>C-Number</th>\n",
       "      <th>C-Flux</th>\n",
       "    </tr>\n",
       "  </thead>\n",
       "  <tbody>\n",
       "    <tr>\n",
       "      <td>co2_e</td>\n",
       "      <td>EX_co2_e</td>\n",
       "      <td>77.95</td>\n",
       "      <td>[60.17;  100]</td>\n",
       "      <td>1</td>\n",
       "      <td>43.80%</td>\n",
       "    </tr>\n",
       "    <tr>\n",
       "      <td>cobalt2_e</td>\n",
       "      <td>EX_cobalt2_e</td>\n",
       "      <td>2.092E-05</td>\n",
       "      <td>[1.883E-05;  2.076E-05]</td>\n",
       "      <td>0</td>\n",
       "      <td>0.00%</td>\n",
       "    </tr>\n",
       "    <tr>\n",
       "      <td>fe3_e</td>\n",
       "      <td>EX_fe3_e</td>\n",
       "      <td>0.006549</td>\n",
       "      <td>[0.005894;  0.006549]</td>\n",
       "      <td>0</td>\n",
       "      <td>0.00%</td>\n",
       "    </tr>\n",
       "    <tr>\n",
       "      <td>h_e</td>\n",
       "      <td>EX_h_e</td>\n",
       "      <td>69.13</td>\n",
       "      <td>[32.37;  100]</td>\n",
       "      <td>0</td>\n",
       "      <td>0.00%</td>\n",
       "    </tr>\n",
       "    <tr>\n",
       "      <td>hco3_e</td>\n",
       "      <td>EX_hco3_e</td>\n",
       "      <td>100</td>\n",
       "      <td>[60.17;  100]</td>\n",
       "      <td>1</td>\n",
       "      <td>56.20%</td>\n",
       "    </tr>\n",
       "    <tr>\n",
       "      <td>k_e</td>\n",
       "      <td>EX_k_e</td>\n",
       "      <td>6.325E-06</td>\n",
       "      <td>[5.692E-06;  6.325E-06]</td>\n",
       "      <td>0</td>\n",
       "      <td>0.00%</td>\n",
       "    </tr>\n",
       "    <tr>\n",
       "      <td>mg2_e</td>\n",
       "      <td>EX_mg2_e</td>\n",
       "      <td>0.04583</td>\n",
       "      <td>[0.04125;  0.04583]</td>\n",
       "      <td>0</td>\n",
       "      <td>0.00%</td>\n",
       "    </tr>\n",
       "    <tr>\n",
       "      <td>na1_e</td>\n",
       "      <td>EX_na1_e</td>\n",
       "      <td>4.865E-07</td>\n",
       "      <td>[4.379E-07;  4.865E-07]</td>\n",
       "      <td>0</td>\n",
       "      <td>0.00%</td>\n",
       "    </tr>\n",
       "    <tr>\n",
       "      <td>nh4_e</td>\n",
       "      <td>EX_nh4_e</td>\n",
       "      <td>32.95</td>\n",
       "      <td>[15.11;  32.95]</td>\n",
       "      <td>0</td>\n",
       "      <td>0.00%</td>\n",
       "    </tr>\n",
       "    <tr>\n",
       "      <td>photon470_e</td>\n",
       "      <td>EX_photon470_e</td>\n",
       "      <td>13.46</td>\n",
       "      <td>[0;  1000]</td>\n",
       "      <td>0</td>\n",
       "      <td>0.00%</td>\n",
       "    </tr>\n",
       "    <tr>\n",
       "      <td>photon650_e</td>\n",
       "      <td>EX_photon650_e</td>\n",
       "      <td>0.04583</td>\n",
       "      <td>[0;  1000]</td>\n",
       "      <td>0</td>\n",
       "      <td>0.00%</td>\n",
       "    </tr>\n",
       "    <tr>\n",
       "      <td>photon670_e</td>\n",
       "      <td>EX_photon670_e</td>\n",
       "      <td>1000</td>\n",
       "      <td>[0;  1000]</td>\n",
       "      <td>0</td>\n",
       "      <td>0.00%</td>\n",
       "    </tr>\n",
       "    <tr>\n",
       "      <td>photon690_e</td>\n",
       "      <td>EX_photon690_e</td>\n",
       "      <td>1000</td>\n",
       "      <td>[0;  1000]</td>\n",
       "      <td>0</td>\n",
       "      <td>0.00%</td>\n",
       "    </tr>\n",
       "    <tr>\n",
       "      <td>pi_e</td>\n",
       "      <td>EX_pi_e</td>\n",
       "      <td>1.744</td>\n",
       "      <td>[1.57;  1.744]</td>\n",
       "      <td>0</td>\n",
       "      <td>0.00%</td>\n",
       "    </tr>\n",
       "    <tr>\n",
       "      <td>so4_e</td>\n",
       "      <td>EX_so4_e</td>\n",
       "      <td>0.6367</td>\n",
       "      <td>[0.573;  0.6367]</td>\n",
       "      <td>0</td>\n",
       "      <td>0.00%</td>\n",
       "    </tr>\n",
       "    <tr>\n",
       "      <td>amylose_c</td>\n",
       "      <td>SK_amylose_c</td>\n",
       "      <td>2.1</td>\n",
       "      <td>[1.89;  2.1]</td>\n",
       "      <td>0</td>\n",
       "      <td>0.00%</td>\n",
       "    </tr>\n",
       "  </tbody>\n",
       "</table><h4>Secretion</h4><table border=\"1\" class=\"dataframe\">\n",
       "  <thead>\n",
       "    <tr style=\"text-align: right;\">\n",
       "      <th>Metabolite</th>\n",
       "      <th>Reaction</th>\n",
       "      <th>Flux</th>\n",
       "      <th>Range</th>\n",
       "      <th>C-Number</th>\n",
       "      <th>C-Flux</th>\n",
       "    </tr>\n",
       "  </thead>\n",
       "  <tbody>\n",
       "    <tr>\n",
       "      <td>5drib_c</td>\n",
       "      <td>DM_5drib_c</td>\n",
       "      <td>-0.0004247</td>\n",
       "      <td>[-0.0004247;  -0.0003822]</td>\n",
       "      <td>5</td>\n",
       "      <td>26.10%</td>\n",
       "    </tr>\n",
       "    <tr>\n",
       "      <td>ac_c</td>\n",
       "      <td>DM_ac_c</td>\n",
       "      <td>0</td>\n",
       "      <td>[-9.827;  0]</td>\n",
       "      <td>2</td>\n",
       "      <td>0.00%</td>\n",
       "    </tr>\n",
       "    <tr>\n",
       "      <td>amob_c</td>\n",
       "      <td>DM_amob_c</td>\n",
       "      <td>-0.000107</td>\n",
       "      <td>[-0.000107;  -9.633E-05]</td>\n",
       "      <td>15</td>\n",
       "      <td>19.73%</td>\n",
       "    </tr>\n",
       "    <tr>\n",
       "      <td>co_c</td>\n",
       "      <td>DM_co_c</td>\n",
       "      <td>-0.004324</td>\n",
       "      <td>[-0.004324;  -0.003891]</td>\n",
       "      <td>1</td>\n",
       "      <td>53.14%</td>\n",
       "    </tr>\n",
       "    <tr>\n",
       "      <td>dialurate_c</td>\n",
       "      <td>DM_dialurate_c</td>\n",
       "      <td>-2.092E-05</td>\n",
       "      <td>[-2.092E-05;  -1.883E-05]</td>\n",
       "      <td>4</td>\n",
       "      <td>1.03%</td>\n",
       "    </tr>\n",
       "    <tr>\n",
       "      <td>h2_c</td>\n",
       "      <td>DM_h2_c</td>\n",
       "      <td>0</td>\n",
       "      <td>[-59.46;  0]</td>\n",
       "      <td>0</td>\n",
       "      <td>0.00%</td>\n",
       "    </tr>\n",
       "    <tr>\n",
       "      <td>lac__D_c</td>\n",
       "      <td>DM_lac__D_c</td>\n",
       "      <td>0</td>\n",
       "      <td>[-6.551;  0]</td>\n",
       "      <td>3</td>\n",
       "      <td>0.00%</td>\n",
       "    </tr>\n",
       "    <tr>\n",
       "      <td>pho_loss_c</td>\n",
       "      <td>DM_pho_loss_c</td>\n",
       "      <td>-59.21</td>\n",
       "      <td>[-1000;  -39.94]</td>\n",
       "      <td>0</td>\n",
       "      <td>0.00%</td>\n",
       "    </tr>\n",
       "    <tr>\n",
       "      <td>succ_c</td>\n",
       "      <td>DM_succ_c</td>\n",
       "      <td>0</td>\n",
       "      <td>[-6.551;  0]</td>\n",
       "      <td>4</td>\n",
       "      <td>0.00%</td>\n",
       "    </tr>\n",
       "    <tr>\n",
       "      <td>h2o_e</td>\n",
       "      <td>EX_h2o_e</td>\n",
       "      <td>-9.316</td>\n",
       "      <td>[-18.38;  41.1]</td>\n",
       "      <td>0</td>\n",
       "      <td>0.00%</td>\n",
       "    </tr>\n",
       "    <tr>\n",
       "      <td>meoh_e</td>\n",
       "      <td>EX_meoh_e</td>\n",
       "      <td>0</td>\n",
       "      <td>[-0.000107;  0]</td>\n",
       "      <td>1</td>\n",
       "      <td>0.00%</td>\n",
       "    </tr>\n",
       "    <tr>\n",
       "      <td>no3_e</td>\n",
       "      <td>EX_no3_e</td>\n",
       "      <td>0</td>\n",
       "      <td>[0;  14.54]</td>\n",
       "      <td>0</td>\n",
       "      <td>0.00%</td>\n",
       "    </tr>\n",
       "    <tr>\n",
       "      <td>o2_e</td>\n",
       "      <td>EX_o2_e</td>\n",
       "      <td>-194.1</td>\n",
       "      <td>[-204.5;  -174.7]</td>\n",
       "      <td>0</td>\n",
       "      <td>0.00%</td>\n",
       "    </tr>\n",
       "    <tr>\n",
       "      <td>photon410_e</td>\n",
       "      <td>EX_photon410_e</td>\n",
       "      <td>0</td>\n",
       "      <td>[0;  1000]</td>\n",
       "      <td>0</td>\n",
       "      <td>0.00%</td>\n",
       "    </tr>\n",
       "    <tr>\n",
       "      <td>photon430_e</td>\n",
       "      <td>EX_photon430_e</td>\n",
       "      <td>0</td>\n",
       "      <td>[0;  1000]</td>\n",
       "      <td>0</td>\n",
       "      <td>0.00%</td>\n",
       "    </tr>\n",
       "    <tr>\n",
       "      <td>photon450_e</td>\n",
       "      <td>EX_photon450_e</td>\n",
       "      <td>0</td>\n",
       "      <td>[0;  1000]</td>\n",
       "      <td>0</td>\n",
       "      <td>0.00%</td>\n",
       "    </tr>\n",
       "    <tr>\n",
       "      <td>photon490_e</td>\n",
       "      <td>EX_photon490_e</td>\n",
       "      <td>0</td>\n",
       "      <td>[0;  1000]</td>\n",
       "      <td>0</td>\n",
       "      <td>0.00%</td>\n",
       "    </tr>\n",
       "    <tr>\n",
       "      <td>photon510_e</td>\n",
       "      <td>EX_photon510_e</td>\n",
       "      <td>0</td>\n",
       "      <td>[0;  1000]</td>\n",
       "      <td>0</td>\n",
       "      <td>0.00%</td>\n",
       "    </tr>\n",
       "    <tr>\n",
       "      <td>photon530_e</td>\n",
       "      <td>EX_photon530_e</td>\n",
       "      <td>0</td>\n",
       "      <td>[0;  1000]</td>\n",
       "      <td>0</td>\n",
       "      <td>0.00%</td>\n",
       "    </tr>\n",
       "    <tr>\n",
       "      <td>photon550_e</td>\n",
       "      <td>EX_photon550_e</td>\n",
       "      <td>0</td>\n",
       "      <td>[0;  1000]</td>\n",
       "      <td>0</td>\n",
       "      <td>0.00%</td>\n",
       "    </tr>\n",
       "    <tr>\n",
       "      <td>photon570_e</td>\n",
       "      <td>EX_photon570_e</td>\n",
       "      <td>0</td>\n",
       "      <td>[0;  1000]</td>\n",
       "      <td>0</td>\n",
       "      <td>0.00%</td>\n",
       "    </tr>\n",
       "    <tr>\n",
       "      <td>photon590_e</td>\n",
       "      <td>EX_photon590_e</td>\n",
       "      <td>0</td>\n",
       "      <td>[0;  1000]</td>\n",
       "      <td>0</td>\n",
       "      <td>0.00%</td>\n",
       "    </tr>\n",
       "    <tr>\n",
       "      <td>photon610_e</td>\n",
       "      <td>EX_photon610_e</td>\n",
       "      <td>0</td>\n",
       "      <td>[0;  1000]</td>\n",
       "      <td>0</td>\n",
       "      <td>0.00%</td>\n",
       "    </tr>\n",
       "    <tr>\n",
       "      <td>photon630_e</td>\n",
       "      <td>EX_photon630_e</td>\n",
       "      <td>0</td>\n",
       "      <td>[0;  1000]</td>\n",
       "      <td>0</td>\n",
       "      <td>0.00%</td>\n",
       "    </tr>\n",
       "    <tr>\n",
       "      <td>sucr_e</td>\n",
       "      <td>EX_sucr_e</td>\n",
       "      <td>-0.011</td>\n",
       "      <td>[-1.649;  -0.011]</td>\n",
       "      <td>0</td>\n",
       "      <td>0.00%</td>\n",
       "    </tr>\n",
       "    <tr>\n",
       "      <td>akg_c</td>\n",
       "      <td>SK_akg_c</td>\n",
       "      <td>0</td>\n",
       "      <td>[-4.53;  0]</td>\n",
       "      <td>5</td>\n",
       "      <td>0.00%</td>\n",
       "    </tr>\n",
       "    <tr>\n",
       "      <td>for_c</td>\n",
       "      <td>SK_for_c</td>\n",
       "      <td>0</td>\n",
       "      <td>[-23.43;  0]</td>\n",
       "      <td>1</td>\n",
       "      <td>0.00%</td>\n",
       "    </tr>\n",
       "    <tr>\n",
       "      <td>fum_c</td>\n",
       "      <td>SK_fum_c</td>\n",
       "      <td>0</td>\n",
       "      <td>[-6.551;  0]</td>\n",
       "      <td>4</td>\n",
       "      <td>0.00%</td>\n",
       "    </tr>\n",
       "  </tbody>\n",
       "</table>"
      ],
      "text/plain": [
       "<cobra.summary.model_summary.ModelSummary at 0x1babb666ce0>"
      ]
     },
     "execution_count": 38,
     "metadata": {},
     "output_type": "execute_result"
    }
   ],
   "source": [
    "consistent_model.summary(fva=.9)"
   ]
  },
  {
   "cell_type": "code",
   "execution_count": 39,
   "metadata": {
    "pycharm": {
     "name": "#%%\n"
    }
   },
   "outputs": [
    {
     "data": {
      "text/plain": [
       "4.088280273582658"
      ]
     },
     "execution_count": 39,
     "metadata": {},
     "output_type": "execute_result"
    }
   ],
   "source": [
    "consistent_model.slim_optimize()"
   ]
  },
  {
   "cell_type": "code",
   "execution_count": 40,
   "metadata": {
    "pycharm": {
     "name": "#%%\n"
    }
   },
   "outputs": [
    {
     "data": {
      "text/plain": [
       "4.088280273582654"
      ]
     },
     "execution_count": 40,
     "metadata": {},
     "output_type": "execute_result"
    }
   ],
   "source": [
    "model.slim_optimize()"
   ]
  },
  {
   "cell_type": "code",
   "execution_count": 41,
   "metadata": {
    "pycharm": {
     "name": "#%%\n"
    }
   },
   "outputs": [
    {
     "name": "stdout",
     "output_type": "stream",
     "text": [
      "SPP: h2o_c + suc6p_c --> pi_c + sucr_c\n",
      "SUCRt2: h_e + sucr_e <=> h_c + sucr_c\n",
      "SUCR: h2o_c + sucr_c --> fru_c + glc__D_c\n"
     ]
    }
   ],
   "source": [
    "for rxn in consistent_model.metabolites.sucr_c.reactions:\n",
    "    print(rxn)\n",
    "    # print(consistent_model.reactions.get_by_id(rxn.id))"
   ]
  },
  {
   "cell_type": "code",
   "execution_count": 42,
   "metadata": {
    "pycharm": {
     "name": "#%%\n"
    }
   },
   "outputs": [
    {
     "data": {
      "text/html": [
       "\n",
       "        <table>\n",
       "            <tr>\n",
       "                <td><strong>Metabolite identifier</strong></td><td>suc6p_c</td>\n",
       "            </tr><tr>\n",
       "                <td><strong>Name</strong></td><td>Sucrose 6-phosphate</td>\n",
       "            </tr><tr>\n",
       "                <td><strong>Memory address</strong></td>\n",
       "                <td>0x01babb3f1330</td>\n",
       "            </tr><tr>\n",
       "                <td><strong>Formula</strong></td><td>C12H21O14P</td>\n",
       "            </tr><tr>\n",
       "                <td><strong>Compartment</strong></td><td>c</td>\n",
       "            </tr><tr>\n",
       "                <td><strong>In 2 reaction(s)</strong></td><td>\n",
       "                    SPP, SPS</td>\n",
       "            </tr>\n",
       "        </table>"
      ],
      "text/plain": [
       "<Metabolite suc6p_c at 0x1babb3f1330>"
      ]
     },
     "execution_count": 42,
     "metadata": {},
     "output_type": "execute_result"
    }
   ],
   "source": [
    "consistent_model.metabolites.suc6p_c"
   ]
  },
  {
   "cell_type": "code",
   "execution_count": null,
   "metadata": {
    "pycharm": {
     "name": "#%%\n"
    }
   },
   "outputs": [],
   "source": [
    "for rxn in consistent_model.metabolites.suc6p_c.reactions:\n",
    "    print(rxn)"
   ]
  },
  {
   "cell_type": "code",
   "execution_count": 44,
   "metadata": {
    "pycharm": {
     "name": "#%%\n"
    }
   },
   "outputs": [
    {
     "data": {
      "image/png": "[encoded data removed]",
      "text/plain": [
       "<Figure size 640x480 with 1 Axes>"
      ]
     },
     "metadata": {},
     "output_type": "display_data"
    }
   ],
   "source": [
    "\n",
    "datapoints, triang, plot1 = sd.plot_flux_space(\n",
    "    consistent_model,\n",
    "    ('BIOMASS__1','EX_sucr_e'),\n",
    "    show=False\n",
    ");"
   ]
  },
  {
   "cell_type": "code",
   "execution_count": 45,
   "metadata": {
    "pycharm": {
     "name": "#%%\n"
    }
   },
   "outputs": [],
   "source": [
    "module_optknock = sd.SDModule(\n",
    "    consistent_model,\n",
    "    names.OPTKNOCK,\n",
    "    inner_objective='BIOMASS__1',\n",
    "    outer_objective='EX_sucr_e',\n",
    "    constraints=['EX_sucr_e >= 5', 'BIOMASS__1 >= 1.']\n",
    ")"
   ]
  },
  {
   "cell_type": "code",
   "execution_count": 49,
   "metadata": {
    "pycharm": {
     "name": "#%%\n"
    }
   },
   "outputs": [
    {
     "name": "stderr",
     "output_type": "stream",
     "text": [
      "INFO:root:Preparing strain design computation.\n",
      "INFO:root:  Using gurobi for solving LPs during preprocessing.\n",
      "WARNING:root:  Removing reaction bounds when larger than the cobra-threshold of 1000.\n",
      "INFO:root:  FVA to identify blocked reactions and irreversibilities.\n"
     ]
    },
    {
     "ename": "Exception",
     "evalue": "Status code 12 not yet handeld.",
     "output_type": "error",
     "traceback": [
      "\u001b[1;31m---------------------------------------------------------------------------\u001b[0m",
      "\u001b[1;31mRemoteTraceback\u001b[0m                           Traceback (most recent call last)",
      "\u001b[1;31mRemoteTraceback\u001b[0m: \n\"\"\"\nTraceback (most recent call last):\n  File \"C:\\Users\\pino216\\Miniconda3\\envs\\whole-cell-gemm\\lib\\multiprocessing\\pool.py\", line 125, in worker\n    result = (True, func(*args, **kwds))\n  File \"C:\\Users\\pino216\\Miniconda3\\envs\\whole-cell-gemm\\lib\\multiprocessing\\pool.py\", line 48, in mapstar\n    return list(map(*args))\n  File \"C:\\Users\\pino216\\Miniconda3\\envs\\whole-cell-gemm\\lib\\site-packages\\straindesign\\lptools.py\", line 166, in fva_worker_compute\n    min_cx = lp_glob.backend.slim_solve()\n  File \"C:\\Users\\pino216\\Miniconda3\\envs\\whole-cell-gemm\\lib\\site-packages\\straindesign\\gurobi_interface.py\", line 218, in slim_solve\n    raise Exception('Status code ' + str(status) + \" not yet handeld.\")\nException: Status code 12 not yet handeld.\n\"\"\"",
      "\nThe above exception was the direct cause of the following exception:\n",
      "\u001b[1;31mException\u001b[0m                                 Traceback (most recent call last)",
      "Cell \u001b[1;32mIn [49], line 4\u001b[0m\n\u001b[0;32m      1\u001b[0m \u001b[38;5;28;01mimport\u001b[39;00m \u001b[38;5;21;01mlogging\u001b[39;00m\n\u001b[0;32m      2\u001b[0m logging\u001b[38;5;241m.\u001b[39mbasicConfig(level\u001b[38;5;241m=\u001b[39mlogging\u001b[38;5;241m.\u001b[39mINFO)\n\u001b[1;32m----> 4\u001b[0m sols \u001b[38;5;241m=\u001b[39m \u001b[43msd\u001b[49m\u001b[38;5;241;43m.\u001b[39;49m\u001b[43mcompute_strain_designs\u001b[49m\u001b[43m(\u001b[49m\n\u001b[0;32m      5\u001b[0m \u001b[43m    \u001b[49m\u001b[43mconsistent_model\u001b[49m\u001b[43m,\u001b[49m\n\u001b[0;32m      6\u001b[0m \u001b[43m    \u001b[49m\u001b[43msd_modules\u001b[49m\u001b[43m \u001b[49m\u001b[38;5;241;43m=\u001b[39;49m\u001b[43m \u001b[49m\u001b[43mmodule_optknock\u001b[49m\u001b[43m,\u001b[49m\n\u001b[0;32m      7\u001b[0m \u001b[43m    \u001b[49m\u001b[43mmax_solutions\u001b[49m\u001b[43m \u001b[49m\u001b[38;5;241;43m=\u001b[39;49m\u001b[43m \u001b[49m\u001b[38;5;241;43m1\u001b[39;49m\u001b[43m,\u001b[49m\n\u001b[0;32m      8\u001b[0m \u001b[43m    \u001b[49m\u001b[43mmax_cost\u001b[49m\u001b[43m \u001b[49m\u001b[38;5;241;43m=\u001b[39;49m\u001b[43m \u001b[49m\u001b[38;5;241;43m3\u001b[39;49m\u001b[43m,\u001b[49m\n\u001b[0;32m      9\u001b[0m \u001b[43m    \u001b[49m\u001b[43msolution_approach\u001b[49m\u001b[43m \u001b[49m\u001b[38;5;241;43m=\u001b[39;49m\u001b[43m \u001b[49m\u001b[38;5;124;43m'\u001b[39;49m\u001b[38;5;124;43mbest\u001b[39;49m\u001b[38;5;124;43m'\u001b[39;49m\u001b[43m,\u001b[49m\n\u001b[0;32m     10\u001b[0m \u001b[43m    \u001b[49m\u001b[43mtime_limit\u001b[49m\u001b[38;5;241;43m=\u001b[39;49m\u001b[38;5;241;43m300\u001b[39;49m\u001b[43m,\u001b[49m\n\u001b[0;32m     11\u001b[0m \n\u001b[0;32m     12\u001b[0m \u001b[43m)\u001b[49m\n",
      "File \u001b[1;32m~\\Miniconda3\\envs\\whole-cell-gemm\\lib\\site-packages\\straindesign\\compute_strain_designs.py:286\u001b[0m, in \u001b[0;36mcompute_strain_designs\u001b[1;34m(model, **kwargs)\u001b[0m\n\u001b[0;32m    284\u001b[0m \u001b[38;5;66;03m# FVAs to identify blocked, irreversible and essential reactions, as well as non-bounding bounds\u001b[39;00m\n\u001b[0;32m    285\u001b[0m logging\u001b[38;5;241m.\u001b[39minfo(\u001b[38;5;124m'\u001b[39m\u001b[38;5;124m  FVA to identify blocked reactions and irreversibilities.\u001b[39m\u001b[38;5;124m'\u001b[39m)\n\u001b[1;32m--> 286\u001b[0m \u001b[43mbound_blocked_or_irrevers_fva\u001b[49m\u001b[43m(\u001b[49m\u001b[43mmodel\u001b[49m\u001b[43m,\u001b[49m\u001b[43m \u001b[49m\u001b[43msolver\u001b[49m\u001b[38;5;241;43m=\u001b[39;49m\u001b[43mkwargs\u001b[49m\u001b[43m[\u001b[49m\u001b[43mSOLVER\u001b[49m\u001b[43m]\u001b[49m\u001b[43m)\u001b[49m\n\u001b[0;32m    287\u001b[0m logging\u001b[38;5;241m.\u001b[39minfo(\u001b[38;5;124m'\u001b[39m\u001b[38;5;124m  FVA(s) to identify essential reactions.\u001b[39m\u001b[38;5;124m'\u001b[39m)\n\u001b[0;32m    288\u001b[0m essential_reacs \u001b[38;5;241m=\u001b[39m \u001b[38;5;28mset\u001b[39m()\n",
      "File \u001b[1;32m~\\Miniconda3\\envs\\whole-cell-gemm\\lib\\site-packages\\straindesign\\networktools.py:966\u001b[0m, in \u001b[0;36mbound_blocked_or_irrevers_fva\u001b[1;34m(model, solver)\u001b[0m\n\u001b[0;32m    959\u001b[0m \u001b[38;5;124;03m\"\"\"Use FVA to determine the flux ranges. Use this information to update the model bounds\u001b[39;00m\n\u001b[0;32m    960\u001b[0m \u001b[38;5;124;03m\u001b[39;00m\n\u001b[0;32m    961\u001b[0m \u001b[38;5;124;03mIf flux ranges for a reaction are narrower than its bounds in the mode, these bounds can be omitted, \u001b[39;00m\n\u001b[0;32m    962\u001b[0m \u001b[38;5;124;03msince other reactions must constrain the reaction flux. If (upper or lower) flux bounds are found to \u001b[39;00m\n\u001b[0;32m    963\u001b[0m \u001b[38;5;124;03mbe zero, the model bounds are updated to reduce the model complexity.\u001b[39;00m\n\u001b[0;32m    964\u001b[0m \u001b[38;5;124;03m\"\"\"\u001b[39;00m\n\u001b[0;32m    965\u001b[0m \u001b[38;5;66;03m# FVAs to identify blocked and irreversible reactions, as well as non-bounding bounds\u001b[39;00m\n\u001b[1;32m--> 966\u001b[0m flux_limits \u001b[38;5;241m=\u001b[39m \u001b[43mfva\u001b[49m\u001b[43m(\u001b[49m\u001b[43mmodel\u001b[49m\u001b[43m)\u001b[49m\n\u001b[0;32m    967\u001b[0m \u001b[38;5;28;01mif\u001b[39;00m select_solver(solver) \u001b[38;5;129;01min\u001b[39;00m [SCIP, GLPK]:\n\u001b[0;32m    968\u001b[0m     tol \u001b[38;5;241m=\u001b[39m \u001b[38;5;241m1e-10\u001b[39m  \u001b[38;5;66;03m# use tolerance for tightening problem bounds\u001b[39;00m\n",
      "File \u001b[1;32m~\\Miniconda3\\envs\\whole-cell-gemm\\lib\\site-packages\\straindesign\\lptools.py:305\u001b[0m, in \u001b[0;36mfva\u001b[1;34m(model, **kwargs)\u001b[0m\n\u001b[0;32m    303\u001b[0m         chunk_size \u001b[38;5;241m=\u001b[39m \u001b[38;5;28mlen\u001b[39m(reaction_ids) \u001b[38;5;241m/\u001b[39m\u001b[38;5;241m/\u001b[39m processes\n\u001b[0;32m    304\u001b[0m         \u001b[38;5;66;03m# x = pool.imap_unordered(worker_compute, range(2*numr), chunksize=chunk_size)\u001b[39;00m\n\u001b[1;32m--> 305\u001b[0m         \u001b[38;5;28;01mfor\u001b[39;00m i, value \u001b[38;5;129;01min\u001b[39;00m pool\u001b[38;5;241m.\u001b[39mimap_unordered(fva_worker_compute, \u001b[38;5;28mrange\u001b[39m(\u001b[38;5;241m2\u001b[39m \u001b[38;5;241m*\u001b[39m numr), chunksize\u001b[38;5;241m=\u001b[39mchunk_size):\n\u001b[0;32m    306\u001b[0m             x[i] \u001b[38;5;241m=\u001b[39m value\n\u001b[0;32m    307\u001b[0m \u001b[38;5;66;03m# GLPK works better when reinitializing the LP in every iteration. Unfortunately, this is slow\u001b[39;00m\n\u001b[0;32m    308\u001b[0m \u001b[38;5;66;03m# but for now by far the most stable solution.\u001b[39;00m\n",
      "File \u001b[1;32m~\\Miniconda3\\envs\\whole-cell-gemm\\lib\\multiprocessing\\pool.py:451\u001b[0m, in \u001b[0;36m<genexpr>\u001b[1;34m(.0)\u001b[0m\n\u001b[0;32m    443\u001b[0m result \u001b[38;5;241m=\u001b[39m IMapUnorderedIterator(\u001b[38;5;28mself\u001b[39m)\n\u001b[0;32m    444\u001b[0m \u001b[38;5;28mself\u001b[39m\u001b[38;5;241m.\u001b[39m_taskqueue\u001b[38;5;241m.\u001b[39mput(\n\u001b[0;32m    445\u001b[0m     (\n\u001b[0;32m    446\u001b[0m         \u001b[38;5;28mself\u001b[39m\u001b[38;5;241m.\u001b[39m_guarded_task_generation(result\u001b[38;5;241m.\u001b[39m_job,\n\u001b[1;32m   (...)\u001b[0m\n\u001b[0;32m    449\u001b[0m         result\u001b[38;5;241m.\u001b[39m_set_length\n\u001b[0;32m    450\u001b[0m     ))\n\u001b[1;32m--> 451\u001b[0m \u001b[38;5;28;01mreturn\u001b[39;00m (item \u001b[38;5;28;01mfor\u001b[39;00m chunk \u001b[38;5;129;01min\u001b[39;00m result \u001b[38;5;28;01mfor\u001b[39;00m item \u001b[38;5;129;01min\u001b[39;00m chunk)\n",
      "File \u001b[1;32m~\\Miniconda3\\envs\\whole-cell-gemm\\lib\\multiprocessing\\pool.py:873\u001b[0m, in \u001b[0;36mIMapIterator.next\u001b[1;34m(self, timeout)\u001b[0m\n\u001b[0;32m    871\u001b[0m \u001b[38;5;28;01mif\u001b[39;00m success:\n\u001b[0;32m    872\u001b[0m     \u001b[38;5;28;01mreturn\u001b[39;00m value\n\u001b[1;32m--> 873\u001b[0m \u001b[38;5;28;01mraise\u001b[39;00m value\n",
      "\u001b[1;31mException\u001b[0m: Status code 12 not yet handeld."
     ]
    }
   ],
   "source": [
    "import logging\n",
    "logging.basicConfig(level=logging.INFO)\n",
    "\n",
    "sols = sd.compute_strain_designs(\n",
    "    consistent_model,\n",
    "    sd_modules = module_optknock,\n",
    "    max_solutions = 1,\n",
    "    max_cost = 3,\n",
    "    solution_approach = 'best',\n",
    "    time_limit=300,\n",
    "\n",
    ")"
   ]
  },
  {
   "cell_type": "code",
   "execution_count": 83,
   "metadata": {
    "pycharm": {
     "name": "#%%\n"
    }
   },
   "outputs": [],
   "source": [
    "import networkx as nx"
   ]
  },
  {
   "cell_type": "code",
   "execution_count": null,
   "metadata": {
    "pycharm": {
     "name": "#%%\n"
    }
   },
   "outputs": [],
   "source": [
    "rxn_graph = nx.DiGraph()\n",
    "for i in reaction_sd:\n",
    "    prev = None\n",
    "    for j in i:\n",
    "        if prev is not None:\n",
    "            rxn_graph.add_edge(prev, j)\n",
    "        prev = j\n",
    "            \n",
    "#     print(i)\n",
    "nx.draw_networkx(rxn_graph, pos=nx.layout.kamada_kawai_layout(rxn_graph, rxn_graph.nodes))"
   ]
  },
  {
   "cell_type": "code",
   "execution_count": 97,
   "metadata": {
    "pycharm": {
     "name": "#%%\n"
    }
   },
   "outputs": [],
   "source": [
    "nx.write_gml(rxn_graph, 'reaction_graph.gml')"
   ]
  },
  {
   "cell_type": "code",
   "execution_count": null,
   "metadata": {
    "pycharm": {
     "name": "#%%\n"
    }
   },
   "outputs": [],
   "source": [
    "reaction_sd = [\n",
    "     {'PDH': -1.0, 'GND': -1.0, 'PSP_L': -1.0},\n",
    "     {'PDH': -1.0, 'GND': -1.0, 'PGCD': -1.0},\n",
    "     {'PDH': -1.0, 'GND': -1.0, 'PSERT': -1.0},\n",
    "     {'PDH': -1.0, 'G6PDH2r': -1.0, 'PSP_L': -1.0},\n",
    "     {'PDH': -1.0, 'G6PDH2r': -1.0, 'PGCD': -1.0},\n",
    "     {'PDH': -1.0, 'G6PDH2r': -1.0, 'PSERT': -1.0},\n",
    "     {'PDH': -1.0, 'PGL': -1.0, 'PSP_L': -1.0},\n",
    "     {'PDH': -1.0, 'PGL': -1.0, 'PGCD': -1.0},\n",
    "     {'PDH': -1.0, 'PGL': -1.0, 'PSERT': -1.0},\n",
    "     {'GART': -1.0, 'PDH': -1.0, 'GND': -1.0, 'PSP_L': -1.0},\n",
    "     {'GART': -1.0, 'PDH': -1.0, 'GND': -1.0, 'PGCD': -1.0},\n",
    "     {'GART': -1.0, 'PDH': -1.0, 'GND': -1.0, 'PSERT': -1.0},\n",
    "     {'GART': -1.0, 'PDH': -1.0, 'G6PDH2r': -1.0, 'PSP_L': -1.0},\n",
    "     {'GART': -1.0, 'PDH': -1.0, 'G6PDH2r': -1.0, 'PGCD': -1.0},\n",
    "     {'GART': -1.0, 'PDH': -1.0, 'G6PDH2r': -1.0, 'PSERT': -1.0},\n",
    "     {'GART': -1.0, 'PDH': -1.0, 'PGL': -1.0, 'PSP_L': -1.0},\n",
    "     {'GART': -1.0, 'PDH': -1.0, 'PGL': -1.0, 'PGCD': -1.0},\n",
    "     {'GART': -1.0, 'PDH': -1.0, 'PGL': -1.0, 'PSERT': -1.0},\n",
    "     {'PDH': -1.0, 'GND': -1.0, 'PSP_L': -1.0, 'FALGTHLs': -1.0},\n",
    "     {'PDH': -1.0, 'GND': -1.0, 'PSP_L': -1.0, 'FALDH2': -1.0},\n",
    "     {'PDH': -1.0, 'GND': -1.0, 'PSP_L': -1.0, 'ALCD1': -1.0},\n",
    "     {'PDH': -1.0, 'GND': -1.0, 'PSP_L': -1.0, 'SFGTHi': -1.0},\n",
    "     {'PDH': -1.0, 'GND': -1.0, 'PGCD': -1.0, 'FALGTHLs': -1.0},\n",
    "     {'PDH': -1.0, 'GND': -1.0, 'PGCD': -1.0, 'FALDH2': -1.0},\n",
    "     {'PDH': -1.0, 'GND': -1.0, 'PGCD': -1.0, 'ALCD1': -1.0},\n",
    "     {'PDH': -1.0, 'GND': -1.0, 'PGCD': -1.0, 'SFGTHi': -1.0},\n",
    "     {'PDH': -1.0, 'GND': -1.0, 'PSERT': -1.0, 'FALGTHLs': -1.0},\n",
    "     {'PDH': -1.0, 'GND': -1.0, 'PSERT': -1.0, 'FALDH2': -1.0},\n",
    "     {'PDH': -1.0, 'GND': -1.0, 'PSERT': -1.0, 'ALCD1': -1.0},\n",
    "     {'PDH': -1.0, 'GND': -1.0, 'PSERT': -1.0, 'SFGTHi': -1.0},\n",
    "     {'PDH': -1.0, 'G6PDH2r': -1.0, 'PSP_L': -1.0, 'FALGTHLs': -1.0},\n",
    "     {'PDH': -1.0, 'G6PDH2r': -1.0, 'PSP_L': -1.0, 'FALDH2': -1.0},\n",
    "     {'PDH': -1.0, 'G6PDH2r': -1.0, 'PSP_L': -1.0, 'ALCD1': -1.0},\n",
    "     {'PDH': -1.0, 'G6PDH2r': -1.0, 'PSP_L': -1.0, 'SFGTHi': -1.0},\n",
    "     {'PDH': -1.0, 'G6PDH2r': -1.0, 'PGCD': -1.0, 'FALGTHLs': -1.0},\n",
    "     {'PDH': -1.0, 'G6PDH2r': -1.0, 'PGCD': -1.0, 'FALDH2': -1.0},\n",
    "     {'PDH': -1.0, 'G6PDH2r': -1.0, 'PGCD': -1.0, 'ALCD1': -1.0},\n",
    "     {'PDH': -1.0, 'G6PDH2r': -1.0, 'PGCD': -1.0, 'SFGTHi': -1.0},\n",
    "     {'PDH': -1.0, 'G6PDH2r': -1.0, 'PSERT': -1.0, 'FALGTHLs': -1.0},\n",
    "     {'PDH': -1.0, 'G6PDH2r': -1.0, 'PSERT': -1.0, 'FALDH2': -1.0},\n",
    "     {'PDH': -1.0, 'G6PDH2r': -1.0, 'PSERT': -1.0, 'ALCD1': -1.0},\n",
    "     {'PDH': -1.0, 'G6PDH2r': -1.0, 'PSERT': -1.0, 'SFGTHi': -1.0},\n",
    "     {'PDH': -1.0, 'PGL': -1.0, 'PSP_L': -1.0, 'FALGTHLs': -1.0},\n",
    "     {'PDH': -1.0, 'PGL': -1.0, 'PSP_L': -1.0, 'FALDH2': -1.0},\n",
    "     {'PDH': -1.0, 'PGL': -1.0, 'PSP_L': -1.0, 'ALCD1': -1.0},\n",
    "     {'PDH': -1.0, 'PGL': -1.0, 'PSP_L': -1.0, 'SFGTHi': -1.0},\n",
    "     {'PDH': -1.0, 'PGL': -1.0, 'PGCD': -1.0, 'FALGTHLs': -1.0},\n",
    "     {'PDH': -1.0, 'PGL': -1.0, 'PGCD': -1.0, 'FALDH2': -1.0},\n",
    "     {'PDH': -1.0, 'PGL': -1.0, 'PGCD': -1.0, 'ALCD1': -1.0},\n",
    "     {'PDH': -1.0, 'PGL': -1.0, 'PGCD': -1.0, 'SFGTHi': -1.0},\n",
    "     {'PDH': -1.0, 'PGL': -1.0, 'PSERT': -1.0, 'FALGTHLs': -1.0},\n",
    "     {'PDH': -1.0, 'PGL': -1.0, 'PSERT': -1.0, 'FALDH2': -1.0},\n",
    "     {'PDH': -1.0, 'PGL': -1.0, 'PSERT': -1.0, 'ALCD1': -1.0},\n",
    "     {'PDH': -1.0, 'PGL': -1.0, 'PSERT': -1.0, 'SFGTHi': -1.0}\n",
    "]"
   ]
  },
  {
   "cell_type": "code",
   "execution_count": 142,
   "metadata": {
    "pycharm": {
     "name": "#%%\n"
    }
   },
   "outputs": [
    {
     "data": {
      "text/plain": [
       "{'PDH': -1.0, 'GND': -1.0, 'PSP_L': -1.0}"
      ]
     },
     "execution_count": 142,
     "metadata": {},
     "output_type": "execute_result"
    }
   ],
   "source": [
    "reaction_sd[0]"
   ]
  },
  {
   "cell_type": "code",
   "execution_count": 143,
   "metadata": {
    "pycharm": {
     "name": "#%%\n"
    }
   },
   "outputs": [
    {
     "data": {
      "image/png": "[encoded data removed]",
      "text/plain": [
       "<Figure size 640x480 with 1 Axes>"
      ]
     },
     "metadata": {},
     "output_type": "display_data"
    }
   ],
   "source": [
    "consistent_model.reactions.BIOMASS__1.upper_bound = 10000\n",
    "datapoints, triang, plot1 = sd.plot_flux_space(\n",
    "    consistent_model,\n",
    "    ('BIOMASS__1', 'EX_sucr_e'),\n",
    "    show=False\n",
    ");\n",
    "\n",
    "plot1.set_facecolor('#70AD47')\n",
    "plot1.set_edgecolor('#70AD47')\n",
    "\n",
    "# OptKnock design plot\n",
    "# interventions = [[{s:1.0},'=',0.0] for rxn in reaction_sd for s,v in rxn.items() if v < 1]\n",
    "interventions = [[{s:1.0},'=', 0.0] for s,v in reaction_sd[2].items() if v < 1]\n",
    "_, _,plot3 = sd.plot_flux_space(\n",
    "    consistent_model,\n",
    "    ('BIOMASS__1', 'EX_sucr_e'),\n",
    "    # The sign of the glucose exchange reaction is flipped since\n",
    "    # reaction is defined in the direction of secretion.\n",
    "    constraints=interventions,\n",
    "    show=False\n",
    ");\n",
    "plot3.set_facecolor('red')\n",
    "plot3.set_edgecolor('red')\n",
    "# adjust axes limits and show plot\n",
    "plot3.axes.set_xlim(0, 1.05*max([a[0] for a in datapoints]))\n",
    "plot3.axes.set_ylim(0, 1.05*max([a[1] for a in datapoints]))\n",
    "plt.show()"
   ]
  },
  {
   "cell_type": "code",
   "execution_count": 110,
   "metadata": {
    "pycharm": {
     "name": "#%%\n"
    }
   },
   "outputs": [
    {
     "name": "stdout",
     "output_type": "stream",
     "text": [
      "[[{'PDH': 1.0}, '=', 0.0], [{'GND': 1.0}, '=', 0.0], [{'PSP_L': 1.0}, '=', 0.0], [{'PDH': 1.0}, '=', 0.0], [{'GND': 1.0}, '=', 0.0], [{'PGCD': 1.0}, '=', 0.0], [{'PDH': 1.0}, '=', 0.0], [{'GND': 1.0}, '=', 0.0], [{'PSERT': 1.0}, '=', 0.0], [{'PDH': 1.0}, '=', 0.0], [{'G6PDH2r': 1.0}, '=', 0.0], [{'PSP_L': 1.0}, '=', 0.0], [{'PDH': 1.0}, '=', 0.0], [{'G6PDH2r': 1.0}, '=', 0.0], [{'PGCD': 1.0}, '=', 0.0], [{'PDH': 1.0}, '=', 0.0], [{'G6PDH2r': 1.0}, '=', 0.0], [{'PSERT': 1.0}, '=', 0.0], [{'PDH': 1.0}, '=', 0.0], [{'PGL': 1.0}, '=', 0.0], [{'PSP_L': 1.0}, '=', 0.0], [{'PDH': 1.0}, '=', 0.0], [{'PGL': 1.0}, '=', 0.0], [{'PGCD': 1.0}, '=', 0.0], [{'PDH': 1.0}, '=', 0.0], [{'PGL': 1.0}, '=', 0.0], [{'PSERT': 1.0}, '=', 0.0], [{'GART': 1.0}, '=', 0.0], [{'PDH': 1.0}, '=', 0.0], [{'GND': 1.0}, '=', 0.0], [{'PSP_L': 1.0}, '=', 0.0], [{'GART': 1.0}, '=', 0.0], [{'PDH': 1.0}, '=', 0.0], [{'GND': 1.0}, '=', 0.0], [{'PGCD': 1.0}, '=', 0.0], [{'GART': 1.0}, '=', 0.0], [{'PDH': 1.0}, '=', 0.0], [{'GND': 1.0}, '=', 0.0], [{'PSERT': 1.0}, '=', 0.0], [{'GART': 1.0}, '=', 0.0], [{'PDH': 1.0}, '=', 0.0], [{'G6PDH2r': 1.0}, '=', 0.0], [{'PSP_L': 1.0}, '=', 0.0], [{'GART': 1.0}, '=', 0.0], [{'PDH': 1.0}, '=', 0.0], [{'G6PDH2r': 1.0}, '=', 0.0], [{'PGCD': 1.0}, '=', 0.0], [{'GART': 1.0}, '=', 0.0], [{'PDH': 1.0}, '=', 0.0], [{'G6PDH2r': 1.0}, '=', 0.0], [{'PSERT': 1.0}, '=', 0.0], [{'GART': 1.0}, '=', 0.0], [{'PDH': 1.0}, '=', 0.0], [{'PGL': 1.0}, '=', 0.0], [{'PSP_L': 1.0}, '=', 0.0], [{'GART': 1.0}, '=', 0.0], [{'PDH': 1.0}, '=', 0.0], [{'PGL': 1.0}, '=', 0.0], [{'PGCD': 1.0}, '=', 0.0], [{'GART': 1.0}, '=', 0.0], [{'PDH': 1.0}, '=', 0.0], [{'PGL': 1.0}, '=', 0.0], [{'PSERT': 1.0}, '=', 0.0], [{'PDH': 1.0}, '=', 0.0], [{'GND': 1.0}, '=', 0.0], [{'PSP_L': 1.0}, '=', 0.0], [{'FALGTHLs': 1.0}, '=', 0.0], [{'PDH': 1.0}, '=', 0.0], [{'GND': 1.0}, '=', 0.0], [{'PSP_L': 1.0}, '=', 0.0], [{'FALDH2': 1.0}, '=', 0.0], [{'PDH': 1.0}, '=', 0.0], [{'GND': 1.0}, '=', 0.0], [{'PSP_L': 1.0}, '=', 0.0], [{'ALCD1': 1.0}, '=', 0.0], [{'PDH': 1.0}, '=', 0.0], [{'GND': 1.0}, '=', 0.0], [{'PSP_L': 1.0}, '=', 0.0], [{'SFGTHi': 1.0}, '=', 0.0], [{'PDH': 1.0}, '=', 0.0], [{'GND': 1.0}, '=', 0.0], [{'PGCD': 1.0}, '=', 0.0], [{'FALGTHLs': 1.0}, '=', 0.0], [{'PDH': 1.0}, '=', 0.0], [{'GND': 1.0}, '=', 0.0], [{'PGCD': 1.0}, '=', 0.0], [{'FALDH2': 1.0}, '=', 0.0], [{'PDH': 1.0}, '=', 0.0], [{'GND': 1.0}, '=', 0.0], [{'PGCD': 1.0}, '=', 0.0], [{'ALCD1': 1.0}, '=', 0.0], [{'PDH': 1.0}, '=', 0.0], [{'GND': 1.0}, '=', 0.0], [{'PGCD': 1.0}, '=', 0.0], [{'SFGTHi': 1.0}, '=', 0.0], [{'PDH': 1.0}, '=', 0.0], [{'GND': 1.0}, '=', 0.0], [{'PSERT': 1.0}, '=', 0.0], [{'FALGTHLs': 1.0}, '=', 0.0], [{'PDH': 1.0}, '=', 0.0], [{'GND': 1.0}, '=', 0.0], [{'PSERT': 1.0}, '=', 0.0], [{'FALDH2': 1.0}, '=', 0.0], [{'PDH': 1.0}, '=', 0.0], [{'GND': 1.0}, '=', 0.0], [{'PSERT': 1.0}, '=', 0.0], [{'ALCD1': 1.0}, '=', 0.0], [{'PDH': 1.0}, '=', 0.0], [{'GND': 1.0}, '=', 0.0], [{'PSERT': 1.0}, '=', 0.0], [{'SFGTHi': 1.0}, '=', 0.0], [{'PDH': 1.0}, '=', 0.0], [{'G6PDH2r': 1.0}, '=', 0.0], [{'PSP_L': 1.0}, '=', 0.0], [{'FALGTHLs': 1.0}, '=', 0.0], [{'PDH': 1.0}, '=', 0.0], [{'G6PDH2r': 1.0}, '=', 0.0], [{'PSP_L': 1.0}, '=', 0.0], [{'FALDH2': 1.0}, '=', 0.0], [{'PDH': 1.0}, '=', 0.0], [{'G6PDH2r': 1.0}, '=', 0.0], [{'PSP_L': 1.0}, '=', 0.0], [{'ALCD1': 1.0}, '=', 0.0], [{'PDH': 1.0}, '=', 0.0], [{'G6PDH2r': 1.0}, '=', 0.0], [{'PSP_L': 1.0}, '=', 0.0], [{'SFGTHi': 1.0}, '=', 0.0], [{'PDH': 1.0}, '=', 0.0], [{'G6PDH2r': 1.0}, '=', 0.0], [{'PGCD': 1.0}, '=', 0.0], [{'FALGTHLs': 1.0}, '=', 0.0], [{'PDH': 1.0}, '=', 0.0], [{'G6PDH2r': 1.0}, '=', 0.0], [{'PGCD': 1.0}, '=', 0.0], [{'FALDH2': 1.0}, '=', 0.0], [{'PDH': 1.0}, '=', 0.0], [{'G6PDH2r': 1.0}, '=', 0.0], [{'PGCD': 1.0}, '=', 0.0], [{'ALCD1': 1.0}, '=', 0.0], [{'PDH': 1.0}, '=', 0.0], [{'G6PDH2r': 1.0}, '=', 0.0], [{'PGCD': 1.0}, '=', 0.0], [{'SFGTHi': 1.0}, '=', 0.0], [{'PDH': 1.0}, '=', 0.0], [{'G6PDH2r': 1.0}, '=', 0.0], [{'PSERT': 1.0}, '=', 0.0], [{'FALGTHLs': 1.0}, '=', 0.0], [{'PDH': 1.0}, '=', 0.0], [{'G6PDH2r': 1.0}, '=', 0.0], [{'PSERT': 1.0}, '=', 0.0], [{'FALDH2': 1.0}, '=', 0.0], [{'PDH': 1.0}, '=', 0.0], [{'G6PDH2r': 1.0}, '=', 0.0], [{'PSERT': 1.0}, '=', 0.0], [{'ALCD1': 1.0}, '=', 0.0], [{'PDH': 1.0}, '=', 0.0], [{'G6PDH2r': 1.0}, '=', 0.0], [{'PSERT': 1.0}, '=', 0.0], [{'SFGTHi': 1.0}, '=', 0.0], [{'PDH': 1.0}, '=', 0.0], [{'PGL': 1.0}, '=', 0.0], [{'PSP_L': 1.0}, '=', 0.0], [{'FALGTHLs': 1.0}, '=', 0.0], [{'PDH': 1.0}, '=', 0.0], [{'PGL': 1.0}, '=', 0.0], [{'PSP_L': 1.0}, '=', 0.0], [{'FALDH2': 1.0}, '=', 0.0], [{'PDH': 1.0}, '=', 0.0], [{'PGL': 1.0}, '=', 0.0], [{'PSP_L': 1.0}, '=', 0.0], [{'ALCD1': 1.0}, '=', 0.0], [{'PDH': 1.0}, '=', 0.0], [{'PGL': 1.0}, '=', 0.0], [{'PSP_L': 1.0}, '=', 0.0], [{'SFGTHi': 1.0}, '=', 0.0], [{'PDH': 1.0}, '=', 0.0], [{'PGL': 1.0}, '=', 0.0], [{'PGCD': 1.0}, '=', 0.0], [{'FALGTHLs': 1.0}, '=', 0.0], [{'PDH': 1.0}, '=', 0.0], [{'PGL': 1.0}, '=', 0.0], [{'PGCD': 1.0}, '=', 0.0], [{'FALDH2': 1.0}, '=', 0.0], [{'PDH': 1.0}, '=', 0.0], [{'PGL': 1.0}, '=', 0.0], [{'PGCD': 1.0}, '=', 0.0], [{'ALCD1': 1.0}, '=', 0.0], [{'PDH': 1.0}, '=', 0.0], [{'PGL': 1.0}, '=', 0.0], [{'PGCD': 1.0}, '=', 0.0], [{'SFGTHi': 1.0}, '=', 0.0], [{'PDH': 1.0}, '=', 0.0], [{'PGL': 1.0}, '=', 0.0], [{'PSERT': 1.0}, '=', 0.0], [{'FALGTHLs': 1.0}, '=', 0.0], [{'PDH': 1.0}, '=', 0.0], [{'PGL': 1.0}, '=', 0.0], [{'PSERT': 1.0}, '=', 0.0], [{'FALDH2': 1.0}, '=', 0.0], [{'PDH': 1.0}, '=', 0.0], [{'PGL': 1.0}, '=', 0.0], [{'PSERT': 1.0}, '=', 0.0], [{'ALCD1': 1.0}, '=', 0.0], [{'PDH': 1.0}, '=', 0.0], [{'PGL': 1.0}, '=', 0.0], [{'PSERT': 1.0}, '=', 0.0], [{'SFGTHi': 1.0}, '=', 0.0]]\n"
     ]
    }
   ],
   "source": [
    "print(interventions)\n",
    "#rxns = set()\n",
    "#for i in sols.reaction_sd:\n",
    "#    for j in i:\n",
    "#        rxns.add(j)\n",
    "#print(rxns)"
   ]
  },
  {
   "cell_type": "code",
   "execution_count": null,
   "metadata": {
    "pycharm": {
     "name": "#%%\n"
    }
   },
   "outputs": [],
   "source": [
    "rxn_to_remove = {\n",
    "    'PSERT', 'ALCD1', 'PGL', 'SFGTHi',\n",
    "    'G6PDH2r', 'FALDH2', \n",
    "    'PSP_L', 'GART', 'PGCD', \n",
    "    'GND', 'FALGTHLs', 'PDH'\n",
    "}\n",
    "rxn_to_remove"
   ]
  },
  {
   "cell_type": "code",
   "execution_count": 111,
   "metadata": {
    "pycharm": {
     "name": "#%%\n"
    }
   },
   "outputs": [
    {
     "name": "stdout",
     "output_type": "stream",
     "text": [
      "SFGTHi {'SYNPCC7942_RS02335'}\n",
      "GART {'SYNPCC7942_RS03015'}\n",
      "G6PDH2r {'SYNPCC7942_RS11865'}\n",
      "ALCD1 {'SYNPCC7942_RS08430', 'SYNPCC7942_RS11615'}\n",
      "PGCD {'SYNPCC7942_RS07670'}\n",
      "GND {'SYNPCC7942_RS00195'}\n",
      "FALGTHLs set()\n",
      "PDH {'SYNPCC7942_RS00725', 'SYNPCC7942_RS05480', 'SYNPCC7942_RS06135', 'SYNPCC7942_RS09865'}\n",
      "PGL {'SYNPCC7942_RS02690'}\n",
      "PSP_L {'SYNPCC7942_RS02470'}\n",
      "FALDH2 {'SYNPCC7942_RS02340'}\n",
      "PSERT {'SYNPCC7942_RS00970'}\n"
     ]
    }
   ],
   "source": [
    "for i in rxn_to_remove:\n",
    "    rxn = model.reactions.get_by_id(i)\n",
    "    print(i, {gene.id for gene in rxn.genes})\n"
   ]
  },
  {
   "cell_type": "code",
   "execution_count": null,
   "metadata": {
    "pycharm": {
     "name": "#%%\n"
    }
   },
   "outputs": [],
   "source": [
    "ex=ex+['BIOMASS__1']"
   ]
  },
  {
   "cell_type": "code",
   "execution_count": 100,
   "metadata": {
    "pycharm": {
     "name": "#%%\n"
    }
   },
   "outputs": [],
   "source": [
    "gene = model.genes.get_by_id('SYNPCC7942_RS03015')"
   ]
  },
  {
   "cell_type": "code",
   "execution_count": 104,
   "metadata": {
    "pycharm": {
     "name": "#%%\n"
    }
   },
   "outputs": [
    {
     "data": {
      "text/html": [
       "\n",
       "        <table>\n",
       "            <tr>\n",
       "                <td><strong>Reaction identifier</strong></td><td>GART</td>\n",
       "            </tr><tr>\n",
       "                <td><strong>Name</strong></td><td>GAR transformylase-T</td>\n",
       "            </tr><tr>\n",
       "                <td><strong>Memory address</strong></td>\n",
       "                <td>0x0234527f9ed0</td>\n",
       "            </tr><tr>\n",
       "                <td><strong>Stoichiometry</strong></td>\n",
       "                <td>\n",
       "                    <p style='text-align:right'>atp_c + for_c + gar_c --> adp_c + fgam_c + h_c + pi_c</p>\n",
       "                    <p style='text-align:right'>ATP C10H12N5O13P3 + Formate + N1-(5-Phospho-D-ribosyl)glycinamide --> ADP C10H12N5O10P2 + N2-Formyl-N1-(5-phospho-D-ribosyl)glycinamide + H+ + Phosphate</p>\n",
       "                </td>\n",
       "            </tr><tr>\n",
       "                <td><strong>GPR</strong></td><td>SYNPCC7942_RS03015</td>\n",
       "            </tr><tr>\n",
       "                <td><strong>Lower bound</strong></td><td>0.0</td>\n",
       "            </tr><tr>\n",
       "                <td><strong>Upper bound</strong></td><td>1000.0</td>\n",
       "            </tr>\n",
       "        </table>\n",
       "        "
      ],
      "text/plain": [
       "<Reaction GART at 0x234527f9ed0>"
      ]
     },
     "execution_count": 104,
     "metadata": {},
     "output_type": "execute_result"
    }
   ],
   "source": [
    "model.reactions.get_by_id('GART')"
   ]
  },
  {
   "cell_type": "code",
   "execution_count": 113,
   "metadata": {
    "pycharm": {
     "name": "#%%\n"
    }
   },
   "outputs": [
    {
     "name": "stdout",
     "output_type": "stream",
     "text": [
      "522.3691291212901\n",
      "480.5486028819524\n",
      "<Solution 26559.255 at 0x23457146260>\n"
     ]
    }
   ],
   "source": [
    "with model as model:\n",
    "    model.objective = {model.reactions.get_by_id('EX_sucr_e'): 1, model.reactions.get_by_id('BIOMASS__1'):1}\n",
    "    print(model.slim_optimize())\n",
    "    for i in rxn_to_remove:\n",
    "        model.remove_reactions([model.reactions.get_by_id(i)])\n",
    "    model.genes.get_by_id('SYNPCC7942_RS03015').knock_out()    \n",
    "    model.objective = {model.reactions.get_by_id('EX_sucr_e'): 1, model.reactions.get_by_id('BIOMASS__1'):1}\n",
    "    print(model.slim_optimize())\n",
    "    pfba_solution = cobra.flux_analysis.pfba(model)\n",
    "    print(pfba_solution)\n",
    "    fluxes = pfba_solution.fluxes\n",
    "    prices = pfba_solution.shadow_prices"
   ]
  },
  {
   "cell_type": "code",
   "execution_count": null,
   "metadata": {
    "pycharm": {
     "name": "#%%\n"
    }
   },
   "outputs": [],
   "source": []
  },
  {
   "cell_type": "code",
   "execution_count": 43,
   "metadata": {
    "pycharm": {
     "name": "#%%\n"
    }
   },
   "outputs": [],
   "source": [
    "cobra.io.save_json_model( model, 'name_for_now.json',)"
   ]
  },
  {
   "cell_type": "code",
   "execution_count": 34,
   "metadata": {
    "pycharm": {
     "name": "#%%\n"
    }
   },
   "outputs": [],
   "source": [
    "import escher\n",
    "from escher import Builder"
   ]
  },
  {
   "cell_type": "code",
   "execution_count": 35,
   "metadata": {
    "pycharm": {
     "name": "#%%\n"
    }
   },
   "outputs": [],
   "source": [
    "builder = Builder()"
   ]
  },
  {
   "cell_type": "code",
   "execution_count": 40,
   "metadata": {
    "pycharm": {
     "name": "#%%\n"
    }
   },
   "outputs": [],
   "source": [
    "builder.model = model"
   ]
  },
  {
   "cell_type": "code",
   "execution_count": 44,
   "metadata": {
    "pycharm": {
     "name": "#%%\n"
    }
   },
   "outputs": [],
   "source": [
    "builder.metabolite_data = pfba_solution.shadow_prices\n",
    "builder.reaction_data = pfba_solution.fluxes"
   ]
  },
  {
   "cell_type": "code",
   "execution_count": 42,
   "metadata": {
    "pycharm": {
     "name": "#%%\n"
    },
    "scrolled": false
   },
   "outputs": [
    {
     "data": {
      "application/vnd.jupyter.widget-view+json": {
       "model_id": "ec43269ff6914f1f8fbb812de4512787",
       "version_major": 2,
       "version_minor": 0
      },
      "text/plain": [
       "Builder(allow_building_duplicate_reactions=False, and_method_in_gene_reaction_rule='mean', cofactors=['atp', '…"
      ]
     },
     "metadata": {},
     "output_type": "display_data"
    }
   ],
   "source": [
    "builder"
   ]
  },
  {
   "cell_type": "code",
   "execution_count": 58,
   "metadata": {
    "pycharm": {
     "name": "#%%\n"
    }
   },
   "outputs": [],
   "source": [
    "with model:\n",
    "    model.objective = {model.reactions.get_by_id('EX_sucr_e'): 1, model.reactions.get_by_id('BIOMASS__1'):5}\n",
    "    pfba_solution = cobra.flux_analysis.pfba(model)\n",
    "builder.metabolite_data = pfba_solution.shadow_prices\n",
    "builder.reaction_data = pfba_solution.fluxes"
   ]
  },
  {
   "cell_type": "code",
   "execution_count": 47,
   "metadata": {
    "pycharm": {
     "name": "#%%\n"
    },
    "scrolled": true
   },
   "outputs": [],
   "source": [
    "flux = pfba_solution.fluxes.to_dict()"
   ]
  },
  {
   "cell_type": "markdown",
   "metadata": {
    "pycharm": {
     "name": "#%%\n"
    }
   },
   "source": [
    "## Auto escher map\n",
    "\n",
    "This code is based on https://github.com/johncthomas/Auto-Escher-map-for-CobraPy.\n",
    "It doesn't quite do the visualization as wanted, but I'll keep it here until I get a defined escher map working right."
   ]
  },
  {
   "cell_type": "code",
   "execution_count": 45,
   "metadata": {
    "pycharm": {
     "name": "#%%\n"
    }
   },
   "outputs": [],
   "source": [
    "import generate_emap"
   ]
  },
  {
   "cell_type": "code",
   "execution_count": 56,
   "metadata": {
    "pycharm": {
     "name": "#%%\n"
    }
   },
   "outputs": [
    {
     "name": "stdout",
     "output_type": "stream",
     "text": [
      "Of 98 reactions 75 have a link\n",
      "The following are only connected to other reactions by common intermediates\n",
      "Modeling: demand reaction (succ c) [DM_succ_c]::  succ_c --> \n",
      "Nitrate exchange [EX_no3_e]::  no3_e <=> \n",
      "Nucleoside-diphosphate kinase (ATP:GDP) [NDPK1]::  atp_c + gdp_c <=> adp_c + gtp_c\n",
      "Adenylate kinase [ADK1]::  amp_c + atp_c <=> 2.0 adp_c\n",
      "Polyphosphate kinase [PPK]::  atp_c + pi_c <=> adp_c + ppi_c\n",
      "Modeling: exchange reaction, photon absorption (680-700nm)  [EX_photon690_e]::  photon690_e <=> \n",
      "Modeling: exchange reaction, photon absorption (660nm-680nm)  [EX_photon670_e]::  photon670_e <=> \n",
      "H2O transport via diffusion (tilacoid) [H2Otu_syn]::  h2o_u <=> h2o_c\n",
      "Modeling: exchange reaction, photon absorption (500nm-520nm) [EX_photon510_e]::  photon510_e <=> \n",
      "Acetate kinase [ACKr]::  ac_c + atp_c <=> actp_c + adp_c\n",
      "Sucrose transport in via proton symport [SUCRt2]::  h_e + sucr_e <=> h_c + sucr_c\n",
      "Sedoheptulose-bisphosphatase [SBP]::  h2o_c + s17bp_c --> pi_c + s7p_c\n",
      "Unconnected count =  12\n"
     ]
    }
   ],
   "source": [
    "excluded_reactions = set(ex)\n",
    "\n",
    "common_mets = set()\n",
    "rxn_with_flux = set()\n",
    "rxn_with_greater_flux = set()\n",
    "\n",
    "threshold_flux = 1.1\n",
    "\n",
    "# Get a list of reactions with flux and those where flux exceeds the threshold\n",
    "# The rxn_with_flux will be used to determine what's a common metabolite\n",
    "# rxn_with_greater flux used to draw the map\n",
    "for rxn_name in flux:\n",
    "    if flux[rxn_name] != 0 and rxn_name not in excluded_reactions:\n",
    "        rxn = model.reactions.get_by_id(rxn_name)\n",
    "        rxn_with_flux.add(rxn)\n",
    "        if 0-threshold_flux > flux[rxn_name] or threshold_flux < flux[rxn_name]:\n",
    "            rxn_with_greater_flux.add(rxn)\n",
    "\n",
    "# Get a dictionary of metabolite frequency\n",
    "# (keys are the Cobra metabolite objects)\n",
    "met_count = generate_emap.metabolite_occurence(rxn_with_flux)\n",
    "\n",
    "# Get common metabolites.\n",
    "# included_common_m will be used be treated as uncommon whatever their occurence\n",
    "included_common_m = ('accoa_c', 'pry_c', 'g3p_c', 'acald_c', 'f6p_c', 'pep_c')\n",
    "for met in met_count:\n",
    "    if met_count[met] > 25 and met.id not in included_common_m:\n",
    "        common_mets.add(met)\n",
    "\n",
    "# Convert the sets to lists so that they can be iterated over\n",
    "common_mets, rxn_with_flux, rxn_with_greater_flux = \\\n",
    "    list(common_mets), list(rxn_with_flux), list(rxn_with_greater_flux)\n",
    "\n",
    "\n",
    "# Get the Escher JSON\n",
    "escher_map = generate_emap.gen_map(\n",
    "     consistent_model, rxn_with_greater_flux,  common_mets, 400, met_count\n",
    ")\n",
    "escher_json = escher_map.dump_json()\n",
    "# Currently Escher doesn't accept json strings, needs a file, i assume that's a bug\n",
    "with open('escher.json', 'w') as f:\n",
    "    f.write(escher_json)"
   ]
  },
  {
   "cell_type": "code",
   "execution_count": 53,
   "metadata": {
    "pycharm": {
     "name": "#%%\n"
    }
   },
   "outputs": [],
   "source": [
    "builder.hide_secondary_metabolites = True"
   ]
  },
  {
   "cell_type": "code",
   "execution_count": 54,
   "metadata": {
    "pycharm": {
     "name": "#%%\n"
    }
   },
   "outputs": [
    {
     "data": {
      "text/plain": [
       "{'ALCD1',\n",
       " 'FALDH2',\n",
       " 'FALGTHLs',\n",
       " 'G6PDH2r',\n",
       " 'GART',\n",
       " 'GND',\n",
       " 'PDH',\n",
       " 'PGCD',\n",
       " 'PGL',\n",
       " 'PSERT',\n",
       " 'PSP_L',\n",
       " 'SFGTHi'}"
      ]
     },
     "execution_count": 54,
     "metadata": {},
     "output_type": "execute_result"
    }
   ],
   "source": [
    "rxn_to_remove"
   ]
  },
  {
   "cell_type": "code",
   "execution_count": 51,
   "metadata": {
    "pycharm": {
     "name": "#%%\n"
    }
   },
   "outputs": [
    {
     "data": {
      "application/vnd.jupyter.widget-view+json": {
       "model_id": "ec43269ff6914f1f8fbb812de4512787",
       "version_major": 2,
       "version_minor": 0
      },
      "text/plain": [
       "Builder(allow_building_duplicate_reactions=False, and_method_in_gene_reaction_rule='mean', cofactors=['atp', '…"
      ]
     },
     "metadata": {},
     "output_type": "display_data"
    }
   ],
   "source": [
    "builder"
   ]
  },
  {
   "cell_type": "code",
   "execution_count": null,
   "metadata": {},
   "outputs": [],
   "source": []
  }
 ],
 "metadata": {
  "kernelspec": {
   "display_name": "Python 3 (ipykernel)",
   "language": "python",
   "name": "python3"
  },
  "language_info": {
   "codemirror_mode": {
    "name": "ipython",
    "version": 3
   },
   "file_extension": ".py",
   "mimetype": "text/x-python",
   "name": "python",
   "nbconvert_exporter": "python",
   "pygments_lexer": "ipython3",
   "version": "3.10.6"
  }
 },
 "nbformat": 4,
 "nbformat_minor": 1
}
