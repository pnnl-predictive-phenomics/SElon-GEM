{
 "cells": [
  {
   "cell_type": "code",
   "execution_count": 1,
   "metadata": {
    "pycharm": {
     "name": "#%%\n"
    }
   },
   "outputs": [],
   "source": [
    "import matplotlib.pyplot as plt\n",
    "import os\n",
    "os.environ['JAVA_HOME'] = r'C:\\Program Files\\Java\\jdk-21'\n",
    "from straindesign import compress_model, remove_dummy_bounds\n",
    "import cobra\n",
    "import logging\n",
    "logging.basicConfig(level=logging.INFO)\n",
    "import cobra\n",
    "import numpy as np\n"
   ]
  },
  {
   "cell_type": "code",
   "execution_count": 2,
   "metadata": {
    "pycharm": {
     "name": "#%%\n"
    }
   },
   "outputs": [],
   "source": [
    "import straindesign as sd\n",
    "import straindesign.names as names"
   ]
  },
  {
   "cell_type": "code",
   "execution_count": 3,
   "metadata": {
    "pycharm": {
     "name": "#%%\n"
    }
   },
   "outputs": [
    {
     "name": "stdout",
     "output_type": "stream",
     "text": [
      "Set parameter Username\n"
     ]
    },
    {
     "name": "stderr",
     "output_type": "stream",
     "text": [
      "INFO:gurobipy.gurobipy:Set parameter Username\n"
     ]
    },
    {
     "name": "stdout",
     "output_type": "stream",
     "text": [
      "Set parameter GURO_PAR_SPECIAL\n"
     ]
    },
    {
     "name": "stderr",
     "output_type": "stream",
     "text": [
      "INFO:gurobipy.gurobipy:Set parameter GURO_PAR_SPECIAL\n"
     ]
    },
    {
     "name": "stdout",
     "output_type": "stream",
     "text": [
      "Set parameter TokenServer to value \"leghorn\"\n"
     ]
    },
    {
     "name": "stderr",
     "output_type": "stream",
     "text": [
      "INFO:gurobipy.gurobipy:Set parameter TokenServer to value \"leghorn\"\n"
     ]
    }
   ],
   "source": [
    "from syn_elong import model\n",
    "from syn_elong.media import m9_media, syn_min_media"
   ]
  },
  {
   "cell_type": "code",
   "execution_count": 4,
   "metadata": {
    "pycharm": {
     "name": "#%%\n"
    }
   },
   "outputs": [
    {
     "name": "stderr",
     "output_type": "stream",
     "text": [
      "INFO:cobra.medium.boundary_types:Compartment `e` sounds like an external compartment. Using this one without counting boundary reactions.\n"
     ]
    },
    {
     "data": {
      "text/plain": [
       "{'EX_hco3_e': 1.99,\n",
       " 'EX_mn2_e': 0.0009,\n",
       " 'EX_mg2_e': 0.03,\n",
       " 'EX_ca2_e': 0.024,\n",
       " 'EX_nh4_e': 0.0031,\n",
       " 'EX_cu2_e': 3e-05,\n",
       " 'EX_k_e': 0.046,\n",
       " 'EX_h2o_e': 100.0,\n",
       " 'EX_o2_e': 100.0,\n",
       " 'EX_co2_e': 1.99,\n",
       " 'EX_leu__L_e': 1000.0,\n",
       " 'EX_cobalt2_e': 1.7e-05,\n",
       " 'EX_no3_e': 1.76,\n",
       " 'EX_zn2_e': 7.7e-05,\n",
       " 'EX_fe3_e': 0.001,\n",
       " 'EX_so4_e': 0.03,\n",
       " 'EX_mobd_e': 0.00016,\n",
       " 'EX_na1_e': 1.79854,\n",
       " 'EX_h_e': 100.0,\n",
       " 'EX_photon410_e': 1000.0,\n",
       " 'EX_photon430_e': 1000.0,\n",
       " 'EX_photon450_e': 1000.0,\n",
       " 'EX_photon470_e': 1000.0,\n",
       " 'EX_photon490_e': 1000.0,\n",
       " 'EX_photon510_e': 1000.0,\n",
       " 'EX_photon530_e': 1000.0,\n",
       " 'EX_photon550_e': 1000.0,\n",
       " 'EX_photon570_e': 1000.0,\n",
       " 'EX_photon590_e': 1000.0,\n",
       " 'EX_photon610_e': 1000.0,\n",
       " 'EX_photon630_e': 1000.0,\n",
       " 'EX_photon650_e': 1000.0,\n",
       " 'EX_photon670_e': 1000.0,\n",
       " 'EX_photon690_e': 1000.0,\n",
       " 'EX_pi_e': 0.023,\n",
       " 'EX_tre_e': 1000.0,\n",
       " 'EX_man_e': 1000.0,\n",
       " 'EX_galt_e': 1000.0,\n",
       " 'EX_arab__L_e': 1000.0,\n",
       " 'EX_acgam_e': 1000.0,\n",
       " 'EX_glcr_e': 1000.0,\n",
       " 'EX_succ_e': 1000.0,\n",
       " 'EX_gal_e': 1000.0,\n",
       " 'EX_asp__L_e': 1000.0,\n",
       " 'EX_pro__L_e': 1000.0,\n",
       " 'EX_ala__D_e': 1000.0,\n",
       " 'EX_ser__D_e': 1000.0,\n",
       " 'EX_for_e': 1000.0,\n",
       " 'EX_mnl_e': 1000.0,\n",
       " 'EX_glu__L_e': 1000.0,\n",
       " 'EX_sbt__D_e': 1000.0,\n",
       " 'EX_glyc_e': 1000.0,\n",
       " 'EX_fuc__L_e': 1000.0,\n",
       " 'EX_glcur_e': 1000.0,\n",
       " 'EX_glcn_e': 1000.0,\n",
       " 'EX_glyc3p_e': 1000.0,\n",
       " 'EX_xyl__D_e': 1000.0,\n",
       " 'EX_lac__L_e': 1000.0,\n",
       " 'EX_g6p_e': 1000.0,\n",
       " 'EX_malt_e': 1000.0,\n",
       " 'EX_melib_e': 1000.0,\n",
       " 'EX_thymd_e': 1000.0,\n",
       " 'EX_galctn__D_e': 1000.0,\n",
       " 'EX_rib__D_e': 1000.0,\n",
       " 'EX_rmn_e': 1000.0,\n",
       " 'EX_fru_e': 1000.0,\n",
       " 'EX_ac_e': 1000.0,\n",
       " 'EX_glc__D_e': 1000.0,\n",
       " 'EX_asn__L_e': 1000.0,\n",
       " 'EX_uri_e': 1000.0,\n",
       " 'EX_12ppd__S_e': 1000.0,\n",
       " 'EX_akg_e': 1000.0,\n",
       " 'EX_lcts_e': 1000.0,\n",
       " 'EX_malttr_e': 1000.0,\n",
       " 'EX_dad_2_e': 1000.0,\n",
       " 'EX_adn_e': 1000.0,\n",
       " 'EX_g1p_e': 1000.0,\n",
       " 'EX_f6p_e': 1000.0,\n",
       " 'EX_ins_e': 1000.0,\n",
       " 'EX_cit_e': 1000.0,\n",
       " 'EX_inost_e': 1000.0,\n",
       " 'EX_fum_e': 1000.0,\n",
       " 'EX_ppa_e': 1000.0,\n",
       " 'EX_galct__D_e': 1000.0,\n",
       " 'EX_glyclt_e': 1000.0,\n",
       " 'EX_mal__D_e': 1000.0,\n",
       " 'EX_mal__L_e': 1000.0,\n",
       " 'EX_ser__L_e': 1000.0,\n",
       " 'EX_thr__L_e': 1000.0,\n",
       " 'EX_ala__L_e': 1000.0,\n",
       " 'EX_acac_e': 1000.0,\n",
       " 'EX_acmana_e': 1000.0,\n",
       " 'EX_galur_e': 1000.0,\n",
       " 'EX_peamn_e': 1000.0,\n",
       " 'EX_etha_e': 1000.0,\n",
       " 'EX_tym_e': 1000.0,\n",
       " 'EX_lyx__L_e': 1000.0,\n",
       " 'EX_pyr_e': 1000.0,\n",
       " 'EX_galctn__L_e': 1000.0,\n",
       " 'EX_acnam_e': 1000.0,\n",
       " 'EX_all__D_e': 1000.0,\n",
       " 'EX_4abut_e': 1000.0,\n",
       " 'EX_but_e': 1000.0,\n",
       " 'EX_dca_e': 1000.0,\n",
       " 'EX_5dglcn_e': 1000.0,\n",
       " 'EX_hxa_e': 1000.0,\n",
       " 'EX_tartr__L_e': 1000.0,\n",
       " 'EX_lys__L_e': 1000.0,\n",
       " 'EX_met__L_e': 1000.0,\n",
       " 'EX_gly_e': 1000.0,\n",
       " 'EX_his__L_e': 1000.0,\n",
       " 'EX_hom__L_e': 1000.0,\n",
       " 'EX_ile__L_e': 1000.0,\n",
       " 'EX_orn_e': 1000.0,\n",
       " 'EX_phe__L_e': 1000.0,\n",
       " 'EX_val__L_e': 1000.0,\n",
       " 'EX_dha_e': 1000.0,\n",
       " 'EX_cys__L_e': 1000.0,\n",
       " 'EX_no2_e': 1000.0,\n",
       " 'EX_urea_e': 1000.0,\n",
       " 'EX_trp__L_e': 1000.0,\n",
       " 'EX_tyr__L_e': 1000.0,\n",
       " 'EX_agm_e': 1000.0,\n",
       " 'EX_acgal_e': 1000.0,\n",
       " 'EX_gam_e': 1000.0,\n",
       " 'EX_ura_e': 1000.0,\n",
       " 'EX_ade_e': 1000.0,\n",
       " 'EX_cytd_e': 1000.0,\n",
       " 'EX_csn_e': 1000.0,\n",
       " 'EX_gua_e': 1000.0,\n",
       " 'EX_gsn_e': 1000.0,\n",
       " 'EX_thym_e': 1000.0,\n",
       " 'EX_xan_e': 1000.0,\n",
       " 'EX_xtsn_e': 1000.0,\n",
       " 'EX_alltn_e': 1000.0,\n",
       " 'EX_23camp_e': 1000.0,\n",
       " 'EX_3amp_e': 1000.0,\n",
       " 'EX_gmp_e': 1000.0,\n",
       " 'EX_23cgmp_e': 1000.0,\n",
       " 'EX_3gmp_e': 1000.0,\n",
       " 'EX_cmp_e': 1000.0,\n",
       " 'EX_23ccmp_e': 1000.0,\n",
       " 'EX_gam6p_e': 1000.0,\n",
       " 'EX_3cmp_e': 1000.0,\n",
       " 'EX_ump_e': 1000.0,\n",
       " 'EX_23cump_e': 1000.0,\n",
       " 'EX_man6p_e': 1000.0,\n",
       " 'EX_pser__L_e': 1000.0,\n",
       " 'EX_thrp_e': 1000.0,\n",
       " 'EX_3ump_e': 1000.0,\n",
       " 'EX_tyrp_e': 1000.0,\n",
       " 'EX_minohp_e': 1000.0}"
      ]
     },
     "execution_count": 4,
     "metadata": {},
     "output_type": "execute_result"
    }
   ],
   "source": [
    "model.medium"
   ]
  },
  {
   "cell_type": "code",
   "execution_count": 5,
   "metadata": {
    "pycharm": {
     "name": "#%%\n"
    }
   },
   "outputs": [
    {
     "data": {
      "text/plain": [
       "{'EX_h2o_e': 100.0,\n",
       " 'EX_h_e': 100.0,\n",
       " 'EX_no3_e': 100.0,\n",
       " 'EX_pi_e': 100.0,\n",
       " 'EX_so4_e': 100.0,\n",
       " 'EX_nh4_e': 100.0,\n",
       " 'EX_mg2_e': 100.0,\n",
       " 'EX_fe3_e': 100.0,\n",
       " 'EX_cobalt2_e': 100.0,\n",
       " 'EX_k_e': 100.0,\n",
       " 'EX_na1_e': 100.0,\n",
       " 'EX_hco3_e': 100.0,\n",
       " 'EX_co2_e': 100.0,\n",
       " 'EX_photon430_e': 1000.0,\n",
       " 'EX_photon450_e': 1000.0,\n",
       " 'EX_photon470_e': 1000.0,\n",
       " 'EX_photon410_e': 1000.0,\n",
       " 'EX_photon490_e': 1000.0,\n",
       " 'EX_photon510_e': 1000.0,\n",
       " 'EX_photon530_e': 1000.0,\n",
       " 'EX_photon550_e': 1000.0,\n",
       " 'EX_photon570_e': 1000.0,\n",
       " 'EX_photon590_e': 1000.0,\n",
       " 'EX_photon610_e': 1000.0,\n",
       " 'EX_photon630_e': 1000.0,\n",
       " 'EX_photon650_e': 1000.0,\n",
       " 'EX_photon670_e': 1000.0,\n",
       " 'EX_photon690_e': 1000.0}"
      ]
     },
     "execution_count": 5,
     "metadata": {},
     "output_type": "execute_result"
    }
   ],
   "source": [
    "m9_media"
   ]
  },
  {
   "cell_type": "code",
   "execution_count": 6,
   "metadata": {
    "pycharm": {
     "name": "#%%\n"
    }
   },
   "outputs": [
    {
     "data": {
      "text/plain": [
       "{'EX_hco3_e': 1.455174283140397,\n",
       " 'EX_mg2_e': 0.0006043083928022,\n",
       " 'EX_nh4_e': 0.0031,\n",
       " 'EX_co2_e': 0.7190666730577998,\n",
       " 'EX_leu__L_e': 0.0283647410545166,\n",
       " 'EX_cobalt2_e': 2.758158572551524e-07,\n",
       " 'EX_no3_e': 0.4029488349165458,\n",
       " 'EX_fe3_e': 8.634960628764796e-05,\n",
       " 'EX_so4_e': 0.0083942782543118,\n",
       " 'EX_h_e': 1.8823881901014008,\n",
       " 'EX_photon650_e': 0.0006043083928022,\n",
       " 'EX_photon670_e': 11.697656196156876,\n",
       " 'EX_photon690_e': 18.200781855573425,\n",
       " 'EX_pi_e': 0.0230000000000021}"
      ]
     },
     "execution_count": 6,
     "metadata": {},
     "output_type": "execute_result"
    }
   ],
   "source": [
    "syn_min_media"
   ]
  },
  {
   "cell_type": "code",
   "execution_count": 7,
   "metadata": {
    "pycharm": {
     "name": "#%%\n"
    }
   },
   "outputs": [
    {
     "name": "stdout",
     "output_type": "stream",
     "text": [
      "0.053901867745774316\n"
     ]
    }
   ],
   "source": [
    "with model:\n",
    "    print(model.slim_optimize())"
   ]
  },
  {
   "cell_type": "code",
   "execution_count": 8,
   "metadata": {
    "pycharm": {
     "name": "#%%\n"
    }
   },
   "outputs": [
    {
     "name": "stderr",
     "output_type": "stream",
     "text": [
      "INFO:cobra.medium.boundary_types:Compartment `e` sounds like an external compartment. Using this one without counting boundary reactions.\n"
     ]
    },
    {
     "name": "stdout",
     "output_type": "stream",
     "text": [
      "0.04942837294924107\n"
     ]
    }
   ],
   "source": [
    "with model:\n",
    "    model.medium = syn_min_media\n",
    "    print(model.slim_optimize())"
   ]
  },
  {
   "cell_type": "code",
   "execution_count": 9,
   "metadata": {
    "pycharm": {
     "name": "#%%\n"
    }
   },
   "outputs": [
    {
     "name": "stderr",
     "output_type": "stream",
     "text": [
      "INFO:cobra.medium.boundary_types:Compartment `e` sounds like an external compartment. Using this one without counting boundary reactions.\n"
     ]
    },
    {
     "name": "stdout",
     "output_type": "stream",
     "text": [
      "2.0\n"
     ]
    }
   ],
   "source": [
    "with model:\n",
    "    model.medium = m9_media\n",
    "    print(model.slim_optimize())"
   ]
  },
  {
   "cell_type": "code",
   "execution_count": 10,
   "metadata": {
    "pycharm": {
     "name": "#%%\n"
    }
   },
   "outputs": [
    {
     "name": "stderr",
     "output_type": "stream",
     "text": [
      "INFO:cobra.medium.boundary_types:Compartment `e` sounds like an external compartment. Using this one without counting boundary reactions.\n"
     ]
    },
    {
     "name": "stdout",
     "output_type": "stream",
     "text": [
      "Maximum possible BIOMASS__1 synthesis rate: 2.0.\n",
      "Maximum possible EX_sucr_e synthesis rate: 16.389121923937367.\n"
     ]
    }
   ],
   "source": [
    "with model:\n",
    "    model.medium = m9_media\n",
    "    sol = sd.fba(model, obj='BIOMASS__1', obj_sense='max')\n",
    "    print(f\"Maximum possible BIOMASS__1 synthesis rate: {sol.objective_value}.\")\n",
    "    sol = sd.fba(model, obj='EX_sucr_e', obj_sense='max')\n",
    "    print(f\"Maximum possible EX_sucr_e synthesis rate: {sol.objective_value}.\")"
   ]
  },
  {
   "cell_type": "code",
   "execution_count": 11,
   "metadata": {
    "pycharm": {
     "name": "#%%\n"
    }
   },
   "outputs": [
    {
     "name": "stderr",
     "output_type": "stream",
     "text": [
      "INFO:cobra.medium.boundary_types:Compartment `e` sounds like an external compartment. Using this one without counting boundary reactions.\n"
     ]
    }
   ],
   "source": [
    "model.medium = m9_media"
   ]
  },
  {
   "cell_type": "code",
   "execution_count": 12,
   "metadata": {
    "pycharm": {
     "name": "#%%\n"
    }
   },
   "outputs": [
    {
     "data": {
      "text/plain": [
       "968"
      ]
     },
     "execution_count": 12,
     "metadata": {},
     "output_type": "execute_result"
    }
   ],
   "source": [
    "len(model.reactions)"
   ]
  },
  {
   "cell_type": "code",
   "execution_count": 13,
   "metadata": {
    "pycharm": {
     "name": "#%%\n"
    }
   },
   "outputs": [
    {
     "name": "stderr",
     "output_type": "stream",
     "text": [
      "INFO:cobra.summary.model_summary:Generating new parsimonious flux distribution.\n"
     ]
    },
    {
     "data": {
      "text/html": [
       "<h3>Objective</h3><p>1.0 BIOMASS__1 = 2.0</p><h4>Uptake</h4><table border=\"1\" class=\"dataframe\">\n",
       "  <thead>\n",
       "    <tr style=\"text-align: right;\">\n",
       "      <th>Metabolite</th>\n",
       "      <th>Reaction</th>\n",
       "      <th>Flux</th>\n",
       "      <th>C-Number</th>\n",
       "      <th>C-Flux</th>\n",
       "    </tr>\n",
       "  </thead>\n",
       "  <tbody>\n",
       "    <tr>\n",
       "      <td>co2_e</td>\n",
       "      <td>EX_co2_e</td>\n",
       "      <td>42.7</td>\n",
       "      <td>1</td>\n",
       "      <td>49.01%</td>\n",
       "    </tr>\n",
       "    <tr>\n",
       "      <td>cobalt2_e</td>\n",
       "      <td>EX_cobalt2_e</td>\n",
       "      <td>1.023E-05</td>\n",
       "      <td>0</td>\n",
       "      <td>0.00%</td>\n",
       "    </tr>\n",
       "    <tr>\n",
       "      <td>fe3_e</td>\n",
       "      <td>EX_fe3_e</td>\n",
       "      <td>0.003204</td>\n",
       "      <td>0</td>\n",
       "      <td>0.00%</td>\n",
       "    </tr>\n",
       "    <tr>\n",
       "      <td>h_e</td>\n",
       "      <td>EX_h_e</td>\n",
       "      <td>29.33</td>\n",
       "      <td>0</td>\n",
       "      <td>0.00%</td>\n",
       "    </tr>\n",
       "    <tr>\n",
       "      <td>hco3_e</td>\n",
       "      <td>EX_hco3_e</td>\n",
       "      <td>44.42</td>\n",
       "      <td>1</td>\n",
       "      <td>50.99%</td>\n",
       "    </tr>\n",
       "    <tr>\n",
       "      <td>k_e</td>\n",
       "      <td>EX_k_e</td>\n",
       "      <td>3.094E-06</td>\n",
       "      <td>0</td>\n",
       "      <td>0.00%</td>\n",
       "    </tr>\n",
       "    <tr>\n",
       "      <td>mg2_e</td>\n",
       "      <td>EX_mg2_e</td>\n",
       "      <td>0.02242</td>\n",
       "      <td>0</td>\n",
       "      <td>0.00%</td>\n",
       "    </tr>\n",
       "    <tr>\n",
       "      <td>na1_e</td>\n",
       "      <td>EX_na1_e</td>\n",
       "      <td>2.38E-07</td>\n",
       "      <td>0</td>\n",
       "      <td>0.00%</td>\n",
       "    </tr>\n",
       "    <tr>\n",
       "      <td>nh4_e</td>\n",
       "      <td>EX_nh4_e</td>\n",
       "      <td>16.12</td>\n",
       "      <td>0</td>\n",
       "      <td>0.00%</td>\n",
       "    </tr>\n",
       "    <tr>\n",
       "      <td>photon650_e</td>\n",
       "      <td>EX_photon650_e</td>\n",
       "      <td>0.02242</td>\n",
       "      <td>0</td>\n",
       "      <td>0.00%</td>\n",
       "    </tr>\n",
       "    <tr>\n",
       "      <td>photon670_e</td>\n",
       "      <td>EX_photon670_e</td>\n",
       "      <td>346.2</td>\n",
       "      <td>0</td>\n",
       "      <td>0.00%</td>\n",
       "    </tr>\n",
       "    <tr>\n",
       "      <td>photon690_e</td>\n",
       "      <td>EX_photon690_e</td>\n",
       "      <td>634.6</td>\n",
       "      <td>0</td>\n",
       "      <td>0.00%</td>\n",
       "    </tr>\n",
       "    <tr>\n",
       "      <td>pi_e</td>\n",
       "      <td>EX_pi_e</td>\n",
       "      <td>0.8534</td>\n",
       "      <td>0</td>\n",
       "      <td>0.00%</td>\n",
       "    </tr>\n",
       "    <tr>\n",
       "      <td>so4_e</td>\n",
       "      <td>EX_so4_e</td>\n",
       "      <td>0.3115</td>\n",
       "      <td>0</td>\n",
       "      <td>0.00%</td>\n",
       "    </tr>\n",
       "    <tr>\n",
       "      <td>amylose_c</td>\n",
       "      <td>SK_amylose_c</td>\n",
       "      <td>1.027</td>\n",
       "      <td>0</td>\n",
       "      <td>0.00%</td>\n",
       "    </tr>\n",
       "  </tbody>\n",
       "</table><h4>Secretion</h4><table border=\"1\" class=\"dataframe\">\n",
       "  <thead>\n",
       "    <tr style=\"text-align: right;\">\n",
       "      <th>Metabolite</th>\n",
       "      <th>Reaction</th>\n",
       "      <th>Flux</th>\n",
       "      <th>C-Number</th>\n",
       "      <th>C-Flux</th>\n",
       "    </tr>\n",
       "  </thead>\n",
       "  <tbody>\n",
       "    <tr>\n",
       "      <td>5drib_c</td>\n",
       "      <td>DM_5drib_c</td>\n",
       "      <td>-0.0002078</td>\n",
       "      <td>5</td>\n",
       "      <td>26.10%</td>\n",
       "    </tr>\n",
       "    <tr>\n",
       "      <td>amob_c</td>\n",
       "      <td>DM_amob_c</td>\n",
       "      <td>-5.236E-05</td>\n",
       "      <td>15</td>\n",
       "      <td>19.73%</td>\n",
       "    </tr>\n",
       "    <tr>\n",
       "      <td>co_c</td>\n",
       "      <td>DM_co_c</td>\n",
       "      <td>-0.002115</td>\n",
       "      <td>1</td>\n",
       "      <td>53.14%</td>\n",
       "    </tr>\n",
       "    <tr>\n",
       "      <td>dialurate_c</td>\n",
       "      <td>DM_dialurate_c</td>\n",
       "      <td>-1.023E-05</td>\n",
       "      <td>4</td>\n",
       "      <td>1.03%</td>\n",
       "    </tr>\n",
       "    <tr>\n",
       "      <td>pho_loss_c</td>\n",
       "      <td>DM_pho_loss_c</td>\n",
       "      <td>-17.31</td>\n",
       "      <td>0</td>\n",
       "      <td>0.00%</td>\n",
       "    </tr>\n",
       "    <tr>\n",
       "      <td>o2_e</td>\n",
       "      <td>EX_o2_e</td>\n",
       "      <td>-95.03</td>\n",
       "      <td>0</td>\n",
       "      <td>0.00%</td>\n",
       "    </tr>\n",
       "    <tr>\n",
       "      <td>sucr_e</td>\n",
       "      <td>EX_sucr_e</td>\n",
       "      <td>-0.011</td>\n",
       "      <td>0</td>\n",
       "      <td>0.00%</td>\n",
       "    </tr>\n",
       "  </tbody>\n",
       "</table>"
      ],
      "text/plain": [
       "<cobra.summary.model_summary.ModelSummary at 0x1bd56fbfe50>"
      ]
     },
     "execution_count": 13,
     "metadata": {},
     "output_type": "execute_result"
    }
   ],
   "source": [
    "model.summary()"
   ]
  },
  {
   "cell_type": "code",
   "execution_count": 14,
   "metadata": {
    "pycharm": {
     "name": "#%%\n"
    }
   },
   "outputs": [],
   "source": [
    "fluxes = model.optimize().fluxes\n",
    "fluxes = fluxes[np.abs(fluxes)>0]"
   ]
  },
  {
   "cell_type": "code",
   "execution_count": 15,
   "metadata": {
    "pycharm": {
     "name": "#%%\n"
    }
   },
   "outputs": [],
   "source": [
    "ex = [i for i in fluxes.index if i.startswith('EX_')]"
   ]
  },
  {
   "cell_type": "code",
   "execution_count": 16,
   "metadata": {
    "pycharm": {
     "name": "#%%\n"
    }
   },
   "outputs": [],
   "source": [
    "import pandas as pd\n",
    "pd.set_option('display.float_format', lambda x: f'{x:.3f}')"
   ]
  },
  {
   "cell_type": "code",
   "execution_count": 17,
   "metadata": {
    "pycharm": {
     "name": "#%%\n"
    }
   },
   "outputs": [
    {
     "data": {
      "text/plain": [
       "EX_photon690_e   -734.760\n",
       "EX_photon670_e   -400.139\n",
       "EX_co2_e          -87.123\n",
       "EX_h2o_e          -51.971\n",
       "EX_nh4_e           -8.573\n",
       "EX_no3_e           -7.545\n",
       "EX_pi_e            -0.853\n",
       "EX_so4_e           -0.311\n",
       "EX_mg2_e           -0.022\n",
       "EX_photon650_e     -0.022\n",
       "EX_fe3_e           -0.003\n",
       "EX_cobalt2_e       -0.000\n",
       "EX_k_e             -0.000\n",
       "EX_hco3_e          -0.000\n",
       "EX_na1_e           -0.000\n",
       "EX_h_e              0.011\n",
       "EX_sucr_e           0.011\n",
       "EX_o2_e           110.129\n",
       "Name: fluxes, dtype: float64"
      ]
     },
     "execution_count": 17,
     "metadata": {},
     "output_type": "execute_result"
    }
   ],
   "source": [
    "# fluxes.style.format('{:.2f}', na_rep='MISS')\n",
    "fluxes.loc[ex].sort_values()"
   ]
  },
  {
   "cell_type": "code",
   "execution_count": 18,
   "metadata": {
    "pycharm": {
     "name": "#%%\n"
    }
   },
   "outputs": [
    {
     "data": {
      "image/png": "[encoded data removed]",
      "text/plain": [
       "<Figure size 640x480 with 1 Axes>"
      ]
     },
     "metadata": {},
     "output_type": "display_data"
    }
   ],
   "source": [
    "\n",
    "datapoints, triang, plot1 = sd.plot_flux_space(\n",
    "    model,\n",
    "    ('BIOMASS__1','EX_sucr_e'),\n",
    "    show=False\n",
    ");"
   ]
  },
  {
   "cell_type": "code",
   "execution_count": 19,
   "metadata": {
    "pycharm": {
     "name": "#%%\n"
    }
   },
   "outputs": [],
   "source": [
    "blocked_reactions = cobra.flux_analysis.find_blocked_reactions(model)"
   ]
  },
  {
   "cell_type": "code",
   "execution_count": 20,
   "metadata": {
    "pycharm": {
     "name": "#%%\n"
    }
   },
   "outputs": [
    {
     "data": {
      "text/plain": [
       "228"
      ]
     },
     "execution_count": 20,
     "metadata": {},
     "output_type": "execute_result"
    }
   ],
   "source": [
    "len(blocked_reactions)"
   ]
  },
  {
   "cell_type": "code",
   "execution_count": 21,
   "metadata": {
    "pycharm": {
     "name": "#%%\n"
    }
   },
   "outputs": [
    {
     "name": "stdout",
     "output_type": "stream",
     "text": [
      "Read LP format model from file C:\\Users\\pino216\\AppData\\Local\\Temp\\tmp84_tgn6y.lp\n"
     ]
    },
    {
     "name": "stderr",
     "output_type": "stream",
     "text": [
      "INFO:gurobipy.gurobipy:Read LP format model from file C:\\Users\\pino216\\AppData\\Local\\Temp\\tmp84_tgn6y.lp\n"
     ]
    },
    {
     "name": "stdout",
     "output_type": "stream",
     "text": [
      "Reading time = 0.03 seconds\n"
     ]
    },
    {
     "name": "stderr",
     "output_type": "stream",
     "text": [
      "INFO:gurobipy.gurobipy:Reading time = 0.03 seconds\n"
     ]
    },
    {
     "name": "stdout",
     "output_type": "stream",
     "text": [
      ": 884 rows, 1936 columns, 7886 nonzeros\n"
     ]
    },
    {
     "name": "stderr",
     "output_type": "stream",
     "text": [
      "INFO:gurobipy.gurobipy:: 884 rows, 1936 columns, 7886 nonzeros\n"
     ]
    }
   ],
   "source": [
    "consistent_model = cobra.flux_analysis.fastcc(model)"
   ]
  },
  {
   "cell_type": "code",
   "execution_count": 22,
   "metadata": {
    "pycharm": {
     "name": "#%%\n"
    }
   },
   "outputs": [
    {
     "name": "stderr",
     "output_type": "stream",
     "text": [
      "INFO:cobra.summary.model_summary:Generating new parsimonious flux distribution.\n",
      "INFO:cobra.summary.model_summary:Performing flux variability analysis.\n"
     ]
    },
    {
     "data": {
      "text/html": [
       "<h3>Objective</h3><p>1.0 BIOMASS__1 = 2.0</p><h4>Uptake</h4><table border=\"1\" class=\"dataframe\">\n",
       "  <thead>\n",
       "    <tr style=\"text-align: right;\">\n",
       "      <th>Metabolite</th>\n",
       "      <th>Reaction</th>\n",
       "      <th>Flux</th>\n",
       "      <th>Range</th>\n",
       "      <th>C-Number</th>\n",
       "      <th>C-Flux</th>\n",
       "    </tr>\n",
       "  </thead>\n",
       "  <tbody>\n",
       "    <tr>\n",
       "      <td>co2_e</td>\n",
       "      <td>EX_co2_e</td>\n",
       "      <td>72.03</td>\n",
       "      <td>[-21.58;  100]</td>\n",
       "      <td>1</td>\n",
       "      <td>82.67%</td>\n",
       "    </tr>\n",
       "    <tr>\n",
       "      <td>cobalt2_e</td>\n",
       "      <td>EX_cobalt2_e</td>\n",
       "      <td>1.023E-05</td>\n",
       "      <td>[9.211E-06;  1.023E-05]</td>\n",
       "      <td>0</td>\n",
       "      <td>0.00%</td>\n",
       "    </tr>\n",
       "    <tr>\n",
       "      <td>fe3_e</td>\n",
       "      <td>EX_fe3_e</td>\n",
       "      <td>0.003204</td>\n",
       "      <td>[0.002884;  0.003204]</td>\n",
       "      <td>0</td>\n",
       "      <td>0.00%</td>\n",
       "    </tr>\n",
       "    <tr>\n",
       "      <td>h2o_e</td>\n",
       "      <td>EX_h2o_e</td>\n",
       "      <td>29.33</td>\n",
       "      <td>[-60.01;  100]</td>\n",
       "      <td>0</td>\n",
       "      <td>0.00%</td>\n",
       "    </tr>\n",
       "    <tr>\n",
       "      <td>hco3_e</td>\n",
       "      <td>EX_hco3_e</td>\n",
       "      <td>15.09</td>\n",
       "      <td>[-21.58;  100]</td>\n",
       "      <td>1</td>\n",
       "      <td>17.33%</td>\n",
       "    </tr>\n",
       "    <tr>\n",
       "      <td>k_e</td>\n",
       "      <td>EX_k_e</td>\n",
       "      <td>3.094E-06</td>\n",
       "      <td>[2.785E-06;  3.094E-06]</td>\n",
       "      <td>0</td>\n",
       "      <td>0.00%</td>\n",
       "    </tr>\n",
       "    <tr>\n",
       "      <td>mg2_e</td>\n",
       "      <td>EX_mg2_e</td>\n",
       "      <td>0.02242</td>\n",
       "      <td>[0.02018;  0.02242]</td>\n",
       "      <td>0</td>\n",
       "      <td>0.00%</td>\n",
       "    </tr>\n",
       "    <tr>\n",
       "      <td>na1_e</td>\n",
       "      <td>EX_na1_e</td>\n",
       "      <td>2.38E-07</td>\n",
       "      <td>[2.142E-07;  2.38E-07]</td>\n",
       "      <td>0</td>\n",
       "      <td>0.00%</td>\n",
       "    </tr>\n",
       "    <tr>\n",
       "      <td>nh4_e</td>\n",
       "      <td>EX_nh4_e</td>\n",
       "      <td>16.12</td>\n",
       "      <td>[0;  16.12]</td>\n",
       "      <td>0</td>\n",
       "      <td>0.00%</td>\n",
       "    </tr>\n",
       "    <tr>\n",
       "      <td>photon650_e</td>\n",
       "      <td>EX_photon650_e</td>\n",
       "      <td>0.02242</td>\n",
       "      <td>[0;  1000]</td>\n",
       "      <td>0</td>\n",
       "      <td>0.00%</td>\n",
       "    </tr>\n",
       "    <tr>\n",
       "      <td>photon670_e</td>\n",
       "      <td>EX_photon670_e</td>\n",
       "      <td>346.2</td>\n",
       "      <td>[0;  1000]</td>\n",
       "      <td>0</td>\n",
       "      <td>0.00%</td>\n",
       "    </tr>\n",
       "    <tr>\n",
       "      <td>photon690_e</td>\n",
       "      <td>EX_photon690_e</td>\n",
       "      <td>634.6</td>\n",
       "      <td>[0;  1000]</td>\n",
       "      <td>0</td>\n",
       "      <td>0.00%</td>\n",
       "    </tr>\n",
       "    <tr>\n",
       "      <td>pi_e</td>\n",
       "      <td>EX_pi_e</td>\n",
       "      <td>0.8534</td>\n",
       "      <td>[0.7681;  0.8534]</td>\n",
       "      <td>0</td>\n",
       "      <td>0.00%</td>\n",
       "    </tr>\n",
       "    <tr>\n",
       "      <td>so4_e</td>\n",
       "      <td>EX_so4_e</td>\n",
       "      <td>0.3115</td>\n",
       "      <td>[0.2803;  0.3115]</td>\n",
       "      <td>0</td>\n",
       "      <td>0.00%</td>\n",
       "    </tr>\n",
       "    <tr>\n",
       "      <td>amylose_c</td>\n",
       "      <td>SK_amylose_c</td>\n",
       "      <td>1.027</td>\n",
       "      <td>[0.9247;  1.027]</td>\n",
       "      <td>0</td>\n",
       "      <td>0.00%</td>\n",
       "    </tr>\n",
       "  </tbody>\n",
       "</table><h4>Secretion</h4><table border=\"1\" class=\"dataframe\">\n",
       "  <thead>\n",
       "    <tr style=\"text-align: right;\">\n",
       "      <th>Metabolite</th>\n",
       "      <th>Reaction</th>\n",
       "      <th>Flux</th>\n",
       "      <th>Range</th>\n",
       "      <th>C-Number</th>\n",
       "      <th>C-Flux</th>\n",
       "    </tr>\n",
       "  </thead>\n",
       "  <tbody>\n",
       "    <tr>\n",
       "      <td>5drib_c</td>\n",
       "      <td>DM_5drib_c</td>\n",
       "      <td>-0.0002078</td>\n",
       "      <td>[-0.0002078;  -0.000187]</td>\n",
       "      <td>5</td>\n",
       "      <td>26.10%</td>\n",
       "    </tr>\n",
       "    <tr>\n",
       "      <td>ac_c</td>\n",
       "      <td>DM_ac_c</td>\n",
       "      <td>0</td>\n",
       "      <td>[-54.13;  0]</td>\n",
       "      <td>2</td>\n",
       "      <td>0.00%</td>\n",
       "    </tr>\n",
       "    <tr>\n",
       "      <td>amob_c</td>\n",
       "      <td>DM_amob_c</td>\n",
       "      <td>-5.236E-05</td>\n",
       "      <td>[-5.236E-05;  -4.712E-05]</td>\n",
       "      <td>15</td>\n",
       "      <td>19.73%</td>\n",
       "    </tr>\n",
       "    <tr>\n",
       "      <td>co_c</td>\n",
       "      <td>DM_co_c</td>\n",
       "      <td>-0.002115</td>\n",
       "      <td>[-0.002115;  -0.001904]</td>\n",
       "      <td>1</td>\n",
       "      <td>53.14%</td>\n",
       "    </tr>\n",
       "    <tr>\n",
       "      <td>dialurate_c</td>\n",
       "      <td>DM_dialurate_c</td>\n",
       "      <td>-1.023E-05</td>\n",
       "      <td>[-1.023E-05;  -9.211E-06]</td>\n",
       "      <td>4</td>\n",
       "      <td>1.03%</td>\n",
       "    </tr>\n",
       "    <tr>\n",
       "      <td>h2_c</td>\n",
       "      <td>DM_h2_c</td>\n",
       "      <td>0</td>\n",
       "      <td>[-160;  0]</td>\n",
       "      <td>0</td>\n",
       "      <td>0.00%</td>\n",
       "    </tr>\n",
       "    <tr>\n",
       "      <td>lac__D_c</td>\n",
       "      <td>DM_lac__D_c</td>\n",
       "      <td>0</td>\n",
       "      <td>[-36.09;  0]</td>\n",
       "      <td>3</td>\n",
       "      <td>0.00%</td>\n",
       "    </tr>\n",
       "    <tr>\n",
       "      <td>pho_loss_c</td>\n",
       "      <td>DM_pho_loss_c</td>\n",
       "      <td>-17.31</td>\n",
       "      <td>[-1000;  -13.53]</td>\n",
       "      <td>0</td>\n",
       "      <td>0.00%</td>\n",
       "    </tr>\n",
       "    <tr>\n",
       "      <td>succ_c</td>\n",
       "      <td>DM_succ_c</td>\n",
       "      <td>0</td>\n",
       "      <td>[-30.39;  0]</td>\n",
       "      <td>4</td>\n",
       "      <td>0.00%</td>\n",
       "    </tr>\n",
       "    <tr>\n",
       "      <td>h_e</td>\n",
       "      <td>EX_h_e</td>\n",
       "      <td>0</td>\n",
       "      <td>[-35.23;  100]</td>\n",
       "      <td>0</td>\n",
       "      <td>0.00%</td>\n",
       "    </tr>\n",
       "    <tr>\n",
       "      <td>meoh_e</td>\n",
       "      <td>EX_meoh_e</td>\n",
       "      <td>0</td>\n",
       "      <td>[-5.236E-05;  0]</td>\n",
       "      <td>1</td>\n",
       "      <td>0.00%</td>\n",
       "    </tr>\n",
       "    <tr>\n",
       "      <td>no3_e</td>\n",
       "      <td>EX_no3_e</td>\n",
       "      <td>0</td>\n",
       "      <td>[0;  16.12]</td>\n",
       "      <td>0</td>\n",
       "      <td>0.00%</td>\n",
       "    </tr>\n",
       "    <tr>\n",
       "      <td>o2_e</td>\n",
       "      <td>EX_o2_e</td>\n",
       "      <td>-95.03</td>\n",
       "      <td>[-228.1;  -85.54]</td>\n",
       "      <td>0</td>\n",
       "      <td>0.00%</td>\n",
       "    </tr>\n",
       "    <tr>\n",
       "      <td>photon410_e</td>\n",
       "      <td>EX_photon410_e</td>\n",
       "      <td>0</td>\n",
       "      <td>[0;  1000]</td>\n",
       "      <td>0</td>\n",
       "      <td>0.00%</td>\n",
       "    </tr>\n",
       "    <tr>\n",
       "      <td>photon430_e</td>\n",
       "      <td>EX_photon430_e</td>\n",
       "      <td>0</td>\n",
       "      <td>[0;  1000]</td>\n",
       "      <td>0</td>\n",
       "      <td>0.00%</td>\n",
       "    </tr>\n",
       "    <tr>\n",
       "      <td>photon450_e</td>\n",
       "      <td>EX_photon450_e</td>\n",
       "      <td>0</td>\n",
       "      <td>[0;  1000]</td>\n",
       "      <td>0</td>\n",
       "      <td>0.00%</td>\n",
       "    </tr>\n",
       "    <tr>\n",
       "      <td>photon470_e</td>\n",
       "      <td>EX_photon470_e</td>\n",
       "      <td>0</td>\n",
       "      <td>[0;  1000]</td>\n",
       "      <td>0</td>\n",
       "      <td>0.00%</td>\n",
       "    </tr>\n",
       "    <tr>\n",
       "      <td>photon490_e</td>\n",
       "      <td>EX_photon490_e</td>\n",
       "      <td>0</td>\n",
       "      <td>[0;  1000]</td>\n",
       "      <td>0</td>\n",
       "      <td>0.00%</td>\n",
       "    </tr>\n",
       "    <tr>\n",
       "      <td>photon510_e</td>\n",
       "      <td>EX_photon510_e</td>\n",
       "      <td>0</td>\n",
       "      <td>[0;  1000]</td>\n",
       "      <td>0</td>\n",
       "      <td>0.00%</td>\n",
       "    </tr>\n",
       "    <tr>\n",
       "      <td>photon530_e</td>\n",
       "      <td>EX_photon530_e</td>\n",
       "      <td>0</td>\n",
       "      <td>[0;  1000]</td>\n",
       "      <td>0</td>\n",
       "      <td>0.00%</td>\n",
       "    </tr>\n",
       "    <tr>\n",
       "      <td>photon550_e</td>\n",
       "      <td>EX_photon550_e</td>\n",
       "      <td>0</td>\n",
       "      <td>[0;  1000]</td>\n",
       "      <td>0</td>\n",
       "      <td>0.00%</td>\n",
       "    </tr>\n",
       "    <tr>\n",
       "      <td>photon570_e</td>\n",
       "      <td>EX_photon570_e</td>\n",
       "      <td>0</td>\n",
       "      <td>[0;  1000]</td>\n",
       "      <td>0</td>\n",
       "      <td>0.00%</td>\n",
       "    </tr>\n",
       "    <tr>\n",
       "      <td>photon590_e</td>\n",
       "      <td>EX_photon590_e</td>\n",
       "      <td>0</td>\n",
       "      <td>[0;  1000]</td>\n",
       "      <td>0</td>\n",
       "      <td>0.00%</td>\n",
       "    </tr>\n",
       "    <tr>\n",
       "      <td>photon610_e</td>\n",
       "      <td>EX_photon610_e</td>\n",
       "      <td>0</td>\n",
       "      <td>[0;  1000]</td>\n",
       "      <td>0</td>\n",
       "      <td>0.00%</td>\n",
       "    </tr>\n",
       "    <tr>\n",
       "      <td>photon630_e</td>\n",
       "      <td>EX_photon630_e</td>\n",
       "      <td>0</td>\n",
       "      <td>[0;  1000]</td>\n",
       "      <td>0</td>\n",
       "      <td>0.00%</td>\n",
       "    </tr>\n",
       "    <tr>\n",
       "      <td>sucr_e</td>\n",
       "      <td>EX_sucr_e</td>\n",
       "      <td>-0.011</td>\n",
       "      <td>[-9.033;  -0.011]</td>\n",
       "      <td>0</td>\n",
       "      <td>0.00%</td>\n",
       "    </tr>\n",
       "    <tr>\n",
       "      <td>akg_c</td>\n",
       "      <td>SK_akg_c</td>\n",
       "      <td>0</td>\n",
       "      <td>[-23.18;  0]</td>\n",
       "      <td>5</td>\n",
       "      <td>0.00%</td>\n",
       "    </tr>\n",
       "    <tr>\n",
       "      <td>for_c</td>\n",
       "      <td>SK_for_c</td>\n",
       "      <td>0</td>\n",
       "      <td>[-121.6;  0]</td>\n",
       "      <td>1</td>\n",
       "      <td>0.00%</td>\n",
       "    </tr>\n",
       "    <tr>\n",
       "      <td>fum_c</td>\n",
       "      <td>SK_fum_c</td>\n",
       "      <td>0</td>\n",
       "      <td>[-30.39;  0]</td>\n",
       "      <td>4</td>\n",
       "      <td>0.00%</td>\n",
       "    </tr>\n",
       "  </tbody>\n",
       "</table>"
      ],
      "text/plain": [
       "<cobra.summary.model_summary.ModelSummary at 0x1bd57e0f490>"
      ]
     },
     "execution_count": 22,
     "metadata": {},
     "output_type": "execute_result"
    }
   ],
   "source": [
    "consistent_model.summary(fva=.9)"
   ]
  },
  {
   "cell_type": "code",
   "execution_count": 23,
   "metadata": {
    "pycharm": {
     "name": "#%%\n"
    }
   },
   "outputs": [
    {
     "data": {
      "text/plain": [
       "2.0"
      ]
     },
     "execution_count": 23,
     "metadata": {},
     "output_type": "execute_result"
    }
   ],
   "source": [
    "consistent_model.slim_optimize()"
   ]
  },
  {
   "cell_type": "code",
   "execution_count": 29,
   "metadata": {
    "pycharm": {
     "name": "#%%\n"
    }
   },
   "outputs": [
    {
     "data": {
      "text/plain": [
       "2.0"
      ]
     },
     "execution_count": 29,
     "metadata": {},
     "output_type": "execute_result"
    }
   ],
   "source": [
    "model.slim_optimize()"
   ]
  },
  {
   "cell_type": "code",
   "execution_count": 34,
   "metadata": {
    "pycharm": {
     "name": "#%%\n"
    }
   },
   "outputs": [
    {
     "name": "stdout",
     "output_type": "stream",
     "text": [
      "SUCR: h2o_c + sucr_c --> fru_c + glc__D_c\n",
      "SUCRt2: h_e + sucr_e <=> h_c + sucr_c\n",
      "SPP: h2o_c + suc6p_c --> pi_c + sucr_c\n"
     ]
    }
   ],
   "source": [
    "for rxn in consistent_model.metabolites.sucr_c.reactions:\n",
    "    print(rxn)\n",
    "    # print(consistent_model.reactions.get_by_id(rxn.id))"
   ]
  },
  {
   "cell_type": "code",
   "execution_count": null,
   "metadata": {
    "pycharm": {
     "name": "#%%\n"
    }
   },
   "outputs": [],
   "source": [
    "consistent_model.metabolites.suc6p_c"
   ]
  },
  {
   "cell_type": "code",
   "execution_count": 35,
   "metadata": {
    "pycharm": {
     "name": "#%%\n"
    }
   },
   "outputs": [
    {
     "name": "stdout",
     "output_type": "stream",
     "text": [
      "SPS: f6p_c + udpg_c --> h_c + suc6p_c + udp_c\n",
      "SPP: h2o_c + suc6p_c --> pi_c + sucr_c\n"
     ]
    }
   ],
   "source": [
    "for rxn in consistent_model.metabolites.suc6p_c.reactions:\n",
    "    print(rxn)"
   ]
  },
  {
   "cell_type": "code",
   "execution_count": 36,
   "metadata": {
    "pycharm": {
     "name": "#%%\n"
    }
   },
   "outputs": [],
   "source": [
    "module_optknock = sd.SDModule(\n",
    "    consistent_model,\n",
    "    names.OPTKNOCK,\n",
    "    inner_objective='BIOMASS__1',\n",
    "    outer_objective='EX_sucr_e',\n",
    "    constraints=['EX_sucr_e >= 11.1', 'BIOMASS__1 >= 1.']\n",
    ")"
   ]
  },
  {
   "cell_type": "code",
   "execution_count": 37,
   "metadata": {
    "pycharm": {
     "name": "#%%\n"
    }
   },
   "outputs": [
    {
     "name": "stderr",
     "output_type": "stream",
     "text": [
      "INFO:root:Preparing strain design computation.\n",
      "INFO:root:  Using gurobi for solving LPs during preprocessing.\n",
      "WARNING:root:  Removing reaction bounds when larger than the cobra-threshold of 1000.\n",
      "INFO:root:  FVA to identify blocked reactions and irreversibilities.\n",
      "INFO:root:  FVA(s) to identify essential reactions.\n",
      "INFO:root:Compressing Network (739 reactions).\n",
      "INFO:root:  Removing blocked reactions.\n",
      "INFO:root:  Translating stoichiometric coefficients to rationals.\n",
      "INFO:root:  Removing conservation relations.\n",
      "INFO:root:  Compression 1: Applying compression from EFM-tool module.\n",
      "INFO:root:  Reduced to 238 reactions.\n",
      "INFO:root:  Compression 2: Lumping parallel reactions.\n",
      "INFO:root:  Last step could not reduce size further (238 reactions).\n",
      "INFO:root:  Network compression completed. (1 compression iterations)\n",
      "INFO:root:  Translating stoichiometric coefficients back to float.\n",
      "INFO:root:  FVA(s) in compressed model to identify essential reactions.\n",
      "INFO:root:Finished preprocessing:\n",
      "INFO:root:  Model size: 238 reactions, 137 metabolites\n",
      "INFO:root:  165 targetable reactions\n",
      "WARNING:root:  Removing reaction bounds when larger than the cobra-threshold of 1000.\n",
      "INFO:root:Constructing strain design MILP for solver: gurobi.\n",
      "INFO:root:  Bounding MILP.\n",
      "INFO:root:Finding optimal strain designs ...\n",
      "INFO:root:Found solution with objective value 12.722685307715523\n",
      "INFO:root:Minimizing number of interventions in subspace with 4 possible targets.\n",
      "INFO:root:Strain design with cost 4.0: {'GND*G6PDH2r*PGL': -1, 'PSP_L*PGCD*PSERT': -1, 'GART': -1, 'PDH': -1}\n",
      "INFO:root:Found solution with objective value 12.694849747117823\n",
      "INFO:root:Minimizing number of interventions in subspace with 4 possible targets.\n",
      "INFO:root:Strain design with cost 4.0: {'GND*G6PDH2r*PGL': -1, 'PSP_L*PGCD*PSERT': -1, 'PDH': -1, 'FALGTHLs*FALDH2*ALCD1*SFGTHi': -1}\n",
      "INFO:root:Found solution with objective value 12.694796303959036\n",
      "INFO:root:Minimizing number of interventions in subspace with 4 possible targets.\n",
      "INFO:root:Strain design with cost 3.0: {'GND*G6PDH2r*PGL': -1, 'PSP_L*PGCD*PSERT': -1, 'PDH': -1}\n",
      "INFO:root:Finished solving strain design MILP. \n",
      "INFO:root:3 solutions to MILP found.\n",
      "INFO:root:  Decompressing.\n",
      "INFO:root:54 solutions found.\n"
     ]
    }
   ],
   "source": [
    "import logging\n",
    "logging.basicConfig(level=logging.INFO)\n",
    "\n",
    "sols = sd.compute_strain_designs(\n",
    "    consistent_model,\n",
    "    sd_modules = module_optknock,\n",
    "    max_solutions = 3,\n",
    "    max_cost = 4,\n",
    "    solution_approach = 'best',\n",
    "    time_limit=300,\n",
    "\n",
    ")"
   ]
  },
  {
   "cell_type": "code",
   "execution_count": 38,
   "metadata": {
    "pycharm": {
     "name": "#%%\n"
    }
   },
   "outputs": [
    {
     "data": {
      "text/plain": [
       "[{'PDH': -1.0, 'GND': -1.0, 'PSP_L': -1.0},\n",
       " {'PDH': -1.0, 'GND': -1.0, 'PGCD': -1.0},\n",
       " {'PDH': -1.0, 'GND': -1.0, 'PSERT': -1.0},\n",
       " {'PDH': -1.0, 'G6PDH2r': -1.0, 'PSP_L': -1.0},\n",
       " {'PDH': -1.0, 'G6PDH2r': -1.0, 'PGCD': -1.0},\n",
       " {'PDH': -1.0, 'G6PDH2r': -1.0, 'PSERT': -1.0},\n",
       " {'PDH': -1.0, 'PGL': -1.0, 'PSP_L': -1.0},\n",
       " {'PDH': -1.0, 'PGL': -1.0, 'PGCD': -1.0},\n",
       " {'PDH': -1.0, 'PGL': -1.0, 'PSERT': -1.0},\n",
       " {'GART': -1.0, 'PDH': -1.0, 'GND': -1.0, 'PSP_L': -1.0},\n",
       " {'GART': -1.0, 'PDH': -1.0, 'GND': -1.0, 'PGCD': -1.0},\n",
       " {'GART': -1.0, 'PDH': -1.0, 'GND': -1.0, 'PSERT': -1.0},\n",
       " {'GART': -1.0, 'PDH': -1.0, 'G6PDH2r': -1.0, 'PSP_L': -1.0},\n",
       " {'GART': -1.0, 'PDH': -1.0, 'G6PDH2r': -1.0, 'PGCD': -1.0},\n",
       " {'GART': -1.0, 'PDH': -1.0, 'G6PDH2r': -1.0, 'PSERT': -1.0},\n",
       " {'GART': -1.0, 'PDH': -1.0, 'PGL': -1.0, 'PSP_L': -1.0},\n",
       " {'GART': -1.0, 'PDH': -1.0, 'PGL': -1.0, 'PGCD': -1.0},\n",
       " {'GART': -1.0, 'PDH': -1.0, 'PGL': -1.0, 'PSERT': -1.0},\n",
       " {'PDH': -1.0, 'GND': -1.0, 'PSP_L': -1.0, 'FALGTHLs': -1.0},\n",
       " {'PDH': -1.0, 'GND': -1.0, 'PSP_L': -1.0, 'FALDH2': -1.0},\n",
       " {'PDH': -1.0, 'GND': -1.0, 'PSP_L': -1.0, 'ALCD1': -1.0},\n",
       " {'PDH': -1.0, 'GND': -1.0, 'PSP_L': -1.0, 'SFGTHi': -1.0},\n",
       " {'PDH': -1.0, 'GND': -1.0, 'PGCD': -1.0, 'FALGTHLs': -1.0},\n",
       " {'PDH': -1.0, 'GND': -1.0, 'PGCD': -1.0, 'FALDH2': -1.0},\n",
       " {'PDH': -1.0, 'GND': -1.0, 'PGCD': -1.0, 'ALCD1': -1.0},\n",
       " {'PDH': -1.0, 'GND': -1.0, 'PGCD': -1.0, 'SFGTHi': -1.0},\n",
       " {'PDH': -1.0, 'GND': -1.0, 'PSERT': -1.0, 'FALGTHLs': -1.0},\n",
       " {'PDH': -1.0, 'GND': -1.0, 'PSERT': -1.0, 'FALDH2': -1.0},\n",
       " {'PDH': -1.0, 'GND': -1.0, 'PSERT': -1.0, 'ALCD1': -1.0},\n",
       " {'PDH': -1.0, 'GND': -1.0, 'PSERT': -1.0, 'SFGTHi': -1.0},\n",
       " {'PDH': -1.0, 'G6PDH2r': -1.0, 'PSP_L': -1.0, 'FALGTHLs': -1.0},\n",
       " {'PDH': -1.0, 'G6PDH2r': -1.0, 'PSP_L': -1.0, 'FALDH2': -1.0},\n",
       " {'PDH': -1.0, 'G6PDH2r': -1.0, 'PSP_L': -1.0, 'ALCD1': -1.0},\n",
       " {'PDH': -1.0, 'G6PDH2r': -1.0, 'PSP_L': -1.0, 'SFGTHi': -1.0},\n",
       " {'PDH': -1.0, 'G6PDH2r': -1.0, 'PGCD': -1.0, 'FALGTHLs': -1.0},\n",
       " {'PDH': -1.0, 'G6PDH2r': -1.0, 'PGCD': -1.0, 'FALDH2': -1.0},\n",
       " {'PDH': -1.0, 'G6PDH2r': -1.0, 'PGCD': -1.0, 'ALCD1': -1.0},\n",
       " {'PDH': -1.0, 'G6PDH2r': -1.0, 'PGCD': -1.0, 'SFGTHi': -1.0},\n",
       " {'PDH': -1.0, 'G6PDH2r': -1.0, 'PSERT': -1.0, 'FALGTHLs': -1.0},\n",
       " {'PDH': -1.0, 'G6PDH2r': -1.0, 'PSERT': -1.0, 'FALDH2': -1.0},\n",
       " {'PDH': -1.0, 'G6PDH2r': -1.0, 'PSERT': -1.0, 'ALCD1': -1.0},\n",
       " {'PDH': -1.0, 'G6PDH2r': -1.0, 'PSERT': -1.0, 'SFGTHi': -1.0},\n",
       " {'PDH': -1.0, 'PGL': -1.0, 'PSP_L': -1.0, 'FALGTHLs': -1.0},\n",
       " {'PDH': -1.0, 'PGL': -1.0, 'PSP_L': -1.0, 'FALDH2': -1.0},\n",
       " {'PDH': -1.0, 'PGL': -1.0, 'PSP_L': -1.0, 'ALCD1': -1.0},\n",
       " {'PDH': -1.0, 'PGL': -1.0, 'PSP_L': -1.0, 'SFGTHi': -1.0},\n",
       " {'PDH': -1.0, 'PGL': -1.0, 'PGCD': -1.0, 'FALGTHLs': -1.0},\n",
       " {'PDH': -1.0, 'PGL': -1.0, 'PGCD': -1.0, 'FALDH2': -1.0},\n",
       " {'PDH': -1.0, 'PGL': -1.0, 'PGCD': -1.0, 'ALCD1': -1.0},\n",
       " {'PDH': -1.0, 'PGL': -1.0, 'PGCD': -1.0, 'SFGTHi': -1.0},\n",
       " {'PDH': -1.0, 'PGL': -1.0, 'PSERT': -1.0, 'FALGTHLs': -1.0},\n",
       " {'PDH': -1.0, 'PGL': -1.0, 'PSERT': -1.0, 'FALDH2': -1.0},\n",
       " {'PDH': -1.0, 'PGL': -1.0, 'PSERT': -1.0, 'ALCD1': -1.0},\n",
       " {'PDH': -1.0, 'PGL': -1.0, 'PSERT': -1.0, 'SFGTHi': -1.0}]"
      ]
     },
     "execution_count": 38,
     "metadata": {},
     "output_type": "execute_result"
    }
   ],
   "source": [
    "sols.reaction_sd"
   ]
  },
  {
   "cell_type": "code",
   "execution_count": 39,
   "metadata": {
    "pycharm": {
     "name": "#%%\n"
    }
   },
   "outputs": [
    {
     "data": {
      "image/png": "[encoded data removed]",
      "text/plain": [
       "<Figure size 640x480 with 1 Axes>"
      ]
     },
     "metadata": {},
     "output_type": "display_data"
    }
   ],
   "source": [
    "\n",
    "datapoints, triang, plot1 = sd.plot_flux_space(\n",
    "    consistent_model,\n",
    "    ('BIOMASS__1', 'EX_sucr_e'),\n",
    "    show=False\n",
    ");\n",
    "\n",
    "plot1.set_facecolor('#70AD47')\n",
    "plot1.set_edgecolor('#70AD47')\n",
    "\n",
    "# OptKnock design plot\n",
    "# interventions = [[{s:1.0},'=',0.0] for rxn in sols.reaction_sd for s,v in rxn.items() if v < 1]\n",
    "interventions = [[{s:1.0},'=',0.0] for s,v in sols.reaction_sd[0].items() if v < 1]\n",
    "_, _,plot3 = sd.plot_flux_space(\n",
    "    consistent_model,\n",
    "    ('BIOMASS__1','EX_sucr_e'),\n",
    "    # The sign of the glucose exchange reaction is flipped since\n",
    "    # reaction is defined in the direction of secretion.\n",
    "    constraints=interventions,\n",
    "    # constraints='EX_sucr_e >= 15.5',\n",
    "    show=False\n",
    ");\n",
    "plot3.set_facecolor('red')\n",
    "plot3.set_edgecolor('red')\n",
    "# adjust axes limits and show plot\n",
    "plot3.axes.set_xlim(0, 1.05*max([a[0] for a in datapoints]))\n",
    "plot3.axes.set_ylim(0, 1.05*max([a[1] for a in datapoints]))\n",
    "plt.show()"
   ]
  },
  {
   "cell_type": "code",
   "execution_count": 41,
   "metadata": {
    "pycharm": {
     "name": "#%%\n"
    }
   },
   "outputs": [
    {
     "name": "stdout",
     "output_type": "stream",
     "text": [
      "[[{'ALAD_L': 1.0}, '=', 0.0], [{'VALTA': 1.0}, '=', 0.0], [{'PSP_L': 1.0}, '=', 0.0], [{'ALAD_L': 1.0}, '=', 0.0], [{'VALTA': 1.0}, '=', 0.0], [{'PGCD': 1.0}, '=', 0.0], [{'ALAD_L': 1.0}, '=', 0.0], [{'VALTA': 1.0}, '=', 0.0], [{'PSERT': 1.0}, '=', 0.0], [{'PDH': 1.0}, '=', 0.0], [{'GND': 1.0}, '=', 0.0], [{'PSP_L': 1.0}, '=', 0.0], [{'PDH': 1.0}, '=', 0.0], [{'GND': 1.0}, '=', 0.0], [{'PGCD': 1.0}, '=', 0.0], [{'PDH': 1.0}, '=', 0.0], [{'GND': 1.0}, '=', 0.0], [{'PSERT': 1.0}, '=', 0.0], [{'PDH': 1.0}, '=', 0.0], [{'G6PDH2r': 1.0}, '=', 0.0], [{'PSP_L': 1.0}, '=', 0.0], [{'PDH': 1.0}, '=', 0.0], [{'G6PDH2r': 1.0}, '=', 0.0], [{'PGCD': 1.0}, '=', 0.0], [{'PDH': 1.0}, '=', 0.0], [{'G6PDH2r': 1.0}, '=', 0.0], [{'PSERT': 1.0}, '=', 0.0], [{'PDH': 1.0}, '=', 0.0], [{'PGL': 1.0}, '=', 0.0], [{'PSP_L': 1.0}, '=', 0.0], [{'PDH': 1.0}, '=', 0.0], [{'PGL': 1.0}, '=', 0.0], [{'PGCD': 1.0}, '=', 0.0], [{'PDH': 1.0}, '=', 0.0], [{'PGL': 1.0}, '=', 0.0], [{'PSERT': 1.0}, '=', 0.0]]\n"
     ]
    }
   ],
   "source": [
    "print(interventions)"
   ]
  },
  {
   "cell_type": "code",
   "execution_count": 47,
   "metadata": {
    "pycharm": {
     "name": "#%%\n"
    }
   },
   "outputs": [
    {
     "name": "stdout",
     "output_type": "stream",
     "text": [
      "{'PSERT', 'ALCD1', 'PGL', 'SFGTHi', 'G6PDH2r', 'FALDH2', 'PSP_L', 'GART', 'PGCD', 'GND', 'FALGTHLs', 'PDH'}\n"
     ]
    }
   ],
   "source": [
    "rxns = set()\n",
    "for i in sols.reaction_sd:\n",
    "    for j in i:\n",
    "        rxns.add(j)\n",
    "print(rxns)"
   ]
  },
  {
   "cell_type": "code",
   "execution_count": 103,
   "metadata": {
    "pycharm": {
     "name": "#%%\n"
    }
   },
   "outputs": [
    {
     "data": {
      "text/plain": [
       "{'ALCD1',\n",
       " 'FALDH2',\n",
       " 'FALGTHLs',\n",
       " 'G6PDH2r',\n",
       " 'GART',\n",
       " 'GND',\n",
       " 'PDH',\n",
       " 'PGCD',\n",
       " 'PGL',\n",
       " 'PSERT',\n",
       " 'PSP_L',\n",
       " 'SFGTHi'}"
      ]
     },
     "execution_count": 103,
     "metadata": {},
     "output_type": "execute_result"
    }
   ],
   "source": [
    "rxn_to_remove = {'PSERT', 'ALCD1', 'PGL', 'SFGTHi', 'G6PDH2r', 'FALDH2', 'PSP_L', 'GART', 'PGCD', 'GND', 'FALGTHLs', 'PDH'}\n",
    "rxn_to_remove"
   ]
  },
  {
   "cell_type": "code",
   "execution_count": 49,
   "metadata": {
    "pycharm": {
     "name": "#%%\n"
    }
   },
   "outputs": [],
   "source": [
    "ex=ex+['BIOMASS__1']"
   ]
  },
  {
   "cell_type": "code",
   "execution_count": 148,
   "metadata": {
    "pycharm": {
     "name": "#%%\n"
    }
   },
   "outputs": [
    {
     "name": "stdout",
     "output_type": "stream",
     "text": [
      "1.0881347815856224\n",
      "22.529422792735037\n",
      "<Solution 15511.094 at 0x1bdc56050f0>\n"
     ]
    }
   ],
   "source": [
    "# print(model.slim_optimize())\n",
    "pfba_solution = cobra.flux_analysis.pfba(model, reactions=ex)\n",
    "fluxes = pfba_solution.fluxes\n",
    "# print(fluxes.loc[ex].sort_values())\n",
    "with model:\n",
    "    for i in rxn_to_remove:\n",
    "        model.remove_reactions([model.reactions.get_by_id(i)])\n",
    "    # model.remove_reactions([model.reactions.get_by_id('VALTA')])\n",
    "    # model.remove_reactions([model.reactions.get_by_id('PSP_L')])\n",
    "\n",
    "    # model.remove_reactions([model.reactions.get_by_id('PGCD')])\n",
    "    # model.remove_reactions([model.reactions.get_by_id('PSERT')])\n",
    "    # model.remove_reactions([model.reactions.get_by_id('PDH')])\n",
    "    # model.remove_reactions([model.reactions.get_by_id('G6PDH2r')])\n",
    "    # model.remove_reactions([model.reactions.get_by_id('GND')])\n",
    "    print(model.slim_optimize())\n",
    "    model.objective = {model.reactions.get_by_id('EX_sucr_e'): 1, model.reactions.get_by_id('BIOMASS__1'):10}\n",
    "    print(model.slim_optimize())\n",
    "    pfba_solution = cobra.flux_analysis.pfba(model)\n",
    "    print(pfba_solution)\n",
    "    fluxes = pfba_solution.fluxes\n",
    "    prices = pfba_solution.shadow_prices\n",
    "builder.metabolite_data = pfba_solution.shadow_prices\n",
    "builder.reaction_data = pfba_solution.fluxes"
   ]
  },
  {
   "cell_type": "code",
   "execution_count": 83,
   "metadata": {
    "pycharm": {
     "name": "#%%\n"
    }
   },
   "outputs": [],
   "source": [
    "cobra.io.write_sbml_model( consistent_model, 'condensed_syn.xml',)"
   ]
  },
  {
   "cell_type": "code",
   "execution_count": 24,
   "metadata": {
    "pycharm": {
     "name": "#%%\n"
    }
   },
   "outputs": [],
   "source": [
    "import escher\n",
    "from escher import Builder"
   ]
  },
  {
   "cell_type": "code",
   "execution_count": 25,
   "metadata": {
    "pycharm": {
     "name": "#%%\n"
    }
   },
   "outputs": [],
   "source": [
    "builder = Builder()"
   ]
  },
  {
   "cell_type": "code",
   "execution_count": 77,
   "metadata": {
    "pycharm": {
     "name": "#%%\n"
    }
   },
   "outputs": [],
   "source": [
    "builder.model = consistent_model"
   ]
  },
  {
   "cell_type": "code",
   "execution_count": 90,
   "metadata": {
    "pycharm": {
     "name": "#%%\n"
    }
   },
   "outputs": [],
   "source": [
    "with model:\n",
    "    model.objective = {model.reactions.get_by_id('EX_sucr_e'): 1, model.reactions.get_by_id('BIOMASS__1'):5}\n",
    "    pfba_solution = cobra.flux_analysis.pfba(model)\n",
    "builder.metabolite_data = pfba_solution.shadow_prices\n",
    "builder.reaction_data = pfba_solution.fluxes"
   ]
  },
  {
   "cell_type": "code",
   "execution_count": 91,
   "metadata": {
    "pycharm": {
     "name": "#%%\n"
    },
    "scrolled": true
   },
   "outputs": [],
   "source": [
    "flux = pfba_solution.fluxes.to_dict()"
   ]
  },
  {
   "cell_type": "markdown",
   "metadata": {
    "pycharm": {
     "name": "#%%\n"
    }
   },
   "source": [
    "## Auto escher map\n",
    "\n",
    "This code is based on https://github.com/johncthomas/Auto-Escher-map-for-CobraPy.\n",
    "It doesn't quite do the visualization as wanted, but I'll keep it here until I get a defined escher map working right."
   ]
  },
  {
   "cell_type": "code",
   "execution_count": 92,
   "metadata": {
    "pycharm": {
     "name": "#%%\n"
    }
   },
   "outputs": [],
   "source": [
    "import generate_emap"
   ]
  },
  {
   "cell_type": "code",
   "execution_count": 102,
   "metadata": {
    "pycharm": {
     "name": "#%%\n"
    }
   },
   "outputs": [
    {
     "name": "stdout",
     "output_type": "stream",
     "text": [
      "Of 92 reactions 44 have a link\n",
      "The following are only connected to other reactions by common intermediates\n",
      "Aspartate kinase [ASPK]::  asp__L_c + atp_c --> 4pasp_c + adp_c\n",
      "Adenylate kinase [ADK1]::  amp_c + atp_c <=> 2.0 adp_c\n",
      "NAD transhydrogenase [NADTRHD]::  nad_c + nadph_c <=> nadh_c + nadp_c\n",
      "Phosphoglycerate mutase [PGM]::  2pg_c <=> 3pg_c\n",
      "Acetate kinase [ACKr]::  ac_c + atp_c <=> actp_c + adp_c\n",
      "Nucleoside-diphosphate kinase (ATP:GDP) [NDPK1]::  atp_c + gdp_c <=> adp_c + gtp_c\n",
      "L-alanine dehydrogenase [ALAD_L]::  ala__L_c + h2o_c + nad_c <=> h_c + nadh_c + nh4_c + pyr_c\n",
      "Sedoheptulose 1,7-bisphosphate D-glyceraldehyde-3-phosphate-lyase [FBA3]::  s17bp_c <=> dhap_c + e4p_c\n",
      "Nucleoside-diphosphate kinase (ATP:UDP) [NDPK2]::  atp_c + udp_c <=> adp_c + utp_c\n",
      "Polyphosphate kinase [PPK]::  atp_c + pi_c <=> adp_c + ppi_c\n",
      "UTP-glucose-1-phosphate uridylyltransferase (irreversible) [GALUi]::  g1p_c + h_c + utp_c <=> ppi_c + udpg_c\n",
      "Sucrose transport in via proton symport [SUCRt2]::  h_e + sucr_e <=> h_c + sucr_c\n",
      "Sedoheptulose-bisphosphatase [SBP]::  h2o_c + s17bp_c --> pi_c + s7p_c\n",
      "Ferredoxin:NADPH oxidoreductase [FNOR_1]::  2.0 fdxrd_c + h_c + nadp_c <=> 2.0 fdxox_c + nadph_c\n",
      "Dihydroxy-acid dehydratase (2,3-dihydroxy-3-methylbutanoate) [DHAD1]::  23dhmb_c --> 3mob_c + h2o_c\n",
      "NAD(P)H dehydrogenase, carbon dioxide coupled (plastoquinone-8 & 4 protons)( Thylakoid) [NDH_1_4_um_copy1]::  co2_c + 2.0 fdxrd_c + h2o_c + 4.0 h_c + pq_um --> 2.0 fdxox_c + 3.0 h_u + hco3_c + pqh2_um\n",
      "ATP synthase (thylakoid membrane) [ATPSum]::  3.0 adp_c + 13.0 h_u + 3.0 pi_c <=> 3.0 atp_c + 3.0 h2o_c + 10.0 h_c\n",
      "Triose-phosphate isomerase [TPI]::  dhap_c <=> g3p_c\n",
      "Glutamine synthetase [GLNS]::  atp_c + glu__L_c + nh4_c --> adp_c + gln__L_c + h_c + pi_c\n",
      "Catalase [CAT]::  2.0 h2o2_c --> 2.0 h2o_c + o2_c\n",
      "Glucose-1-phosphate adenylyltransferase [GLGC]::  atp_c + g1p_c + h_c --> adpglc_c + ppi_c\n",
      "Ketol-acid reductoisomerase (2,3-dihydroxy-3-methylbutanoate) [KARA1]::  23dhmb_c + nadp_c <-- alac__S_c + h_c + nadph_c\n",
      "Ribose-5-phosphate isomerase [RPI]::  r5p_c <=> ru5p__D_c\n",
      "Fructose-bisphosphate aldolase [FBA]::  fdp_c <=> dhap_c + g3p_c\n",
      "Aspartate-semialdehyde dehydrogenase [ASAD]::  aspsa_c + nadp_c + pi_c <-- 4pasp_c + h_c + nadph_c\n",
      "H2O transport via diffusion (tilacoid) [H2Otu_syn]::  h2o_u <=> h2o_c\n",
      "Unconnected count =  26\n"
     ]
    }
   ],
   "source": [
    "excluded_reactions = set(ex)\n",
    "\n",
    "common_mets = set()\n",
    "rxn_with_flux = set()\n",
    "rxn_with_greater_flux = set()\n",
    "\n",
    "threshold_flux = 1.1\n",
    "\n",
    "# Get a list of reactions with flux and those where flux exceeds the threshold\n",
    "# The rxn_with_flux will be used to determine what's a common metabolite\n",
    "# rxn_with_greater flux used to draw the map\n",
    "for rxn_name in flux:\n",
    "    if flux[rxn_name] != 0 and rxn_name not in excluded_reactions:\n",
    "        rxn = consistent_model.reactions.get_by_id(rxn_name)\n",
    "        rxn_with_flux.add(rxn)\n",
    "        if 0-threshold_flux > flux[rxn_name] or threshold_flux < flux[rxn_name]:\n",
    "            rxn_with_greater_flux.add(rxn)\n",
    "\n",
    "# Get a dictionary of metabolite frequency\n",
    "# (keys are the Cobra metabolite objects)\n",
    "met_count = generate_emap.metabolite_occurence(rxn_with_flux)\n",
    "\n",
    "# Get common metabolites.\n",
    "# included_common_m will be used be treated as uncommon whatever their occurence\n",
    "included_common_m = ('accoa_c', 'pry_c', 'g3p_c', 'acald_c', 'f6p_c', 'pep_c')\n",
    "for met in met_count:\n",
    "    if met_count[met] > 3 and met.id not in included_common_m:\n",
    "        common_mets.add(met)\n",
    "\n",
    "# Convert the sets to lists so that they can be iterated over\n",
    "common_mets, rxn_with_flux, rxn_with_greater_flux = \\\n",
    "    list(common_mets), list(rxn_with_flux), list(rxn_with_greater_flux)\n",
    "\n",
    "\n",
    "# Get the Escher JSON\n",
    "escher_map = generate_emap.gen_map(\n",
    "     consistent_model, rxn_with_greater_flux,  common_mets, 400, met_count\n",
    ")\n",
    "escher_json = escher_map.dump_json()\n",
    "# Currently Escher doesn't accept json strings, needs a file, i assume that's a bug\n",
    "with open('escher.json', 'w') as f:\n",
    "    f.write(escher_json)"
   ]
  },
  {
   "cell_type": "code",
   "execution_count": 47,
   "metadata": {
    "pycharm": {
     "name": "#%%\n"
    }
   },
   "outputs": [],
   "source": [
    "builder.hide_secondary_metabolites = True"
   ]
  },
  {
   "cell_type": "code",
   "execution_count": 45,
   "metadata": {
    "pycharm": {
     "name": "#%%\n"
    }
   },
   "outputs": [
    {
     "data": {
      "text/plain": [
       "{'ALCD1',\n",
       " 'FALDH2',\n",
       " 'FALGTHLs',\n",
       " 'G6PDH2r',\n",
       " 'GART',\n",
       " 'GND',\n",
       " 'PDH',\n",
       " 'PGCD',\n",
       " 'PGL',\n",
       " 'PSERT',\n",
       " 'PSP_L',\n",
       " 'SFGTHi'}"
      ]
     },
     "execution_count": 45,
     "metadata": {},
     "output_type": "execute_result"
    }
   ],
   "source": [
    "rxn_to_remove"
   ]
  },
  {
   "cell_type": "code",
   "execution_count": 56,
   "metadata": {
    "pycharm": {
     "name": "#%%\n"
    }
   },
   "outputs": [
    {
     "data": {
      "application/vnd.jupyter.widget-view+json": {
       "model_id": "7578b72c940a4daca54323af8888c1c3",
       "version_major": 2,
       "version_minor": 0
      },
      "text/plain": [
       "Builder(allow_building_duplicate_reactions=False, and_method_in_gene_reaction_rule='mean', cofactors=['atp', '…"
      ]
     },
     "metadata": {},
     "output_type": "display_data"
    }
   ],
   "source": [
    "builder"
   ]
  }
 ],
 "metadata": {
  "kernelspec": {
   "display_name": "Python 3 (ipykernel)",
   "language": "python",
   "name": "python3"
  },
  "language_info": {
   "codemirror_mode": {
    "name": "ipython",
    "version": 3
   },
   "file_extension": ".py",
   "mimetype": "text/x-python",
   "name": "python",
   "nbconvert_exporter": "python",
   "pygments_lexer": "ipython3",
   "version": "3.10.6"
  }
 },
 "nbformat": 4,
 "nbformat_minor": 1
}
