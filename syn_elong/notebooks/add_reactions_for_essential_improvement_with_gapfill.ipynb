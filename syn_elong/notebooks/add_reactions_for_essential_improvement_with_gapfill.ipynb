{
 "cells": [
  {
   "cell_type": "code",
   "execution_count": null,
   "id": "6b0774216cbae22e",
   "metadata": {
    "collapsed": false
   },
   "outputs": [],
   "source": [
    "import numpy as np\n",
    "import pandas as pd\n",
    "import seaborn as sns\n",
    "import matplotlib.pyplot as plt"
   ]
  },
  {
   "cell_type": "code",
   "outputs": [],
   "source": [
    "\n",
    "from concerto.utils import universal_model\n",
    "from cobra.flux_analysis.gapfilling import gapfill\n",
    "\n",
    "from memote.experimental.config import ExperimentConfiguration\n",
    "\n",
    "from syn_elong import model, exp_file_path as syn_pathfrom\n",
    "from syn_elong.media import min_media\n"
   ],
   "metadata": {
    "collapsed": false
   },
   "id": "5db432f8d3a1c760",
   "execution_count": 0
  },
  {
   "cell_type": "code",
   "outputs": [
    {
     "name": "stdout",
     "output_type": "stream",
     "text": [
      "Set parameter Username\n",
      "Set parameter GURO_PAR_SPECIAL\n",
      "Set parameter TokenServer to value \"leghorn\"\n"
     ]
    }
   ],
   "source": [
    "\n",
    "\n",
    "def create_ge_confusion_matrix(model, exp_file_path):\n",
    "    \"\"\"\n",
    "    Runs gene essentially for a model and creates a confusion matrix plot\n",
    "\n",
    "    Parameters\n",
    "    ----------\n",
    "    model : cobra.Model\n",
    "    exp_file_path : str\n",
    "        Path to experimental.yml file used by memote.\n",
    "\n",
    "    Returns\n",
    "    -------\n",
    "\n",
    "    \"\"\"\n",
    "    experiment_data = ExperimentConfiguration(exp_file_path).load(model)\n",
    "    cols = ['gene', 'essential']\n",
    "    ge_simulated = experiment_data.essentiality['knockouts'].evaluate(model)[cols].copy()\n",
    "    ge_experimental = experiment_data.essentiality['knockouts'].data[cols].copy()\n",
    "\n",
    "    ge_simulated.set_index('gene', inplace=True)\n",
    "    ge_experimental.set_index('gene', inplace=True)\n",
    "    ge_experimental['predicted'] = ge_experimental['essential'].astype(bool)\n",
    "    ge_simulated['actual'] = ge_simulated['essential'].astype(bool)\n",
    "    del ge_simulated['essential']\n",
    "    del ge_experimental['essential']\n",
    "    merged = pd.concat([ge_experimental, ge_simulated], axis=1)\n",
    "\n",
    "    tp = merged[~merged.actual & ~merged.predicted]\n",
    "    fp = merged[merged.actual & ~merged.predicted]\n",
    "    tn = merged[merged.actual & merged.predicted]\n",
    "    fn = merged[~merged.actual & merged.predicted]\n",
    "\n",
    "    conf_matrix = np.array(\n",
    "        [tp.shape[0],  fn.shape[0], fp.shape[0], tn.shape[0]]\n",
    "    ).reshape((2, 2))\n",
    "    g = sns.heatmap(conf_matrix, annot=True, fmt='0.0f', cmap='Reds', cbar=False)\n",
    "    g.set_xlabel(\"Actual Growth\");\n",
    "    g.set_ylabel(\"Predicted Growth\");\n",
    "    g.set_xticks([0.5, 1.5], ['+', '-']);\n",
    "    g.set_yticks([0.5, 1.5], ['+', '-']);\n",
    "\n",
    "    return {'TP': tp, 'FP': fp, 'FN': fn, 'TN': tn}\n",
    "\n",
    "\n"
   ],
   "metadata": {
    "pycharm": {
     "name": "#%%\n"
    }
   },
   "id": "cf8248f8",
   "execution_count": 1
  },
  {
   "cell_type": "code",
   "execution_count": 3,
   "id": "b2311be1",
   "metadata": {
    "pycharm": {
     "name": "#%%\n"
    }
   },
   "outputs": [],
   "source": [
    "# update to media with all wavelengths of light\n",
    "model.medium = min_media"
   ]
  },
  {
   "cell_type": "code",
   "execution_count": 5,
   "id": "f522ce3f",
   "metadata": {
    "pycharm": {
     "name": "#%%\n"
    }
   },
   "outputs": [
    {
     "data": {
      "text/plain": "<Figure size 640x480 with 1 Axes>",
      "image/png": "[encoded data removed]"
     },
     "metadata": {},
     "output_type": "display_data"
    }
   ],
   "source": [
    "results = create_ge_confusion_matrix(model, syn_pathfrom)\n",
    "plt.savefig(\"before_gapfill_after_update.png\")"
   ]
  },
  {
   "cell_type": "code",
   "execution_count": 6,
   "id": "85f10cb9",
   "metadata": {
    "pycharm": {
     "name": "#%%\n"
    }
   },
   "outputs": [
    {
     "data": {
      "text/plain": "array(['SYNPCC7942_RS00005', 'SYNPCC7942_RS00015', 'SYNPCC7942_RS00345',\n       'SYNPCC7942_RS00790', 'SYNPCC7942_RS00985', 'SYNPCC7942_RS01045',\n       'SYNPCC7942_RS01140', 'SYNPCC7942_RS01500', 'SYNPCC7942_RS01505',\n       'SYNPCC7942_RS01750', 'SYNPCC7942_RS01885', 'SYNPCC7942_RS02010',\n       'SYNPCC7942_RS02165', 'SYNPCC7942_RS02185', 'SYNPCC7942_RS02255',\n       'SYNPCC7942_RS13675', 'SYNPCC7942_RS02490', 'SYNPCC7942_RS02765',\n       'SYNPCC7942_RS02940', 'SYNPCC7942_RS02945', 'SYNPCC7942_RS03055',\n       'SYNPCC7942_RS03095', 'SYNPCC7942_RS03120', 'SYNPCC7942_RS03225',\n       'SYNPCC7942_RS03355', 'SYNPCC7942_RS03380', 'SYNPCC7942_RS03485',\n       'SYNPCC7942_RS03570', 'SYNPCC7942_RS04180', 'SYNPCC7942_RS04290',\n       'SYNPCC7942_RS04440', 'SYNPCC7942_RS04750', 'SYNPCC7942_RS04830',\n       'SYNPCC7942_RS04890', 'SYNPCC7942_RS05155', 'SYNPCC7942_RS05285',\n       'SYNPCC7942_RS05330', 'SYNPCC7942_RS05635', 'SYNPCC7942_RS05765',\n       'SYNPCC7942_RS13745', 'SYNPCC7942_RS06065', 'SYNPCC7942_RS06375',\n       'SYNPCC7942_RS06820', 'SYNPCC7942_RS06825', 'SYNPCC7942_RS07015',\n       'SYNPCC7942_RS07410', 'SYNPCC7942_RS08000', 'SYNPCC7942_RS08150',\n       'SYNPCC7942_RS08350', 'SYNPCC7942_RS08550', 'SYNPCC7942_RS08555',\n       'SYNPCC7942_RS13795', 'SYNPCC7942_RS09115', 'SYNPCC7942_RS09235',\n       'SYNPCC7942_RS09260', 'SYNPCC7942_RS09540', 'SYNPCC7942_RS09545',\n       'SYNPCC7942_RS09570', 'SYNPCC7942_RS09640', 'SYNPCC7942_RS09645',\n       'SYNPCC7942_RS09650', 'SYNPCC7942_RS09735', 'SYNPCC7942_RS09955',\n       'SYNPCC7942_RS10100', 'SYNPCC7942_RS10105', 'SYNPCC7942_RS10110',\n       'SYNPCC7942_RS10140', 'SYNPCC7942_RS10225', 'SYNPCC7942_RS10815',\n       'SYNPCC7942_RS10975', 'SYNPCC7942_RS11400', 'SYNPCC7942_RS11630',\n       'SYNPCC7942_RS11775', 'SYNPCC7942_RS12090', 'Synpcc7942_2454',\n       'SYNPCC7942_RS12590', 'SYNPCC7942_RS12670', 'SYNPCC7942_RS12715',\n       'SYNPCC7942_RS12725', 'SYNPCC7942_RS12785', 'SYNPCC7942_RS13245'],\n      dtype=object)"
     },
     "execution_count": 6,
     "metadata": {},
     "output_type": "execute_result"
    }
   ],
   "source": [
    "# access FP, FN, TP, TN\n",
    "results['FP'].index.values"
   ]
  },
  {
   "cell_type": "code",
   "execution_count": null,
   "id": "da8845c4",
   "metadata": {
    "pycharm": {
     "name": "#%%\n",
     "is_executing": true
    }
   },
   "outputs": [
    {
     "name": "stdout",
     "output_type": "stream",
     "text": [
      "Read LP format model from file C:\\Users\\pino216\\AppData\\Local\\Temp\\tmpygm5g962.lp\n",
      "Reading time = 0.02 seconds\n",
      ": 924 rows, 2030 columns, 8354 nonzeros\n",
      "Read LP format model from file C:\\Users\\pino216\\AppData\\Local\\Temp\\tmpaxfwz71z.lp\n",
      "Reading time = 0.25 seconds\n",
      ": 15638 rows, 56602 columns, 243784 nonzeros\n",
      "SYNPCC7942_RS00005 no go\n",
      "Read LP format model from file C:\\Users\\pino216\\AppData\\Local\\Temp\\tmppdhgwk39.lp\n",
      "Reading time = 0.01 seconds\n",
      ": 924 rows, 2030 columns, 8354 nonzeros\n",
      "Read LP format model from file C:\\Users\\pino216\\AppData\\Local\\Temp\\tmpb6rth227.lp\n",
      "Reading time = 0.17 seconds\n",
      ": 15638 rows, 56602 columns, 243784 nonzeros\n",
      "---- Run 1 ----\n",
      "PRFGS_1\n",
      "---- Run 2 ----\n",
      "PRFGS_1\n",
      "---- Run 3 ----\n",
      "PRFGS_1\n",
      "---- Run 4 ----\n",
      "PRFGS_1\n",
      "Read LP format model from file C:\\Users\\pino216\\AppData\\Local\\Temp\\tmpcu0_9_aa.lp\n",
      "Reading time = 0.01 seconds\n",
      ": 924 rows, 2030 columns, 8354 nonzeros\n",
      "Read LP format model from file C:\\Users\\pino216\\AppData\\Local\\Temp\\tmp1b2bt3z7.lp\n",
      "Reading time = 0.19 seconds\n",
      ": 15638 rows, 56602 columns, 243784 nonzeros\n"
     ]
    }
   ],
   "source": [
    "def find_rxns(model, universal_model, gene):\n",
    "    with model:\n",
    "        model.genes.get_by_id(gene).knock_out()\n",
    "        try:\n",
    "            result = gapfill(\n",
    "                model, \n",
    "                universal_model,\n",
    "                demand_reactions=False, \n",
    "                exchange_reactions =False,\n",
    "                iterations=4\n",
    "            )\n",
    "            for i, entries in enumerate(result):\n",
    "                print(\"---- Run %d ----\" % (i + 1))\n",
    "                for e in entries:\n",
    "                    print(e.id)\n",
    "        except:\n",
    "            print(f'{gene} no go')\n",
    "            return [{gene:None}]\n",
    "    return [{gene:result}]\n",
    "\n",
    "rxns = []\n",
    "for gene in results['FP'].index.values:\n",
    "    rxns += find_rxns(model, universal_model, gene)\n",
    "    "
   ]
  },
  {
   "cell_type": "code",
   "execution_count": null,
   "id": "29167a02",
   "metadata": {
    "pycharm": {
     "name": "#%%\n"
    }
   },
   "outputs": [],
   "source": [
    "rxns"
   ]
  },
  {
   "cell_type": "code",
   "execution_count": null,
   "id": "e5f61cbe",
   "metadata": {
    "pycharm": {
     "name": "#%%\n"
    }
   },
   "outputs": [],
   "source": [
    "rxns_to_add = set()\n",
    "for i in rxns:\n",
    "#     print(i)\n",
    "    for gene, rxn in i.items():\n",
    "        if rxn is not None:\n",
    "            good_rxns = [j.id for j in rxn[0]]\n",
    "            print(gene, good_rxns)\n",
    "            rxns_to_add.update(good_rxns)"
   ]
  },
  {
   "cell_type": "code",
   "execution_count": null,
   "id": "ad8211e0",
   "metadata": {
    "pycharm": {
     "name": "#%%\n"
    }
   },
   "outputs": [],
   "source": [
    "len(rxns_to_add)"
   ]
  },
  {
   "cell_type": "code",
   "execution_count": null,
   "id": "6fe453f0",
   "metadata": {
    "pycharm": {
     "name": "#%%\n"
    }
   },
   "outputs": [],
   "source": [
    "with open('rxns_to_add_for_ge.txt', 'w') as f:\n",
    "    for i in rxns_to_add:\n",
    "        f.writelines(i+'\\n')\n",
    "        print(i)\n",
    "        print(universal_model.reactions.get_by_id(i))"
   ]
  },
  {
   "cell_type": "code",
   "execution_count": null,
   "id": "41621c28",
   "metadata": {
    "pycharm": {
     "name": "#%%\n"
    }
   },
   "outputs": [],
   "source": [
    "actual_rxns = [universal_model.reactions.get_by_id(i) for i in rxns_to_add]"
   ]
  },
  {
   "cell_type": "code",
   "execution_count": 30,
   "id": "d4025267",
   "metadata": {
    "pycharm": {
     "name": "#%%\n"
    }
   },
   "outputs": [
    {
     "data": {
      "image/png": "[encoded data removed]",
      "text/plain": [
       "<Figure size 640x480 with 1 Axes>"
      ]
     },
     "metadata": {},
     "output_type": "display_data"
    }
   ],
   "source": [
    "with model:\n",
    "    model.add_reactions(actual_rxns)\n",
    "    create_ge_confusion_matrix(model, syn_pathfrom)\n",
    "    plt.savefig(\"after_gapfillafter_update.png\")"
   ]
  },
  {
   "cell_type": "code",
   "execution_count": null,
   "id": "70477ed4",
   "metadata": {
    "pycharm": {
     "name": "#%%\n"
    }
   },
   "outputs": [],
   "source": [
    "results = create_ge_confusion_matrix(model, syn_pathfrom"
   ]
  },
  {
   "cell_type": "code",
   "execution_count": null,
   "outputs": [],
   "source": [
    ")"
   ],
   "metadata": {
    "collapsed": false,
    "pycharm": {
     "name": "#%%\n"
    }
   },
   "id": "cc391650e410eb96"
  }
 ],
 "metadata": {
  "kernelspec": {
   "display_name": "Python 3 (ipykernel)",
   "language": "python",
   "name": "python3"
  },
  "language_info": {
   "codemirror_mode": {
    "name": "ipython",
    "version": 3
   },
   "file_extension": ".py",
   "mimetype": "text/x-python",
   "name": "python",
   "nbconvert_exporter": "python",
   "pygments_lexer": "ipython3",
   "version": "3.10.6"
  }
 },
 "nbformat": 4,
 "nbformat_minor": 5
}
