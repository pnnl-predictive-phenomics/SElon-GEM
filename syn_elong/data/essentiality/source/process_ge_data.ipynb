{
 "cells": [
  {
   "cell_type": "code",
   "execution_count": null,
   "metadata": {
    "pycharm": {
     "name": "#%%\n"
    }
   },
   "outputs": [],
   "source": [
    "import pandas as pd\n",
    "import re\n",
    "import os\n",
    "import numpy as np"
   ]
  },
  {
   "cell_type": "code",
   "execution_count": null,
   "metadata": {
    "pycharm": {
     "name": "#%%\n"
    }
   },
   "outputs": [
    {
     "name": "stdout",
     "output_type": "stream",
     "text": [
      "Set parameter Username\n",
      "Set parameter GURO_PAR_SPECIAL\n",
      "Set parameter TokenServer to value \"leghorn\"\n"
     ]
    }
   ],
   "source": [
    "from syn_elong import model as syn\n",
    "exchanges = set(i.id for i in syn.exchanges)\n",
    "genes = sorted([i.id for i in syn.genes])"
   ]
  },
  {
   "cell_type": "code",
   "execution_count": 4,
   "metadata": {
    "pycharm": {
     "name": "#%%\n"
    }
   },
   "outputs": [
    {
     "name": "stdout",
     "output_type": "stream",
     "text": [
      "Synpcc7942_2454\n",
      "Synpcc7942_0034\n",
      "Synpcc7942_0413\n",
      "Synpcc7942_1971\n",
      "Synpcc7942_2107\n",
      "Synpcc7942_2010\n",
      "Synpcc7942_1478\n",
      "Synpcc7942_0491\n",
      "Synpcc7942_0668\n"
     ]
    }
   ],
   "source": [
    "old_to_new = dict()\n",
    "for i in syn.genes:\n",
    "#     print(i.annotation['refseq_old_locus_tag'])\n",
    "    if 'refseq_old_locus_tag' in i.annotation:\n",
    "        old_to_new[i.annotation['refseq_old_locus_tag']] = i.id\n",
    "    else:\n",
    "        old_to_new[i.id] = i.id\n",
    "        print(i.id)"
   ]
  },
  {
   "cell_type": "code",
   "execution_count": 5,
   "metadata": {
    "pycharm": {
     "name": "#%%\n"
    }
   },
   "outputs": [
    {
     "name": "stderr",
     "output_type": "stream",
     "text": [
      "C:\\Users\\pino216\\Miniconda3\\envs\\whole-cell-gemm\\lib\\site-packages\\openpyxl\\worksheet\\_reader.py:312: UserWarning: Unknown extension is not supported and will be removed\n",
      "  warn(msg)\n"
     ]
    }
   ],
   "source": [
    "ge_data = pd.read_excel(\n",
    "    'pnas.1613446113.sd03_GENE_ESSENTIALITY.xlsx',\n",
    "    skiprows=11,\n",
    "    sheet_name='Full essentiality list'\n",
    ")"
   ]
  },
  {
   "cell_type": "code",
   "execution_count": 22,
   "metadata": {
    "pycharm": {
     "name": "#%%\n"
    }
   },
   "outputs": [
    {
     "data": {
      "text/plain": "              gene      essential\n0  Synpcc7942_0001  non-essential\n1  Synpcc7942_0003      ambiguous\n2  Synpcc7942_0004      essential\n3  Synpcc7942_0009      essential\n4  Synpcc7942_0017     beneficial",
      "text/html": "<div>\n<style scoped>\n    .dataframe tbody tr th:only-of-type {\n        vertical-align: middle;\n    }\n\n    .dataframe tbody tr th {\n        vertical-align: top;\n    }\n\n    .dataframe thead th {\n        text-align: right;\n    }\n</style>\n<table border=\"1\" class=\"dataframe\">\n  <thead>\n    <tr style=\"text-align: right;\">\n      <th></th>\n      <th>gene</th>\n      <th>essential</th>\n    </tr>\n  </thead>\n  <tbody>\n    <tr>\n      <th>0</th>\n      <td>Synpcc7942_0001</td>\n      <td>non-essential</td>\n    </tr>\n    <tr>\n      <th>1</th>\n      <td>Synpcc7942_0003</td>\n      <td>ambiguous</td>\n    </tr>\n    <tr>\n      <th>2</th>\n      <td>Synpcc7942_0004</td>\n      <td>essential</td>\n    </tr>\n    <tr>\n      <th>3</th>\n      <td>Synpcc7942_0009</td>\n      <td>essential</td>\n    </tr>\n    <tr>\n      <th>4</th>\n      <td>Synpcc7942_0017</td>\n      <td>beneficial</td>\n    </tr>\n  </tbody>\n</table>\n</div>"
     },
     "execution_count": 22,
     "metadata": {},
     "output_type": "execute_result"
    }
   ],
   "source": [
    "important_data = ge_data[['Gene ID', 'RB-TnSeq essentiality']].copy()\n",
    "important_data['gene'] = important_data['Gene ID']\n",
    "important_data['essential'] = important_data['RB-TnSeq essentiality']\n",
    "del important_data['RB-TnSeq essentiality']\n",
    "del important_data['Gene ID']\n",
    "important_data.head()"
   ]
  },
  {
   "cell_type": "code",
   "execution_count": 7,
   "metadata": {
    "pycharm": {
     "name": "#%%\n"
    }
   },
   "outputs": [],
   "source": [
    "important_data['gene'] = important_data['gene'].map(old_to_new)\n",
    "important_data.dropna(subset=['gene'], inplace=True)"
   ]
  },
  {
   "cell_type": "code",
   "execution_count": 8,
   "metadata": {
    "pycharm": {
     "name": "#%%\n"
    }
   },
   "outputs": [
    {
     "data": {
      "text/plain": "                 gene      essential\n0  SYNPCC7942_RS00005  non-essential\n1  SYNPCC7942_RS00015      ambiguous\n2  SYNPCC7942_RS00020      essential\n3  SYNPCC7942_RS00045      essential\n4  SYNPCC7942_RS00090     beneficial",
      "text/html": "<div>\n<style scoped>\n    .dataframe tbody tr th:only-of-type {\n        vertical-align: middle;\n    }\n\n    .dataframe tbody tr th {\n        vertical-align: top;\n    }\n\n    .dataframe thead th {\n        text-align: right;\n    }\n</style>\n<table border=\"1\" class=\"dataframe\">\n  <thead>\n    <tr style=\"text-align: right;\">\n      <th></th>\n      <th>gene</th>\n      <th>essential</th>\n    </tr>\n  </thead>\n  <tbody>\n    <tr>\n      <th>0</th>\n      <td>SYNPCC7942_RS00005</td>\n      <td>non-essential</td>\n    </tr>\n    <tr>\n      <th>1</th>\n      <td>SYNPCC7942_RS00015</td>\n      <td>ambiguous</td>\n    </tr>\n    <tr>\n      <th>2</th>\n      <td>SYNPCC7942_RS00020</td>\n      <td>essential</td>\n    </tr>\n    <tr>\n      <th>3</th>\n      <td>SYNPCC7942_RS00045</td>\n      <td>essential</td>\n    </tr>\n    <tr>\n      <th>4</th>\n      <td>SYNPCC7942_RS00090</td>\n      <td>beneficial</td>\n    </tr>\n  </tbody>\n</table>\n</div>"
     },
     "execution_count": 8,
     "metadata": {},
     "output_type": "execute_result"
    }
   ],
   "source": [
    "important_data.head()"
   ]
  },
  {
   "cell_type": "code",
   "execution_count": 9,
   "metadata": {
    "pycharm": {
     "name": "#%%\n"
    }
   },
   "outputs": [],
   "source": [
    "data_genes = sorted(important_data['gene'].values)"
   ]
  },
  {
   "cell_type": "code",
   "execution_count": 10,
   "metadata": {
    "pycharm": {
     "name": "#%%\n"
    }
   },
   "outputs": [
    {
     "data": {
      "text/plain": "['Synpcc7942_1478',\n 'Synpcc7942_1971',\n 'Synpcc7942_2010',\n 'Synpcc7942_2107',\n 'Synpcc7942_2454']"
     },
     "execution_count": 10,
     "metadata": {},
     "output_type": "execute_result"
    }
   ],
   "source": [
    "data_genes[-5:]"
   ]
  },
  {
   "cell_type": "code",
   "execution_count": 11,
   "metadata": {
    "pycharm": {
     "name": "#%%\n"
    }
   },
   "outputs": [
    {
     "name": "stdout",
     "output_type": "stream",
     "text": [
      "785\n",
      "0\n",
      "0\n"
     ]
    }
   ],
   "source": [
    "print(len(set(data_genes).intersection(genes)))\n",
    "print(len(set(data_genes).difference(genes)))\n",
    "print(len(set(genes).difference(data_genes)))"
   ]
  },
  {
   "cell_type": "code",
   "execution_count": 12,
   "metadata": {
    "pycharm": {
     "name": "#%%\n"
    }
   },
   "outputs": [
    {
     "data": {
      "text/plain": "set()"
     },
     "execution_count": 12,
     "metadata": {},
     "output_type": "execute_result"
    }
   ],
   "source": [
    "set(genes).difference(data_genes)"
   ]
  },
  {
   "cell_type": "code",
   "execution_count": 20,
   "metadata": {
    "pycharm": {
     "name": "#%%\n"
    }
   },
   "outputs": [
    {
     "data": {
      "text/plain": "                   gene essential\n0    SYNPCC7942_RS00005     False\n1    SYNPCC7942_RS00015     False\n2    SYNPCC7942_RS00020      True\n3    SYNPCC7942_RS00045      True\n4    SYNPCC7942_RS00090     False\n..                  ...       ...\n780  SYNPCC7942_RS13310     False\n781  SYNPCC7942_RS13425     False\n782  SYNPCC7942_RS13430     False\n783  SYNPCC7942_RS13375     False\n784  SYNPCC7942_RS13380     False\n\n[785 rows x 2 columns]",
      "text/html": "<div>\n<style scoped>\n    .dataframe tbody tr th:only-of-type {\n        vertical-align: middle;\n    }\n\n    .dataframe tbody tr th {\n        vertical-align: top;\n    }\n\n    .dataframe thead th {\n        text-align: right;\n    }\n</style>\n<table border=\"1\" class=\"dataframe\">\n  <thead>\n    <tr style=\"text-align: right;\">\n      <th></th>\n      <th>gene</th>\n      <th>essential</th>\n    </tr>\n  </thead>\n  <tbody>\n    <tr>\n      <th>0</th>\n      <td>SYNPCC7942_RS00005</td>\n      <td>False</td>\n    </tr>\n    <tr>\n      <th>1</th>\n      <td>SYNPCC7942_RS00015</td>\n      <td>False</td>\n    </tr>\n    <tr>\n      <th>2</th>\n      <td>SYNPCC7942_RS00020</td>\n      <td>True</td>\n    </tr>\n    <tr>\n      <th>3</th>\n      <td>SYNPCC7942_RS00045</td>\n      <td>True</td>\n    </tr>\n    <tr>\n      <th>4</th>\n      <td>SYNPCC7942_RS00090</td>\n      <td>False</td>\n    </tr>\n    <tr>\n      <th>...</th>\n      <td>...</td>\n      <td>...</td>\n    </tr>\n    <tr>\n      <th>780</th>\n      <td>SYNPCC7942_RS13310</td>\n      <td>False</td>\n    </tr>\n    <tr>\n      <th>781</th>\n      <td>SYNPCC7942_RS13425</td>\n      <td>False</td>\n    </tr>\n    <tr>\n      <th>782</th>\n      <td>SYNPCC7942_RS13430</td>\n      <td>False</td>\n    </tr>\n    <tr>\n      <th>783</th>\n      <td>SYNPCC7942_RS13375</td>\n      <td>False</td>\n    </tr>\n    <tr>\n      <th>784</th>\n      <td>SYNPCC7942_RS13380</td>\n      <td>False</td>\n    </tr>\n  </tbody>\n</table>\n<p>785 rows × 2 columns</p>\n</div>"
     },
     "execution_count": 20,
     "metadata": {},
     "output_type": "execute_result"
    }
   ],
   "source": [
    "important_data"
   ]
  },
  {
   "cell_type": "code",
   "execution_count": 14,
   "metadata": {
    "pycharm": {
     "name": "#%%\n"
    }
   },
   "outputs": [],
   "source": [
    "important_data.loc[~(important_data.essential == 'essential'), 'essential'] = False\n",
    "important_data.loc[important_data.essential == 'essential', 'essential'] = True"
   ]
  },
  {
   "cell_type": "code",
   "execution_count": 15,
   "metadata": {
    "pycharm": {
     "name": "#%%\n"
    }
   },
   "outputs": [
    {
     "data": {
      "text/plain": "                 gene essential\n0  SYNPCC7942_RS00005     False\n1  SYNPCC7942_RS00015     False\n2  SYNPCC7942_RS00020      True\n3  SYNPCC7942_RS00045      True\n4  SYNPCC7942_RS00090     False",
      "text/html": "<div>\n<style scoped>\n    .dataframe tbody tr th:only-of-type {\n        vertical-align: middle;\n    }\n\n    .dataframe tbody tr th {\n        vertical-align: top;\n    }\n\n    .dataframe thead th {\n        text-align: right;\n    }\n</style>\n<table border=\"1\" class=\"dataframe\">\n  <thead>\n    <tr style=\"text-align: right;\">\n      <th></th>\n      <th>gene</th>\n      <th>essential</th>\n    </tr>\n  </thead>\n  <tbody>\n    <tr>\n      <th>0</th>\n      <td>SYNPCC7942_RS00005</td>\n      <td>False</td>\n    </tr>\n    <tr>\n      <th>1</th>\n      <td>SYNPCC7942_RS00015</td>\n      <td>False</td>\n    </tr>\n    <tr>\n      <th>2</th>\n      <td>SYNPCC7942_RS00020</td>\n      <td>True</td>\n    </tr>\n    <tr>\n      <th>3</th>\n      <td>SYNPCC7942_RS00045</td>\n      <td>True</td>\n    </tr>\n    <tr>\n      <th>4</th>\n      <td>SYNPCC7942_RS00090</td>\n      <td>False</td>\n    </tr>\n  </tbody>\n</table>\n</div>"
     },
     "execution_count": 15,
     "metadata": {},
     "output_type": "execute_result"
    }
   ],
   "source": [
    "important_data.head()"
   ]
  },
  {
   "cell_type": "code",
   "execution_count": 16,
   "metadata": {
    "pycharm": {
     "name": "#%%\n"
    }
   },
   "outputs": [],
   "source": [
    "important_data.to_csv('../syn_elo_knockdown.csv', index=False)"
   ]
  },
  {
   "cell_type": "code",
   "execution_count": 17,
   "metadata": {
    "pycharm": {
     "name": "#%%\n"
    }
   },
   "outputs": [
    {
     "data": {
      "text/plain": "(785, 2)"
     },
     "execution_count": 17,
     "metadata": {},
     "output_type": "execute_result"
    }
   ],
   "source": [
    "important_data.shape"
   ]
  },
  {
   "cell_type": "code",
   "execution_count": 18,
   "outputs": [],
   "source": [
    "another = pd.read_excel('Table 2_GROWTH_RESULTS.XLSX')"
   ],
   "metadata": {
    "collapsed": false,
    "pycharm": {
     "name": "#%%\n"
    }
   }
  },
  {
   "cell_type": "code",
   "execution_count": 19,
   "outputs": [
    {
     "data": {
      "text/plain": "                  ids  growth in silico  Unnamed: 2 growth in vivo\n0     Synpcc7942_0001      0.000000e+00         NaN  non-essential\n1     Synpcc7942_0003      8.052915e-13         NaN      ambiguous\n2     Synpcc7942_0004      7.953535e-13         NaN      essential\n3     Synpcc7942_0009      0.000000e+00         NaN      essential\n4     Synpcc7942_0015      1.021737e-01         NaN  non-essential\n..                ...               ...         ...            ...\n832  Synpcc7942_B2623      1.021729e-01         NaN  non-essential\n833  Synpcc7942_B2624      1.021737e-01         NaN  non-essential\n834  Synpcc7942_B2633      1.021737e-01         NaN  non-essential\n835  Synpcc7942_B2663      1.021737e-01         NaN  non-essential\n836  Synpcc7942_B2664      1.021729e-01         NaN  non-essential\n\n[837 rows x 4 columns]",
      "text/html": "<div>\n<style scoped>\n    .dataframe tbody tr th:only-of-type {\n        vertical-align: middle;\n    }\n\n    .dataframe tbody tr th {\n        vertical-align: top;\n    }\n\n    .dataframe thead th {\n        text-align: right;\n    }\n</style>\n<table border=\"1\" class=\"dataframe\">\n  <thead>\n    <tr style=\"text-align: right;\">\n      <th></th>\n      <th>ids</th>\n      <th>growth in silico</th>\n      <th>Unnamed: 2</th>\n      <th>growth in vivo</th>\n    </tr>\n  </thead>\n  <tbody>\n    <tr>\n      <th>0</th>\n      <td>Synpcc7942_0001</td>\n      <td>0.000000e+00</td>\n      <td>NaN</td>\n      <td>non-essential</td>\n    </tr>\n    <tr>\n      <th>1</th>\n      <td>Synpcc7942_0003</td>\n      <td>8.052915e-13</td>\n      <td>NaN</td>\n      <td>ambiguous</td>\n    </tr>\n    <tr>\n      <th>2</th>\n      <td>Synpcc7942_0004</td>\n      <td>7.953535e-13</td>\n      <td>NaN</td>\n      <td>essential</td>\n    </tr>\n    <tr>\n      <th>3</th>\n      <td>Synpcc7942_0009</td>\n      <td>0.000000e+00</td>\n      <td>NaN</td>\n      <td>essential</td>\n    </tr>\n    <tr>\n      <th>4</th>\n      <td>Synpcc7942_0015</td>\n      <td>1.021737e-01</td>\n      <td>NaN</td>\n      <td>non-essential</td>\n    </tr>\n    <tr>\n      <th>...</th>\n      <td>...</td>\n      <td>...</td>\n      <td>...</td>\n      <td>...</td>\n    </tr>\n    <tr>\n      <th>832</th>\n      <td>Synpcc7942_B2623</td>\n      <td>1.021729e-01</td>\n      <td>NaN</td>\n      <td>non-essential</td>\n    </tr>\n    <tr>\n      <th>833</th>\n      <td>Synpcc7942_B2624</td>\n      <td>1.021737e-01</td>\n      <td>NaN</td>\n      <td>non-essential</td>\n    </tr>\n    <tr>\n      <th>834</th>\n      <td>Synpcc7942_B2633</td>\n      <td>1.021737e-01</td>\n      <td>NaN</td>\n      <td>non-essential</td>\n    </tr>\n    <tr>\n      <th>835</th>\n      <td>Synpcc7942_B2663</td>\n      <td>1.021737e-01</td>\n      <td>NaN</td>\n      <td>non-essential</td>\n    </tr>\n    <tr>\n      <th>836</th>\n      <td>Synpcc7942_B2664</td>\n      <td>1.021729e-01</td>\n      <td>NaN</td>\n      <td>non-essential</td>\n    </tr>\n  </tbody>\n</table>\n<p>837 rows × 4 columns</p>\n</div>"
     },
     "execution_count": 19,
     "metadata": {},
     "output_type": "execute_result"
    }
   ],
   "source": [
    "another"
   ],
   "metadata": {
    "collapsed": false,
    "pycharm": {
     "name": "#%%\n"
    }
   }
  },
  {
   "cell_type": "code",
   "execution_count": 23,
   "outputs": [
    {
     "data": {
      "text/plain": "                 gene      essential\n0     Synpcc7942_0001  non-essential\n1     Synpcc7942_0003      ambiguous\n2     Synpcc7942_0004      essential\n3     Synpcc7942_0009      essential\n4     Synpcc7942_0017     beneficial\n..                ...            ...\n780   Synpcc7942_2613  non-essential\n781  Synpcc7942_B2623  non-essential\n782  Synpcc7942_B2624  non-essential\n783  Synpcc7942_B2663  non-essential\n784  Synpcc7942_B2664  non-essential\n\n[785 rows x 2 columns]",
      "text/html": "<div>\n<style scoped>\n    .dataframe tbody tr th:only-of-type {\n        vertical-align: middle;\n    }\n\n    .dataframe tbody tr th {\n        vertical-align: top;\n    }\n\n    .dataframe thead th {\n        text-align: right;\n    }\n</style>\n<table border=\"1\" class=\"dataframe\">\n  <thead>\n    <tr style=\"text-align: right;\">\n      <th></th>\n      <th>gene</th>\n      <th>essential</th>\n    </tr>\n  </thead>\n  <tbody>\n    <tr>\n      <th>0</th>\n      <td>Synpcc7942_0001</td>\n      <td>non-essential</td>\n    </tr>\n    <tr>\n      <th>1</th>\n      <td>Synpcc7942_0003</td>\n      <td>ambiguous</td>\n    </tr>\n    <tr>\n      <th>2</th>\n      <td>Synpcc7942_0004</td>\n      <td>essential</td>\n    </tr>\n    <tr>\n      <th>3</th>\n      <td>Synpcc7942_0009</td>\n      <td>essential</td>\n    </tr>\n    <tr>\n      <th>4</th>\n      <td>Synpcc7942_0017</td>\n      <td>beneficial</td>\n    </tr>\n    <tr>\n      <th>...</th>\n      <td>...</td>\n      <td>...</td>\n    </tr>\n    <tr>\n      <th>780</th>\n      <td>Synpcc7942_2613</td>\n      <td>non-essential</td>\n    </tr>\n    <tr>\n      <th>781</th>\n      <td>Synpcc7942_B2623</td>\n      <td>non-essential</td>\n    </tr>\n    <tr>\n      <th>782</th>\n      <td>Synpcc7942_B2624</td>\n      <td>non-essential</td>\n    </tr>\n    <tr>\n      <th>783</th>\n      <td>Synpcc7942_B2663</td>\n      <td>non-essential</td>\n    </tr>\n    <tr>\n      <th>784</th>\n      <td>Synpcc7942_B2664</td>\n      <td>non-essential</td>\n    </tr>\n  </tbody>\n</table>\n<p>785 rows × 2 columns</p>\n</div>"
     },
     "execution_count": 23,
     "metadata": {},
     "output_type": "execute_result"
    }
   ],
   "source": [
    "important_data"
   ],
   "metadata": {
    "collapsed": false,
    "pycharm": {
     "name": "#%%\n"
    }
   }
  },
  {
   "cell_type": "code",
   "execution_count": null,
   "outputs": [],
   "source": [],
   "metadata": {
    "collapsed": false,
    "pycharm": {
     "name": "#%%\n"
    }
   }
  }
 ],
 "metadata": {
  "kernelspec": {
   "display_name": "Python 3 (ipykernel)",
   "language": "python",
   "name": "python3"
  },
  "language_info": {
   "codemirror_mode": {
    "name": "ipython",
    "version": 3
   },
   "file_extension": ".py",
   "mimetype": "text/x-python",
   "name": "python",
   "nbconvert_exporter": "python",
   "pygments_lexer": "ipython3",
   "version": "3.10.6"
  }
 },
 "nbformat": 4,
 "nbformat_minor": 1
}